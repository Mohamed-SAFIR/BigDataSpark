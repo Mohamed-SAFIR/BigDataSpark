{
 "cells": [
  {
   "cell_type": "markdown",
   "metadata": {},
   "source": [
    "# Suicide_Rates_Overview_1985_to_2016"
   ]
  },
  {
   "cell_type": "markdown",
   "metadata": {},
   "source": [
    "## Contenu\n",
    "Cet ensemble de données compilé tiré de quatre autres ensembles de données liés par le temps et le lieu, et a été construit pour trouver des signaux corrélés à l'augmentation des taux de suicide parmi différentes cohortes à l'échelle mondiale, à travers le spectre socio-économique."
   ]
  },
  {
   "cell_type": "markdown",
   "metadata": {},
   "source": [
    "# 1) importation des librairies"
   ]
  },
  {
   "cell_type": "code",
   "execution_count": 5,
   "metadata": {},
   "outputs": [],
   "source": [
    "import pandas as pd\n",
    "import numpy as np\n",
    "import matplotlib.pyplot as plt\n",
    "import seaborn as sb\n",
    "import plotly as py\n",
    "import plotly.graph_objs as go\n",
    "# Chargement de spark\n",
    "from pyspark.sql import SparkSession\n",
    "spark = SparkSession.builder.getOrCreate()"
   ]
  },
  {
   "cell_type": "markdown",
   "metadata": {},
   "source": [
    "# 2) Lecture brute du fichier "
   ]
  },
  {
   "cell_type": "code",
   "execution_count": 24,
   "metadata": {},
   "outputs": [
    {
     "name": "stdout",
     "output_type": "stream",
     "text": [
      "root\n",
      " |-- country: string (nullable = true)\n",
      " |-- year: integer (nullable = true)\n",
      " |-- sex: string (nullable = true)\n",
      " |-- age: string (nullable = true)\n",
      " |-- suicides_no: integer (nullable = true)\n",
      " |-- population: integer (nullable = true)\n",
      " |-- suicides/100k pop: double (nullable = true)\n",
      " |-- country-year: string (nullable = true)\n",
      " |-- HDI for year: double (nullable = true)\n",
      " |--  gdp_for_year ($) : string (nullable = true)\n",
      " |-- gdp_per_capita ($): integer (nullable = true)\n",
      " |-- generation: string (nullable = true)\n",
      "\n"
     ]
    }
   ],
   "source": [
    "path = \"suicide.csv\" # le chemin du fichier csv\n",
    "df = spark.read.format('csv').options(header=True,inferSchema=True).load(path)\n",
    "df.printSchema()"
   ]
  },
  {
   "cell_type": "code",
   "execution_count": 25,
   "metadata": {},
   "outputs": [
    {
     "name": "stdout",
     "output_type": "stream",
     "text": [
      "root\n",
      " |-- country: string (nullable = true)\n",
      " |-- year: integer (nullable = true)\n",
      " |-- sex: string (nullable = true)\n",
      " |-- age: string (nullable = true)\n",
      " |-- suicides_no: integer (nullable = true)\n",
      " |-- population: integer (nullable = true)\n",
      " |-- suicides/100k pop: double (nullable = true)\n",
      " |--  gdp_for_year ($) : string (nullable = true)\n",
      " |-- gdp_per_capita ($): integer (nullable = true)\n",
      "\n"
     ]
    }
   ],
   "source": [
    "# Suppression des colomnes qu'on utilisera pas\n",
    "df = df.drop(\"country-year\",\"HDI for year\",\"generation\")\n",
    "df.printSchema()"
   ]
  },
  {
   "cell_type": "code",
   "execution_count": 26,
   "metadata": {},
   "outputs": [
    {
     "name": "stdout",
     "output_type": "stream",
     "text": [
      "+-------+----+------+-----------+-----------+----------+-----------------+------------------+------------------+\n",
      "|country|year|   sex|        age|suicides_no|population|suicides/100k pop| gdp_for_year ($) |gdp_per_capita ($)|\n",
      "+-------+----+------+-----------+-----------+----------+-----------------+------------------+------------------+\n",
      "|Albania|1987|  male|15-24 years|         21|    312900|             6.71|     2,156,624,900|               796|\n",
      "|Albania|1987|  male|35-54 years|         16|    308000|             5.19|     2,156,624,900|               796|\n",
      "|Albania|1987|female|15-24 years|         14|    289700|             4.83|     2,156,624,900|               796|\n",
      "|Albania|1987|  male|  75+ years|          1|     21800|             4.59|     2,156,624,900|               796|\n",
      "|Albania|1987|  male|25-34 years|          9|    274300|             3.28|     2,156,624,900|               796|\n",
      "|Albania|1987|female|  75+ years|          1|     35600|             2.81|     2,156,624,900|               796|\n",
      "|Albania|1987|female|35-54 years|          6|    278800|             2.15|     2,156,624,900|               796|\n",
      "|Albania|1987|female|25-34 years|          4|    257200|             1.56|     2,156,624,900|               796|\n",
      "|Albania|1987|  male|55-74 years|          1|    137500|             0.73|     2,156,624,900|               796|\n",
      "|Albania|1987|female| 5-14 years|          0|    311000|              0.0|     2,156,624,900|               796|\n",
      "+-------+----+------+-----------+-----------+----------+-----------------+------------------+------------------+\n",
      "only showing top 10 rows\n",
      "\n"
     ]
    }
   ],
   "source": [
    "# Affichage des 10 premières ligne du fichier csv\n",
    "df.show(10)"
   ]
  },
  {
   "cell_type": "code",
   "execution_count": null,
   "metadata": {},
   "outputs": [],
   "source": []
  },
  {
   "cell_type": "code",
   "execution_count": null,
   "metadata": {},
   "outputs": [],
   "source": []
  },
  {
   "cell_type": "code",
   "execution_count": null,
   "metadata": {},
   "outputs": [],
   "source": []
  },
  {
   "cell_type": "code",
   "execution_count": null,
   "metadata": {},
   "outputs": [],
   "source": []
  },
  {
   "cell_type": "code",
   "execution_count": null,
   "metadata": {},
   "outputs": [],
   "source": []
  },
  {
   "cell_type": "code",
   "execution_count": null,
   "metadata": {},
   "outputs": [],
   "source": []
  },
  {
   "cell_type": "code",
   "execution_count": null,
   "metadata": {},
   "outputs": [],
   "source": []
  },
  {
   "cell_type": "code",
   "execution_count": null,
   "metadata": {},
   "outputs": [],
   "source": []
  },
  {
   "cell_type": "code",
   "execution_count": null,
   "metadata": {},
   "outputs": [],
   "source": []
  },
  {
   "cell_type": "code",
   "execution_count": null,
   "metadata": {},
   "outputs": [],
   "source": []
  },
  {
   "cell_type": "code",
   "execution_count": null,
   "metadata": {},
   "outputs": [],
   "source": []
  },
  {
   "cell_type": "code",
   "execution_count": null,
   "metadata": {},
   "outputs": [],
   "source": []
  }
 ],
 "metadata": {
  "kernelspec": {
   "display_name": "Python 3",
   "language": "python",
   "name": "python3"
  },
  "language_info": {
   "codemirror_mode": {
    "name": "ipython",
    "version": 3
   },
   "file_extension": ".py",
   "mimetype": "text/x-python",
   "name": "python",
   "nbconvert_exporter": "python",
   "pygments_lexer": "ipython3",
   "version": "3.8.3"
  }
 },
 "nbformat": 4,
 "nbformat_minor": 4
}
