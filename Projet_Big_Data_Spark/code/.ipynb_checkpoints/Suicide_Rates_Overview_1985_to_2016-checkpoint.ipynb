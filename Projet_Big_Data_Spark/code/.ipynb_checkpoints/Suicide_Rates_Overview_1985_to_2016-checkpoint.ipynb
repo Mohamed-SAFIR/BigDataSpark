{
 "cells": [
  {
   "cell_type": "markdown",
   "metadata": {},
   "source": [
    "# Suicide_Rates_Overview_1985_to_2016"
   ]
  },
  {
   "cell_type": "markdown",
   "metadata": {},
   "source": [
    "## Contenu\n",
    "Cet ensemble de données compilé tiré de quatre autres ensembles de données liés par le temps et le lieu, et a été construit pour trouver des signaux corrélés à l'augmentation des taux de suicide parmi différentes cohortes à l'échelle mondiale, à travers le spectre socio-économique."
   ]
  },
  {
   "cell_type": "markdown",
   "metadata": {},
   "source": [
    "\n",
    "\n",
    "\n",
    "# 1) importation des librairies"
   ]
  },
  {
   "cell_type": "code",
   "execution_count": 161,
   "metadata": {},
   "outputs": [],
   "source": [
    "import pandas as pd\n",
    "import numpy as np\n",
    "import matplotlib.pyplot as plt\n",
    "import seaborn as sb\n",
    "import plotly as py\n",
    "import plotly.graph_objs as go\n",
    "# Chargement de spark\n",
    "from pyspark.sql import SparkSession\n",
    "spark = SparkSession.builder.getOrCreate()"
   ]
  },
  {
   "cell_type": "markdown",
   "metadata": {},
   "source": [
    "# 2) Ecriture du dataframe sur le disque"
   ]
  },
  {
   "cell_type": "code",
   "execution_count": 162,
   "metadata": {},
   "outputs": [],
   "source": [
    "# Lecture du fichier csv avec la librairie pandas\n",
    "df_pandas= pd.read_csv('../data/suicide.csv')"
   ]
  },
  {
   "cell_type": "code",
   "execution_count": 163,
   "metadata": {},
   "outputs": [],
   "source": [
    "# Spliter les pays et Créer pour chaque pays son fichier csv avec ses propores données \n",
    "# et les enregistrer sur le disque\n",
    "list_pays=df_pandas['country'].unique()\n",
    "for tab in list_pays:\n",
    "    df_albania=df_pandas[df_pandas['country']==tab]\n",
    "    df_albania.to_csv(f'../content/{tab}.csv')"
   ]
  },
  {
   "cell_type": "markdown",
   "metadata": {},
   "source": [
    "\n",
    "\n",
    "\n",
    "# 3) Lecture brute du fichier "
   ]
  },
  {
   "cell_type": "code",
   "execution_count": 164,
   "metadata": {},
   "outputs": [
    {
     "name": "stdout",
     "output_type": "stream",
     "text": [
      "root\n",
      " |-- country: string (nullable = true)\n",
      " |-- year: integer (nullable = true)\n",
      " |-- sex: string (nullable = true)\n",
      " |-- age: string (nullable = true)\n",
      " |-- suicides_no: integer (nullable = true)\n",
      " |-- population: integer (nullable = true)\n",
      " |-- suicides/100k pop: double (nullable = true)\n",
      " |-- country-year: string (nullable = true)\n",
      " |-- HDI for year: double (nullable = true)\n",
      " |--  gdp_for_year ($) : string (nullable = true)\n",
      " |-- gdp_per_capita ($): integer (nullable = true)\n",
      " |-- generation: string (nullable = true)\n",
      "\n"
     ]
    }
   ],
   "source": [
    "# Lecture du fichier csv avec la librairie pyspark \n",
    "path = \"../data/suicide.csv\" # le chemin du fichier csv\n",
    "df = spark.read.format('csv').options(header=True,inferSchema=True).load(path)\n",
    "df.printSchema()"
   ]
  },
  {
   "cell_type": "code",
   "execution_count": 165,
   "metadata": {},
   "outputs": [
    {
     "name": "stdout",
     "output_type": "stream",
     "text": [
      "root\n",
      " |-- country: string (nullable = true)\n",
      " |-- year: integer (nullable = true)\n",
      " |-- sex: string (nullable = true)\n",
      " |-- age: string (nullable = true)\n",
      " |-- suicides_no: integer (nullable = true)\n",
      " |-- population: integer (nullable = true)\n",
      " |-- suicides/100k pop: double (nullable = true)\n",
      " |--  gdp_for_year ($) : string (nullable = true)\n",
      " |-- gdp_per_capita ($): integer (nullable = true)\n",
      "\n"
     ]
    },
    {
     "data": {
      "text/plain": [
       "27820"
      ]
     },
     "execution_count": 165,
     "metadata": {},
     "output_type": "execute_result"
    }
   ],
   "source": [
    "# Suppression des colonnes qu'on utilisera pas\n",
    "df = df.drop(\"country-year\",\"HDI for year\",\"generation\")\n",
    "df.printSchema()\n",
    "df.count()"
   ]
  },
  {
   "cell_type": "code",
   "execution_count": 166,
   "metadata": {},
   "outputs": [
    {
     "name": "stdout",
     "output_type": "stream",
     "text": [
      "+-------+----+------+-----------+-----------+----------+-----------------+------------------+------------------+\n",
      "|country|year|   sex|        age|suicides_no|population|suicides/100k pop| gdp_for_year ($) |gdp_per_capita ($)|\n",
      "+-------+----+------+-----------+-----------+----------+-----------------+------------------+------------------+\n",
      "|Albania|1987|  male|15-24 years|         21|    312900|             6.71|     2,156,624,900|               796|\n",
      "|Albania|1987|  male|35-54 years|         16|    308000|             5.19|     2,156,624,900|               796|\n",
      "|Albania|1987|female|15-24 years|         14|    289700|             4.83|     2,156,624,900|               796|\n",
      "|Albania|1987|  male|  75+ years|          1|     21800|             4.59|     2,156,624,900|               796|\n",
      "|Albania|1987|  male|25-34 years|          9|    274300|             3.28|     2,156,624,900|               796|\n",
      "|Albania|1987|female|  75+ years|          1|     35600|             2.81|     2,156,624,900|               796|\n",
      "|Albania|1987|female|35-54 years|          6|    278800|             2.15|     2,156,624,900|               796|\n",
      "|Albania|1987|female|25-34 years|          4|    257200|             1.56|     2,156,624,900|               796|\n",
      "|Albania|1987|  male|55-74 years|          1|    137500|             0.73|     2,156,624,900|               796|\n",
      "|Albania|1987|female| 5-14 years|          0|    311000|              0.0|     2,156,624,900|               796|\n",
      "+-------+----+------+-----------+-----------+----------+-----------------+------------------+------------------+\n",
      "only showing top 10 rows\n",
      "\n"
     ]
    }
   ],
   "source": [
    "# Affichage des 10 premières ligne du fichier csv\n",
    "df.show(10)"
   ]
  },
  {
   "cell_type": "markdown",
   "metadata": {},
   "source": [
    "# 4) Transformer des données & calculer des résultats"
   ]
  },
  {
   "cell_type": "code",
   "execution_count": 167,
   "metadata": {},
   "outputs": [
    {
     "data": {
      "text/plain": [
       "101"
      ]
     },
     "execution_count": 167,
     "metadata": {},
     "output_type": "execute_result"
    }
   ],
   "source": [
    "# Création d'un dataframe df_country qui affiche le nombre de suicide pour chaque pays de 1985 à 2016\n",
    "df_country = df.groupBy(\"country\").agg({\"suicides_no\" : \"sum\"})\n",
    "df_country.count()"
   ]
  },
  {
   "cell_type": "code",
   "execution_count": 168,
   "metadata": {},
   "outputs": [],
   "source": [
    "# On renomme la colonne de sum(suicide_no) par nbr_suicide\n",
    "df_country = df_country.withColumnRenamed(\"sum(suicides_no)\",\"nbr_suicide\")"
   ]
  },
  {
   "cell_type": "code",
   "execution_count": 169,
   "metadata": {},
   "outputs": [
    {
     "name": "stdout",
     "output_type": "stream",
     "text": [
      "root\n",
      " |-- country: string (nullable = true)\n",
      " |-- nbr_suicide: long (nullable = true)\n",
      "\n"
     ]
    }
   ],
   "source": [
    "df_country.printSchema()"
   ]
  },
  {
   "cell_type": "code",
   "execution_count": 170,
   "metadata": {},
   "outputs": [
    {
     "name": "stdout",
     "output_type": "stream",
     "text": [
      "+--------------------+-----------+\n",
      "|             country|nbr_suicide|\n",
      "+--------------------+-----------+\n",
      "|             Albania|       1970|\n",
      "| Antigua and Barbuda|         11|\n",
      "|           Argentina|      82219|\n",
      "|             Armenia|       1905|\n",
      "|               Aruba|        101|\n",
      "|           Australia|      70111|\n",
      "|             Austria|      50073|\n",
      "|          Azerbaijan|       1656|\n",
      "|             Bahamas|         93|\n",
      "|             Bahrain|        463|\n",
      "|            Barbados|        177|\n",
      "|             Belarus|      59892|\n",
      "|             Belgium|      62761|\n",
      "|              Belize|        348|\n",
      "|Bosnia and Herzeg...|        318|\n",
      "|              Brazil|     226613|\n",
      "|            Bulgaria|      36388|\n",
      "|          Cabo Verde|         42|\n",
      "|              Canada|     107561|\n",
      "|               Chile|      40895|\n",
      "|            Colombia|      53080|\n",
      "|          Costa Rica|       6792|\n",
      "|             Croatia|      18429|\n",
      "|                Cuba|      41418|\n",
      "|              Cyprus|        412|\n",
      "|      Czech Republic|      43687|\n",
      "|             Denmark|      15297|\n",
      "|            Dominica|          0|\n",
      "|             Ecuador|      20660|\n",
      "|         El Salvador|      11683|\n",
      "|             Estonia|       7034|\n",
      "|                Fiji|        304|\n",
      "|             Finland|      33677|\n",
      "|              France|     329127|\n",
      "|             Georgia|       3224|\n",
      "|             Germany|     291262|\n",
      "|              Greece|      12368|\n",
      "|             Grenada|         38|\n",
      "|           Guatemala|       8149|\n",
      "|              Guyana|       3426|\n",
      "|             Hungary|      73891|\n",
      "|             Iceland|       1108|\n",
      "|             Ireland|      12574|\n",
      "|              Israel|      11294|\n",
      "|               Italy|     132060|\n",
      "|             Jamaica|        184|\n",
      "|               Japan|     806902|\n",
      "|          Kazakhstan|     101546|\n",
      "|            Kiribati|         53|\n",
      "|              Kuwait|        966|\n",
      "|          Kyrgyzstan|      13090|\n",
      "|              Latvia|      12770|\n",
      "|           Lithuania|      28039|\n",
      "|          Luxembourg|       1958|\n",
      "|               Macau|         27|\n",
      "|            Maldives|         20|\n",
      "|               Malta|        585|\n",
      "|           Mauritius|       3894|\n",
      "|              Mexico|     111139|\n",
      "|            Mongolia|        423|\n",
      "|          Montenegro|        472|\n",
      "|         Netherlands|      50833|\n",
      "|         New Zealand|      14383|\n",
      "|           Nicaragua|       2013|\n",
      "|              Norway|      16992|\n",
      "|                Oman|         33|\n",
      "|              Panama|       3483|\n",
      "|            Paraguay|       4783|\n",
      "|         Philippines|      21330|\n",
      "|              Poland|     139098|\n",
      "|            Portugal|      24061|\n",
      "|         Puerto Rico|       9043|\n",
      "|               Qatar|        574|\n",
      "|   Republic of Korea|     261730|\n",
      "|             Romania|      72777|\n",
      "|  Russian Federation|    1209742|\n",
      "|Saint Kitts and N...|          0|\n",
      "|         Saint Lucia|        230|\n",
      "|Saint Vincent and...|        124|\n",
      "|          San Marino|          4|\n",
      "|              Serbia|      24179|\n",
      "|          Seychelles|         98|\n",
      "|           Singapore|      10089|\n",
      "|            Slovakia|      13437|\n",
      "|            Slovenia|      10615|\n",
      "|        South Africa|       7321|\n",
      "|               Spain|     100202|\n",
      "|           Sri Lanka|      55641|\n",
      "|            Suriname|       2166|\n",
      "|              Sweden|      37795|\n",
      "|         Switzerland|      26217|\n",
      "|            Thailand|     110643|\n",
      "| Trinidad and Tobago|       4039|\n",
      "|              Turkey|      10131|\n",
      "|        Turkmenistan|       8624|\n",
      "|             Ukraine|     319950|\n",
      "|United Arab Emirates|        622|\n",
      "|      United Kingdom|     136805|\n",
      "|       United States|    1034013|\n",
      "|             Uruguay|      13138|\n",
      "|          Uzbekistan|      34803|\n",
      "+--------------------+-----------+\n",
      "\n",
      "root\n",
      " |-- country: string (nullable = true)\n",
      " |-- nbr_suicide: long (nullable = true)\n",
      "\n"
     ]
    }
   ],
   "source": [
    "# Affichage du dataframe df_country dans l'ordre croissant des pays\n",
    "df_country = df_country.orderBy(\"country\")\n",
    "df_country.show(101)\n",
    "df_country.printSchema()"
   ]
  },
  {
   "cell_type": "code",
   "execution_count": 171,
   "metadata": {},
   "outputs": [
    {
     "name": "stdout",
     "output_type": "stream",
     "text": [
      "+--------------------+-----------+\n",
      "|             country|nbr_suicide|\n",
      "+--------------------+-----------+\n",
      "| Antigua and Barbuda|         11|\n",
      "|               Aruba|        101|\n",
      "|             Bahamas|         93|\n",
      "|             Bahrain|        463|\n",
      "|            Barbados|        177|\n",
      "|              Belize|        348|\n",
      "|Bosnia and Herzeg...|        318|\n",
      "|          Cabo Verde|         42|\n",
      "|              Cyprus|        412|\n",
      "|            Dominica|          0|\n",
      "|                Fiji|        304|\n",
      "|             Grenada|         38|\n",
      "|             Jamaica|        184|\n",
      "|            Kiribati|         53|\n",
      "|              Kuwait|        966|\n",
      "|               Macau|         27|\n",
      "|            Maldives|         20|\n",
      "|               Malta|        585|\n",
      "|            Mongolia|        423|\n",
      "|          Montenegro|        472|\n",
      "|                Oman|         33|\n",
      "|               Qatar|        574|\n",
      "|Saint Kitts and N...|          0|\n",
      "|         Saint Lucia|        230|\n",
      "|Saint Vincent and...|        124|\n",
      "|          San Marino|          4|\n",
      "|          Seychelles|         98|\n",
      "|United Arab Emirates|        622|\n",
      "+--------------------+-----------+\n",
      "\n"
     ]
    }
   ],
   "source": [
    "# Affichage des pays qui ont le nombre de suicides est inférieure à 1000 entre 1985 et 2016\n",
    "df_country.filter(\"nbr_suicide <1000 \").show(28)"
   ]
  },
  {
   "cell_type": "code",
   "execution_count": 172,
   "metadata": {},
   "outputs": [
    {
     "data": {
      "text/plain": [
       "202"
      ]
     },
     "execution_count": 172,
     "metadata": {},
     "output_type": "execute_result"
    }
   ],
   "source": [
    "# Création d'un dataframe df_country_sex qui affiche le nombre de suicide pour chaque pays et pour chaque sexe\n",
    "# de 1985 à 2016\n",
    "df_country_sex = df.groupBy(\"country\" , \"sex\").agg({\"suicides_no\" : \"sum\"})\n",
    "# On renomme la colonne de sum(suicide_no) par nbr_suicide\n",
    "df_country_sex = df_country_sex.withColumnRenamed(\"sum(suicides_no)\",\"nbr_suicide\")\n",
    "df_country_sex.count()"
   ]
  },
  {
   "cell_type": "code",
   "execution_count": 173,
   "metadata": {},
   "outputs": [
    {
     "name": "stdout",
     "output_type": "stream",
     "text": [
      "+--------------------+------+-----------+\n",
      "|             country|   sex|nbr_suicide|\n",
      "+--------------------+------+-----------+\n",
      "|             Albania|  male|       1277|\n",
      "|             Albania|female|        693|\n",
      "| Antigua and Barbuda|  male|         10|\n",
      "| Antigua and Barbuda|female|          1|\n",
      "|           Argentina|female|      18326|\n",
      "|           Argentina|  male|      63893|\n",
      "|             Armenia|  male|       1410|\n",
      "|             Armenia|female|        495|\n",
      "|               Aruba|  male|         84|\n",
      "|               Aruba|female|         17|\n",
      "|           Australia|  male|      54785|\n",
      "|           Australia|female|      15326|\n",
      "|             Austria|female|      13195|\n",
      "|             Austria|  male|      36878|\n",
      "|          Azerbaijan|  male|       1244|\n",
      "|          Azerbaijan|female|        412|\n",
      "|             Bahamas|  male|         79|\n",
      "|             Bahamas|female|         14|\n",
      "|             Bahrain|female|         80|\n",
      "|             Bahrain|  male|        383|\n",
      "|            Barbados|  male|        144|\n",
      "|            Barbados|female|         33|\n",
      "|             Belarus|female|      10002|\n",
      "|             Belarus|  male|      49890|\n",
      "|             Belgium|female|      18012|\n",
      "|             Belgium|  male|      44749|\n",
      "|              Belize|female|         51|\n",
      "|              Belize|  male|        297|\n",
      "|Bosnia and Herzeg...|female|         70|\n",
      "|Bosnia and Herzeg...|  male|        248|\n",
      "|              Brazil|female|      49015|\n",
      "|              Brazil|  male|     177598|\n",
      "|            Bulgaria|  male|      26420|\n",
      "|            Bulgaria|female|       9968|\n",
      "|          Cabo Verde|  male|         37|\n",
      "|          Cabo Verde|female|          5|\n",
      "|              Canada|  male|      83377|\n",
      "|              Canada|female|      24184|\n",
      "|               Chile|  male|      34061|\n",
      "|               Chile|female|       6834|\n",
      "|            Colombia|  male|      41737|\n",
      "|            Colombia|female|      11343|\n",
      "|          Costa Rica|  male|       5813|\n",
      "|          Costa Rica|female|        979|\n",
      "|             Croatia|  male|      13754|\n",
      "|             Croatia|female|       4675|\n",
      "|                Cuba|  male|      29743|\n",
      "|                Cuba|female|      11675|\n",
      "|              Cyprus|  male|        330|\n",
      "|              Cyprus|female|         82|\n",
      "|      Czech Republic|female|       9247|\n",
      "|      Czech Republic|  male|      34440|\n",
      "|             Denmark|female|       4329|\n",
      "|             Denmark|  male|      10968|\n",
      "|            Dominica|  male|          0|\n",
      "|            Dominica|female|          0|\n",
      "|             Ecuador|female|       6238|\n",
      "|             Ecuador|  male|      14422|\n",
      "|         El Salvador|female|       3345|\n",
      "|         El Salvador|  male|       8338|\n",
      "|             Estonia|  male|       5641|\n",
      "|             Estonia|female|       1393|\n",
      "|                Fiji|female|         91|\n",
      "|                Fiji|  male|        213|\n",
      "|             Finland|  male|      26017|\n",
      "|             Finland|female|       7660|\n",
      "|              France|female|      89419|\n",
      "|              France|  male|     239708|\n",
      "|             Georgia|female|        694|\n",
      "|             Georgia|  male|       2530|\n",
      "|             Germany|female|      79707|\n",
      "|             Germany|  male|     211555|\n",
      "|              Greece|  male|       9828|\n",
      "|              Greece|female|       2540|\n",
      "|             Grenada|female|          4|\n",
      "|             Grenada|  male|         34|\n",
      "|           Guatemala|  male|       6176|\n",
      "|           Guatemala|female|       1973|\n",
      "|              Guyana|  male|       2608|\n",
      "|              Guyana|female|        818|\n",
      "|             Hungary|female|      18115|\n",
      "|             Hungary|  male|      55776|\n",
      "|             Iceland|female|        255|\n",
      "|             Iceland|  male|        853|\n",
      "|             Ireland|  male|      10123|\n",
      "|             Ireland|female|       2451|\n",
      "|              Israel|  male|       8613|\n",
      "|              Israel|female|       2681|\n",
      "|               Italy|  male|      99179|\n",
      "|               Italy|female|      32881|\n",
      "|             Jamaica|female|         26|\n",
      "|             Jamaica|  male|        158|\n",
      "|               Japan|female|     251630|\n",
      "|               Japan|  male|     555272|\n",
      "|          Kazakhstan|  male|      83386|\n",
      "|          Kazakhstan|female|      18160|\n",
      "|            Kiribati|  male|         43|\n",
      "|            Kiribati|female|         10|\n",
      "|              Kuwait|  male|        665|\n",
      "|              Kuwait|female|        301|\n",
      "|          Kyrgyzstan|female|       2637|\n",
      "|          Kyrgyzstan|  male|      10453|\n",
      "|              Latvia|female|       2474|\n",
      "|              Latvia|  male|      10296|\n",
      "|           Lithuania|  male|      23028|\n",
      "|           Lithuania|female|       5011|\n",
      "|          Luxembourg|  male|       1416|\n",
      "|          Luxembourg|female|        542|\n",
      "|               Macau|female|         12|\n",
      "|               Macau|  male|         15|\n",
      "|            Maldives|  male|         14|\n",
      "|            Maldives|female|          6|\n",
      "|               Malta|  male|        475|\n",
      "|               Malta|female|        110|\n",
      "|           Mauritius|  male|       2899|\n",
      "|           Mauritius|female|        995|\n",
      "|              Mexico|  male|      91805|\n",
      "|              Mexico|female|      19334|\n",
      "|            Mongolia|  male|        371|\n",
      "|            Mongolia|female|         52|\n",
      "|          Montenegro|  male|        328|\n",
      "|          Montenegro|female|        144|\n",
      "|         Netherlands|  male|      33947|\n",
      "|         Netherlands|female|      16886|\n",
      "|         New Zealand|  male|      11028|\n",
      "|         New Zealand|female|       3355|\n",
      "|           Nicaragua|female|        482|\n",
      "|           Nicaragua|  male|       1531|\n",
      "|              Norway|female|       4685|\n",
      "|              Norway|  male|      12307|\n",
      "|                Oman|  male|         33|\n",
      "|                Oman|female|          0|\n",
      "|              Panama|  male|       2971|\n",
      "|              Panama|female|        512|\n",
      "|            Paraguay|  male|       3326|\n",
      "|            Paraguay|female|       1457|\n",
      "|         Philippines|female|       5273|\n",
      "|         Philippines|  male|      16057|\n",
      "|              Poland|female|      21063|\n",
      "|              Poland|  male|     118035|\n",
      "|            Portugal|  male|      18187|\n",
      "|            Portugal|female|       5874|\n",
      "|         Puerto Rico|  male|       7989|\n",
      "|         Puerto Rico|female|       1054|\n",
      "|               Qatar|female|         50|\n",
      "|               Qatar|  male|        524|\n",
      "|   Republic of Korea|female|      82615|\n",
      "|   Republic of Korea|  male|     179115|\n",
      "|             Romania|female|      13182|\n",
      "|             Romania|  male|      59595|\n",
      "|  Russian Federation|female|     214330|\n",
      "|  Russian Federation|  male|     995412|\n",
      "|Saint Kitts and N...|female|          0|\n",
      "|Saint Kitts and N...|  male|          0|\n",
      "|         Saint Lucia|  male|        196|\n",
      "|         Saint Lucia|female|         34|\n",
      "|Saint Vincent and...|female|         11|\n",
      "|Saint Vincent and...|  male|        113|\n",
      "|          San Marino|female|          0|\n",
      "|          San Marino|  male|          4|\n",
      "|              Serbia|female|       6763|\n",
      "|              Serbia|  male|      17416|\n",
      "|          Seychelles|  male|         89|\n",
      "|          Seychelles|female|          9|\n",
      "|           Singapore|  male|       6296|\n",
      "|           Singapore|female|       3793|\n",
      "|            Slovakia|  male|      11413|\n",
      "|            Slovakia|female|       2024|\n",
      "|            Slovenia|  male|       8313|\n",
      "|            Slovenia|female|       2302|\n",
      "|        South Africa|female|       1602|\n",
      "|        South Africa|  male|       5719|\n",
      "|               Spain|female|      24669|\n",
      "|               Spain|  male|      75533|\n",
      "|           Sri Lanka|  male|      42043|\n",
      "|           Sri Lanka|female|      13598|\n",
      "|            Suriname|  male|       1598|\n",
      "|            Suriname|female|        568|\n",
      "|              Sweden|female|      11183|\n",
      "|              Sweden|  male|      26612|\n",
      "|         Switzerland|female|       7739|\n",
      "|         Switzerland|  male|      18478|\n",
      "|            Thailand|female|      28101|\n",
      "|            Thailand|  male|      82542|\n",
      "| Trinidad and Tobago|female|        820|\n",
      "| Trinidad and Tobago|  male|       3219|\n",
      "|              Turkey|female|       2569|\n",
      "|              Turkey|  male|       7562|\n",
      "|        Turkmenistan|  male|       6528|\n",
      "|        Turkmenistan|female|       2096|\n",
      "|             Ukraine|female|      61377|\n",
      "|             Ukraine|  male|     258573|\n",
      "|United Arab Emirates|female|         98|\n",
      "|United Arab Emirates|  male|        524|\n",
      "|      United Kingdom|female|      32687|\n",
      "|      United Kingdom|  male|     104118|\n",
      "|       United States|  male|     820216|\n",
      "|       United States|female|     213797|\n",
      "|             Uruguay|female|       2820|\n",
      "|             Uruguay|  male|      10318|\n",
      "|          Uzbekistan|female|       9260|\n",
      "|          Uzbekistan|  male|      25543|\n",
      "+--------------------+------+-----------+\n",
      "\n"
     ]
    }
   ],
   "source": [
    "# Affichage du dataframe df_country_sex dans l'ordre croissant des pays\n",
    "df_country_sex = df_country_sex.orderBy(\"country\")\n",
    "df_country_sex.show(202)"
   ]
  },
  {
   "cell_type": "code",
   "execution_count": 174,
   "metadata": {},
   "outputs": [
    {
     "name": "stdout",
     "output_type": "stream",
     "text": [
      "+--------------------+----+-----------+\n",
      "|             country| sex|nbr_suicide|\n",
      "+--------------------+----+-----------+\n",
      "|             Albania|male|       1277|\n",
      "| Antigua and Barbuda|male|         10|\n",
      "|           Argentina|male|      63893|\n",
      "|             Armenia|male|       1410|\n",
      "|               Aruba|male|         84|\n",
      "|           Australia|male|      54785|\n",
      "|             Austria|male|      36878|\n",
      "|          Azerbaijan|male|       1244|\n",
      "|             Bahamas|male|         79|\n",
      "|             Bahrain|male|        383|\n",
      "|            Barbados|male|        144|\n",
      "|             Belarus|male|      49890|\n",
      "|             Belgium|male|      44749|\n",
      "|              Belize|male|        297|\n",
      "|Bosnia and Herzeg...|male|        248|\n",
      "|              Brazil|male|     177598|\n",
      "|            Bulgaria|male|      26420|\n",
      "|          Cabo Verde|male|         37|\n",
      "|              Canada|male|      83377|\n",
      "|               Chile|male|      34061|\n",
      "|            Colombia|male|      41737|\n",
      "|          Costa Rica|male|       5813|\n",
      "|             Croatia|male|      13754|\n",
      "|                Cuba|male|      29743|\n",
      "|              Cyprus|male|        330|\n",
      "|      Czech Republic|male|      34440|\n",
      "|             Denmark|male|      10968|\n",
      "|            Dominica|male|          0|\n",
      "|             Ecuador|male|      14422|\n",
      "|         El Salvador|male|       8338|\n",
      "|             Estonia|male|       5641|\n",
      "|                Fiji|male|        213|\n",
      "|             Finland|male|      26017|\n",
      "|              France|male|     239708|\n",
      "|             Georgia|male|       2530|\n",
      "|             Germany|male|     211555|\n",
      "|              Greece|male|       9828|\n",
      "|             Grenada|male|         34|\n",
      "|           Guatemala|male|       6176|\n",
      "|              Guyana|male|       2608|\n",
      "|             Hungary|male|      55776|\n",
      "|             Iceland|male|        853|\n",
      "|             Ireland|male|      10123|\n",
      "|              Israel|male|       8613|\n",
      "|               Italy|male|      99179|\n",
      "|             Jamaica|male|        158|\n",
      "|               Japan|male|     555272|\n",
      "|          Kazakhstan|male|      83386|\n",
      "|            Kiribati|male|         43|\n",
      "|              Kuwait|male|        665|\n",
      "|          Kyrgyzstan|male|      10453|\n",
      "|              Latvia|male|      10296|\n",
      "|           Lithuania|male|      23028|\n",
      "|          Luxembourg|male|       1416|\n",
      "|               Macau|male|         15|\n",
      "|            Maldives|male|         14|\n",
      "|               Malta|male|        475|\n",
      "|           Mauritius|male|       2899|\n",
      "|              Mexico|male|      91805|\n",
      "|            Mongolia|male|        371|\n",
      "|          Montenegro|male|        328|\n",
      "|         Netherlands|male|      33947|\n",
      "|         New Zealand|male|      11028|\n",
      "|           Nicaragua|male|       1531|\n",
      "|              Norway|male|      12307|\n",
      "|                Oman|male|         33|\n",
      "|              Panama|male|       2971|\n",
      "|            Paraguay|male|       3326|\n",
      "|         Philippines|male|      16057|\n",
      "|              Poland|male|     118035|\n",
      "|            Portugal|male|      18187|\n",
      "|         Puerto Rico|male|       7989|\n",
      "|               Qatar|male|        524|\n",
      "|   Republic of Korea|male|     179115|\n",
      "|             Romania|male|      59595|\n",
      "|  Russian Federation|male|     995412|\n",
      "|Saint Kitts and N...|male|          0|\n",
      "|         Saint Lucia|male|        196|\n",
      "|Saint Vincent and...|male|        113|\n",
      "|          San Marino|male|          4|\n",
      "|              Serbia|male|      17416|\n",
      "|          Seychelles|male|         89|\n",
      "|           Singapore|male|       6296|\n",
      "|            Slovakia|male|      11413|\n",
      "|            Slovenia|male|       8313|\n",
      "|        South Africa|male|       5719|\n",
      "|               Spain|male|      75533|\n",
      "|           Sri Lanka|male|      42043|\n",
      "|            Suriname|male|       1598|\n",
      "|              Sweden|male|      26612|\n",
      "|         Switzerland|male|      18478|\n",
      "|            Thailand|male|      82542|\n",
      "| Trinidad and Tobago|male|       3219|\n",
      "|              Turkey|male|       7562|\n",
      "|        Turkmenistan|male|       6528|\n",
      "|             Ukraine|male|     258573|\n",
      "|United Arab Emirates|male|        524|\n",
      "|      United Kingdom|male|     104118|\n",
      "|       United States|male|     820216|\n",
      "|             Uruguay|male|      10318|\n",
      "+--------------------+----+-----------+\n",
      "only showing top 100 rows\n",
      "\n"
     ]
    }
   ],
   "source": [
    "# Affichage des nombre de suicide des hommes dans chaque pays\n",
    "df_country_sex.filter(df_country_sex.sex == \"male\").show(100)"
   ]
  },
  {
   "cell_type": "code",
   "execution_count": 175,
   "metadata": {},
   "outputs": [
    {
     "data": {
      "text/plain": [
       "32"
      ]
     },
     "execution_count": 175,
     "metadata": {},
     "output_type": "execute_result"
    }
   ],
   "source": [
    "# Création d'un dataframe df_year qui affiche le nombre de suicides chaque année de 1985 à 2016\n",
    "df_year = df.groupBy(\"year\").agg({\"suicides_no\":\"sum\"})\n",
    "# On renomme la colonne de sum(suicide_no) par nbr_suicide\n",
    "df_year = df_year.withColumnRenamed(\"sum(suicides_no)\",\"nbr_suicide\")\n",
    "df_year.count()"
   ]
  },
  {
   "cell_type": "code",
   "execution_count": 176,
   "metadata": {},
   "outputs": [
    {
     "name": "stdout",
     "output_type": "stream",
     "text": [
      "+----+-----------+\n",
      "|year|nbr_suicide|\n",
      "+----+-----------+\n",
      "|1985|     116063|\n",
      "|1986|     120670|\n",
      "|1987|     126842|\n",
      "|1988|     121026|\n",
      "|1989|     160244|\n",
      "|1990|     193361|\n",
      "|1991|     198020|\n",
      "|1992|     211473|\n",
      "|1993|     221565|\n",
      "|1994|     232063|\n",
      "|1995|     243544|\n",
      "|1996|     246725|\n",
      "|1997|     240745|\n",
      "|1998|     249591|\n",
      "|1999|     256119|\n",
      "|2000|     255832|\n",
      "|2001|     250652|\n",
      "|2002|     256095|\n",
      "|2003|     256079|\n",
      "|2004|     240861|\n",
      "|2005|     234375|\n",
      "|2006|     233361|\n",
      "|2007|     233408|\n",
      "|2008|     235447|\n",
      "|2009|     243487|\n",
      "|2010|     238702|\n",
      "|2011|     236484|\n",
      "|2012|     230160|\n",
      "|2013|     223199|\n",
      "|2014|     222984|\n",
      "|2015|     203640|\n",
      "|2016|      15603|\n",
      "+----+-----------+\n",
      "\n"
     ]
    }
   ],
   "source": [
    "# Affichage du dataframe df_year dans l'ordre d'année\n",
    "df_year = df_year.orderBy(df_year.year)\n",
    "df_year.show(32)"
   ]
  },
  {
   "cell_type": "code",
   "execution_count": 177,
   "metadata": {},
   "outputs": [
    {
     "data": {
      "text/plain": [
       "64"
      ]
     },
     "execution_count": 177,
     "metadata": {},
     "output_type": "execute_result"
    }
   ],
   "source": [
    "# Création d'un dataframe df_year_sex qui affiche le nombre de suicide pour chaque année et pour chaque sexe\n",
    "# de 1985 à 2016\n",
    "df_year_sex = df.groupBy(\"year\" , \"sex\").agg({\"suicides_no\" : \"sum\"})\n",
    "# On renomme la colonne de sum(suicide_no) par nbr_suicide\n",
    "df_year_sex = df_year_sex.withColumnRenamed(\"sum(suicides_no)\",\"nbr_suicide\")\n",
    "df_year_sex.count()"
   ]
  },
  {
   "cell_type": "code",
   "execution_count": 178,
   "metadata": {},
   "outputs": [
    {
     "name": "stdout",
     "output_type": "stream",
     "text": [
      "+----+------+-----------+\n",
      "|year|   sex|nbr_suicide|\n",
      "+----+------+-----------+\n",
      "|1985|female|      32479|\n",
      "|1985|  male|      83584|\n",
      "|1986|  male|      86818|\n",
      "|1986|female|      33852|\n",
      "|1987|  male|      91836|\n",
      "|1987|female|      35006|\n",
      "|1988|  male|      88011|\n",
      "|1988|female|      33015|\n",
      "|1989|  male|     118883|\n",
      "|1989|female|      41361|\n",
      "|1990|female|      50118|\n",
      "|1990|  male|     143243|\n",
      "|1991|female|      49622|\n",
      "|1991|  male|     148398|\n",
      "|1992|female|      51567|\n",
      "|1992|  male|     159906|\n",
      "|1993|  male|     170234|\n",
      "|1993|female|      51331|\n",
      "|1994|  male|     180531|\n",
      "|1994|female|      51532|\n",
      "|1995|  male|     189040|\n",
      "|1995|female|      54504|\n",
      "|1996|female|      54583|\n",
      "|1996|  male|     192142|\n",
      "|1997|  male|     186619|\n",
      "|1997|female|      54126|\n",
      "|1998|female|      55631|\n",
      "|1998|  male|     193960|\n",
      "|1999|  male|     199904|\n",
      "|1999|female|      56215|\n",
      "|2000|female|      55254|\n",
      "|2000|  male|     200578|\n",
      "|2001|  male|     197653|\n",
      "|2001|female|      52999|\n",
      "|2002|  male|     200546|\n",
      "|2002|female|      55549|\n",
      "|2003|  male|     200452|\n",
      "|2003|female|      55627|\n",
      "|2004|  male|     187629|\n",
      "|2004|female|      53232|\n",
      "|2005|  male|     182340|\n",
      "|2005|female|      52035|\n",
      "|2006|female|      52039|\n",
      "|2006|  male|     181322|\n",
      "|2007|  male|     180084|\n",
      "|2007|female|      53324|\n",
      "|2008|female|      53973|\n",
      "|2008|  male|     181474|\n",
      "|2009|  male|     188567|\n",
      "|2009|female|      54920|\n",
      "|2010|  male|     184480|\n",
      "|2010|female|      54222|\n",
      "|2011|female|      54616|\n",
      "|2011|  male|     181868|\n",
      "|2012|female|      53011|\n",
      "|2012|  male|     177149|\n",
      "|2013|  male|     171740|\n",
      "|2013|female|      51459|\n",
      "|2014|female|      51556|\n",
      "|2014|  male|     171428|\n",
      "|2015|  male|     156392|\n",
      "|2015|female|      47248|\n",
      "|2016|female|       3504|\n",
      "|2016|  male|      12099|\n",
      "+----+------+-----------+\n",
      "\n"
     ]
    }
   ],
   "source": [
    "# Affichage du dataframe df_year_sex dans l'ordre d'année\n",
    "df_year_sex = df_year_sex.orderBy(df_year_sex.year)\n",
    "df_year_sex.show(64)"
   ]
  },
  {
   "cell_type": "code",
   "execution_count": 179,
   "metadata": {},
   "outputs": [
    {
     "data": {
      "text/plain": [
       "6"
      ]
     },
     "execution_count": 179,
     "metadata": {},
     "output_type": "execute_result"
    }
   ],
   "source": [
    "# Création d'un dataframe df_age qui affiche le nombre de suicide des tranches d'âges \n",
    "df_age = df.groupBy(\"age\").agg({\"suicides_no\" : \"sum\"})\n",
    "# On renomme la colonne de sum(suicide_no) par nbr_suicide\n",
    "df_age= df_age.withColumnRenamed(\"sum(suicides_no)\",\"nbr_suicide\")\n",
    "df_age.count()"
   ]
  },
  {
   "cell_type": "code",
   "execution_count": 180,
   "metadata": {},
   "outputs": [
    {
     "name": "stdout",
     "output_type": "stream",
     "text": [
      "+-----------+-----------+\n",
      "|        age|nbr_suicide|\n",
      "+-----------+-----------+\n",
      "| 5-14 years|      52264|\n",
      "|  75+ years|     653118|\n",
      "|15-24 years|     808542|\n",
      "|25-34 years|    1123912|\n",
      "|55-74 years|    1658443|\n",
      "|35-54 years|    2452141|\n",
      "+-----------+-----------+\n",
      "\n"
     ]
    }
   ],
   "source": [
    "# Afficher le dataframe df_age dans l'ordre croissant des nombres de suicides\n",
    "df_age = df_age.orderBy(\"sum(suicides_no)\")\n",
    "df_age.show()"
   ]
  },
  {
   "cell_type": "code",
   "execution_count": 181,
   "metadata": {},
   "outputs": [
    {
     "data": {
      "text/plain": [
       "605"
      ]
     },
     "execution_count": 181,
     "metadata": {},
     "output_type": "execute_result"
    }
   ],
   "source": [
    "# Création d'un dataframe df_age qui affiche le nombre de suicide des tranches d'âges de chaque pays\n",
    "df_age_country = df.groupBy(\"country\",\"age\").agg({\"suicides_no\" : \"sum\"})\n",
    "# On renomme la colonne de sum(suicide_no) par nbr_suicide\n",
    "df_age_country = df_age_country.withColumnRenamed(\"sum(suicides_no)\",\"nbr_suicide\")\n",
    "df_age_country.count()"
   ]
  },
  {
   "cell_type": "code",
   "execution_count": 182,
   "metadata": {},
   "outputs": [
    {
     "name": "stdout",
     "output_type": "stream",
     "text": [
      "+-------------------+-----------+-----------+\n",
      "|            country|        age|nbr_suicide|\n",
      "+-------------------+-----------+-----------+\n",
      "|            Albania|15-24 years|        546|\n",
      "|            Albania|55-74 years|        264|\n",
      "|            Albania|  75+ years|         81|\n",
      "|            Albania| 5-14 years|         61|\n",
      "|            Albania|35-54 years|        591|\n",
      "|            Albania|25-34 years|        427|\n",
      "|Antigua and Barbuda|55-74 years|          4|\n",
      "|Antigua and Barbuda|35-54 years|          6|\n",
      "|Antigua and Barbuda|15-24 years|          0|\n",
      "|Antigua and Barbuda|  75+ years|          0|\n",
      "+-------------------+-----------+-----------+\n",
      "only showing top 10 rows\n",
      "\n"
     ]
    }
   ],
   "source": [
    "# Afficher le dataframe df_age dans l'ordre croissant des pays\n",
    "df_age_country = df_age_country.orderBy(\"country\")\n",
    "df_age_country.show(10)"
   ]
  },
  {
   "cell_type": "code",
   "execution_count": 183,
   "metadata": {},
   "outputs": [
    {
     "name": "stdout",
     "output_type": "stream",
     "text": [
      "+--------------------+-----------+-----------+\n",
      "|             country|        age|nbr_suicide|\n",
      "+--------------------+-----------+-----------+\n",
      "|             Albania|15-24 years|        546|\n",
      "| Antigua and Barbuda|15-24 years|          0|\n",
      "|           Argentina|15-24 years|      17655|\n",
      "|             Armenia|15-24 years|        175|\n",
      "|               Aruba|15-24 years|          7|\n",
      "|           Australia|15-24 years|      11086|\n",
      "|             Austria|15-24 years|       4367|\n",
      "|          Azerbaijan|15-24 years|        299|\n",
      "|             Bahamas|15-24 years|         17|\n",
      "|             Bahrain|15-24 years|         54|\n",
      "|            Barbados|15-24 years|         23|\n",
      "|             Belarus|15-24 years|       5490|\n",
      "|             Belgium|15-24 years|       4475|\n",
      "|              Belize|15-24 years|         98|\n",
      "|Bosnia and Herzeg...|15-24 years|          8|\n",
      "|              Brazil|15-24 years|      44597|\n",
      "|            Bulgaria|15-24 years|       2543|\n",
      "|          Cabo Verde|15-24 years|          6|\n",
      "|              Canada|15-24 years|      15909|\n",
      "|               Chile|15-24 years|       7845|\n",
      "|            Colombia|15-24 years|      17956|\n",
      "|          Costa Rica|15-24 years|       1577|\n",
      "|             Croatia|15-24 years|       1290|\n",
      "|                Cuba|15-24 years|       3522|\n",
      "|              Cyprus|15-24 years|         55|\n",
      "|      Czech Republic|15-24 years|       3596|\n",
      "|             Denmark|15-24 years|        874|\n",
      "|            Dominica|15-24 years|          0|\n",
      "|             Ecuador|15-24 years|       7662|\n",
      "|         El Salvador|15-24 years|       4327|\n",
      "|             Estonia|15-24 years|        673|\n",
      "|                Fiji|15-24 years|         85|\n",
      "|             Finland|15-24 years|       3822|\n",
      "|              France|15-24 years|      19849|\n",
      "|             Georgia|15-24 years|        350|\n",
      "|             Germany|15-24 years|      17902|\n",
      "|              Greece|15-24 years|       1020|\n",
      "|             Grenada|15-24 years|          4|\n",
      "|           Guatemala|15-24 years|       3035|\n",
      "|              Guyana|15-24 years|        869|\n",
      "|             Hungary|15-24 years|       3571|\n",
      "|             Iceland|15-24 years|        197|\n",
      "|             Ireland|15-24 years|       2472|\n",
      "|              Israel|15-24 years|       1823|\n",
      "|               Italy|15-24 years|       8571|\n",
      "|             Jamaica|15-24 years|         34|\n",
      "|               Japan|15-24 years|      52288|\n",
      "|          Kazakhstan|15-24 years|      18774|\n",
      "|            Kiribati|15-24 years|         23|\n",
      "|              Kuwait|15-24 years|        130|\n",
      "|          Kyrgyzstan|15-24 years|       2779|\n",
      "|              Latvia|15-24 years|       1047|\n",
      "|           Lithuania|15-24 years|       2684|\n",
      "|          Luxembourg|15-24 years|        150|\n",
      "|               Macau|15-24 years|          2|\n",
      "|            Maldives|15-24 years|          6|\n",
      "|               Malta|15-24 years|         68|\n",
      "|           Mauritius|15-24 years|        865|\n",
      "|              Mexico|15-24 years|      33664|\n",
      "|            Mongolia|15-24 years|        103|\n",
      "|          Montenegro|15-24 years|         21|\n",
      "|         Netherlands|15-24 years|       4071|\n",
      "|         New Zealand|15-24 years|       3458|\n",
      "|           Nicaragua|15-24 years|        701|\n",
      "|              Norway|15-24 years|       2416|\n",
      "|                Oman|15-24 years|          7|\n",
      "|              Panama|15-24 years|        889|\n",
      "|            Paraguay|15-24 years|       1790|\n",
      "|         Philippines|15-24 years|       7107|\n",
      "|              Poland|15-24 years|      15191|\n",
      "|            Portugal|15-24 years|       1505|\n",
      "|         Puerto Rico|15-24 years|        971|\n",
      "|               Qatar|15-24 years|        108|\n",
      "|   Republic of Korea|15-24 years|      24243|\n",
      "|             Romania|15-24 years|       5981|\n",
      "|  Russian Federation|15-24 years|     148611|\n",
      "|Saint Kitts and N...|15-24 years|          0|\n",
      "|         Saint Lucia|15-24 years|         40|\n",
      "|Saint Vincent and...|15-24 years|         19|\n",
      "|          San Marino|15-24 years|          0|\n",
      "|              Serbia|15-24 years|       1124|\n",
      "|          Seychelles|15-24 years|         15|\n",
      "|           Singapore|15-24 years|       1084|\n",
      "|            Slovakia|15-24 years|       1186|\n",
      "|            Slovenia|15-24 years|        733|\n",
      "|        South Africa|15-24 years|       2034|\n",
      "|               Spain|15-24 years|       7559|\n",
      "|           Sri Lanka|15-24 years|      14360|\n",
      "|            Suriname|15-24 years|        489|\n",
      "|              Sweden|15-24 years|       3395|\n",
      "|         Switzerland|15-24 years|       2015|\n",
      "|            Thailand|15-24 years|      23022|\n",
      "| Trinidad and Tobago|15-24 years|        882|\n",
      "|              Turkey|15-24 years|       2182|\n",
      "|        Turkmenistan|15-24 years|       2758|\n",
      "|             Ukraine|15-24 years|      27509|\n",
      "|United Arab Emirates|15-24 years|        104|\n",
      "|      United Kingdom|15-24 years|      14925|\n",
      "|       United States|15-24 years|     141679|\n",
      "|             Uruguay|15-24 years|       1766|\n",
      "|          Uzbekistan|15-24 years|       9673|\n",
      "+--------------------+-----------+-----------+\n",
      "\n"
     ]
    }
   ],
   "source": [
    "# Affichage de nombre de suicide chez les jeunes (15-24 ans) dans chaque pays\n",
    "df_age_country.filter(df_age_country.age == \"15-24 years\").show(101)"
   ]
  },
  {
   "cell_type": "code",
   "execution_count": 187,
   "metadata": {},
   "outputs": [
    {
     "data": {
      "text/html": [
       "<div>\n",
       "<style scoped>\n",
       "    .dataframe tbody tr th:only-of-type {\n",
       "        vertical-align: middle;\n",
       "    }\n",
       "\n",
       "    .dataframe tbody tr th {\n",
       "        vertical-align: top;\n",
       "    }\n",
       "\n",
       "    .dataframe thead th {\n",
       "        text-align: right;\n",
       "    }\n",
       "</style>\n",
       "<table border=\"1\" class=\"dataframe\">\n",
       "  <thead>\n",
       "    <tr style=\"text-align: right;\">\n",
       "      <th></th>\n",
       "      <th>country</th>\n",
       "      <th>alpha-3</th>\n",
       "    </tr>\n",
       "  </thead>\n",
       "  <tbody>\n",
       "    <tr>\n",
       "      <th>0</th>\n",
       "      <td>Afghanistan</td>\n",
       "      <td>AFG</td>\n",
       "    </tr>\n",
       "    <tr>\n",
       "      <th>1</th>\n",
       "      <td>Åland Islands</td>\n",
       "      <td>ALA</td>\n",
       "    </tr>\n",
       "    <tr>\n",
       "      <th>2</th>\n",
       "      <td>Albania</td>\n",
       "      <td>ALB</td>\n",
       "    </tr>\n",
       "    <tr>\n",
       "      <th>3</th>\n",
       "      <td>Algeria</td>\n",
       "      <td>DZA</td>\n",
       "    </tr>\n",
       "    <tr>\n",
       "      <th>4</th>\n",
       "      <td>American Samoa</td>\n",
       "      <td>ASM</td>\n",
       "    </tr>\n",
       "    <tr>\n",
       "      <th>...</th>\n",
       "      <td>...</td>\n",
       "      <td>...</td>\n",
       "    </tr>\n",
       "    <tr>\n",
       "      <th>244</th>\n",
       "      <td>Wallis and Futuna</td>\n",
       "      <td>WLF</td>\n",
       "    </tr>\n",
       "    <tr>\n",
       "      <th>245</th>\n",
       "      <td>Western Sahara</td>\n",
       "      <td>ESH</td>\n",
       "    </tr>\n",
       "    <tr>\n",
       "      <th>246</th>\n",
       "      <td>Yemen</td>\n",
       "      <td>YEM</td>\n",
       "    </tr>\n",
       "    <tr>\n",
       "      <th>247</th>\n",
       "      <td>Zambia</td>\n",
       "      <td>ZMB</td>\n",
       "    </tr>\n",
       "    <tr>\n",
       "      <th>248</th>\n",
       "      <td>Zimbabwe</td>\n",
       "      <td>ZWE</td>\n",
       "    </tr>\n",
       "  </tbody>\n",
       "</table>\n",
       "<p>249 rows × 2 columns</p>\n",
       "</div>"
      ],
      "text/plain": [
       "               country alpha-3\n",
       "0          Afghanistan     AFG\n",
       "1        Åland Islands     ALA\n",
       "2              Albania     ALB\n",
       "3              Algeria     DZA\n",
       "4       American Samoa     ASM\n",
       "..                 ...     ...\n",
       "244  Wallis and Futuna     WLF\n",
       "245     Western Sahara     ESH\n",
       "246              Yemen     YEM\n",
       "247             Zambia     ZMB\n",
       "248           Zimbabwe     ZWE\n",
       "\n",
       "[249 rows x 2 columns]"
      ]
     },
     "execution_count": 187,
     "metadata": {},
     "output_type": "execute_result"
    }
   ],
   "source": [
    "df_pays=pd.read_csv(\"../data/iso3.csv\")\n",
    "df_pays= df_pays[[\"name\",\"alpha-3\"]]\n",
    "cols_name = ['country', 'alpha-3'] \n",
    "df_pays. columns = cols_name\n",
    "df_pays"
   ]
  },
  {
   "cell_type": "code",
   "execution_count": 188,
   "metadata": {},
   "outputs": [
    {
     "data": {
      "application/vnd.plotly.v1+json": {
       "config": {
        "plotlyServerURL": "https://plot.ly"
       },
       "data": [
        {
         "geo": "geo",
         "hovertemplate": "<b>%{hovertext}</b><br><br>nbr_suicide=%{marker.size}<br>alpha-3=%{location}<extra></extra>",
         "hovertext": [
          "Albania",
          "Antigua and Barbuda",
          "Argentina",
          "Armenia",
          "Aruba",
          "Australia",
          "Austria",
          "Azerbaijan",
          "Bahamas",
          "Bahrain",
          "Barbados",
          "Belarus",
          "Belgium",
          "Belize",
          "Bosnia and Herzegovina",
          "Brazil",
          "Bulgaria",
          "Cabo Verde",
          "Canada",
          "Chile",
          "Colombia",
          "Costa Rica",
          "Croatia",
          "Cuba",
          "Cyprus",
          "Denmark",
          "Dominica",
          "Ecuador",
          "El Salvador",
          "Estonia",
          "Fiji",
          "Finland",
          "France",
          "Georgia",
          "Germany",
          "Greece",
          "Grenada",
          "Guatemala",
          "Guyana",
          "Hungary",
          "Iceland",
          "Ireland",
          "Israel",
          "Italy",
          "Jamaica",
          "Japan",
          "Kazakhstan",
          "Kiribati",
          "Kuwait",
          "Kyrgyzstan",
          "Latvia",
          "Lithuania",
          "Luxembourg",
          "Maldives",
          "Malta",
          "Mauritius",
          "Mexico",
          "Mongolia",
          "Montenegro",
          "Netherlands",
          "New Zealand",
          "Nicaragua",
          "Norway",
          "Oman",
          "Panama",
          "Paraguay",
          "Philippines",
          "Poland",
          "Portugal",
          "Puerto Rico",
          "Qatar",
          "Romania",
          "Russian Federation",
          "Saint Kitts and Nevis",
          "Saint Lucia",
          "San Marino",
          "Serbia",
          "Seychelles",
          "Singapore",
          "Slovakia",
          "Slovenia",
          "South Africa",
          "Spain",
          "Sri Lanka",
          "Suriname",
          "Sweden",
          "Switzerland",
          "Thailand",
          "Trinidad and Tobago",
          "Turkey",
          "Turkmenistan",
          "Ukraine",
          "United Arab Emirates",
          "Uruguay",
          "Uzbekistan"
         ],
         "legendgroup": "",
         "locations": [
          "ALB",
          "ATG",
          "ARG",
          "ARM",
          "ABW",
          "AUS",
          "AUT",
          "AZE",
          "BHS",
          "BHR",
          "BRB",
          "BLR",
          "BEL",
          "BLZ",
          "BIH",
          "BRA",
          "BGR",
          "CPV",
          "CAN",
          "CHL",
          "COL",
          "CRI",
          "HRV",
          "CUB",
          "CYP",
          "DNK",
          "DMA",
          "ECU",
          "SLV",
          "EST",
          "FJI",
          "FIN",
          "FRA",
          "GEO",
          "DEU",
          "GRC",
          "GRD",
          "GTM",
          "GUY",
          "HUN",
          "ISL",
          "IRL",
          "ISR",
          "ITA",
          "JAM",
          "JPN",
          "KAZ",
          "KIR",
          "KWT",
          "KGZ",
          "LVA",
          "LTU",
          "LUX",
          "MDV",
          "MLT",
          "MUS",
          "MEX",
          "MNG",
          "MNE",
          "NLD",
          "NZL",
          "NIC",
          "NOR",
          "OMN",
          "PAN",
          "PRY",
          "PHL",
          "POL",
          "PRT",
          "PRI",
          "QAT",
          "ROU",
          "RUS",
          "KNA",
          "LCA",
          "SMR",
          "SRB",
          "SYC",
          "SGP",
          "SVK",
          "SVN",
          "ZAF",
          "ESP",
          "LKA",
          "SUR",
          "SWE",
          "CHE",
          "THA",
          "TTO",
          "TUR",
          "TKM",
          "UKR",
          "ARE",
          "URY",
          "UZB"
         ],
         "marker": {
          "color": "#636efa",
          "size": [
           1970,
           11,
           82219,
           1905,
           101,
           70111,
           50073,
           1656,
           93,
           463,
           177,
           59892,
           62761,
           348,
           318,
           226613,
           36388,
           42,
           107561,
           40895,
           53080,
           6792,
           18429,
           41418,
           412,
           15297,
           0,
           20660,
           11683,
           7034,
           304,
           33677,
           329127,
           3224,
           291262,
           12368,
           38,
           8149,
           3426,
           73891,
           1108,
           12574,
           11294,
           132060,
           184,
           806902,
           101546,
           53,
           966,
           13090,
           12770,
           28039,
           1958,
           20,
           585,
           3894,
           111139,
           423,
           472,
           50833,
           14383,
           2013,
           16992,
           33,
           3483,
           4783,
           21330,
           139098,
           24061,
           9043,
           574,
           72777,
           1209742,
           0,
           230,
           4,
           24179,
           98,
           10089,
           13437,
           10615,
           7321,
           100202,
           55641,
           2166,
           37795,
           26217,
           110643,
           4039,
           10131,
           8624,
           319950,
           622,
           13138,
           34803
          ],
          "sizemode": "area",
          "sizeref": 3024.355,
          "symbol": "circle"
         },
         "mode": "markers",
         "name": "",
         "showlegend": false,
         "type": "scattergeo"
        }
       ],
       "layout": {
        "geo": {
         "center": {},
         "domain": {
          "x": [
           0,
           1
          ],
          "y": [
           0,
           1
          ]
         },
         "projection": {
          "type": "natural earth"
         }
        },
        "legend": {
         "itemsizing": "constant",
         "tracegroupgap": 0
        },
        "margin": {
         "t": 60
        },
        "template": {
         "data": {
          "bar": [
           {
            "error_x": {
             "color": "#2a3f5f"
            },
            "error_y": {
             "color": "#2a3f5f"
            },
            "marker": {
             "line": {
              "color": "#E5ECF6",
              "width": 0.5
             }
            },
            "type": "bar"
           }
          ],
          "barpolar": [
           {
            "marker": {
             "line": {
              "color": "#E5ECF6",
              "width": 0.5
             }
            },
            "type": "barpolar"
           }
          ],
          "carpet": [
           {
            "aaxis": {
             "endlinecolor": "#2a3f5f",
             "gridcolor": "white",
             "linecolor": "white",
             "minorgridcolor": "white",
             "startlinecolor": "#2a3f5f"
            },
            "baxis": {
             "endlinecolor": "#2a3f5f",
             "gridcolor": "white",
             "linecolor": "white",
             "minorgridcolor": "white",
             "startlinecolor": "#2a3f5f"
            },
            "type": "carpet"
           }
          ],
          "choropleth": [
           {
            "colorbar": {
             "outlinewidth": 0,
             "ticks": ""
            },
            "type": "choropleth"
           }
          ],
          "contour": [
           {
            "colorbar": {
             "outlinewidth": 0,
             "ticks": ""
            },
            "colorscale": [
             [
              0,
              "#0d0887"
             ],
             [
              0.1111111111111111,
              "#46039f"
             ],
             [
              0.2222222222222222,
              "#7201a8"
             ],
             [
              0.3333333333333333,
              "#9c179e"
             ],
             [
              0.4444444444444444,
              "#bd3786"
             ],
             [
              0.5555555555555556,
              "#d8576b"
             ],
             [
              0.6666666666666666,
              "#ed7953"
             ],
             [
              0.7777777777777778,
              "#fb9f3a"
             ],
             [
              0.8888888888888888,
              "#fdca26"
             ],
             [
              1,
              "#f0f921"
             ]
            ],
            "type": "contour"
           }
          ],
          "contourcarpet": [
           {
            "colorbar": {
             "outlinewidth": 0,
             "ticks": ""
            },
            "type": "contourcarpet"
           }
          ],
          "heatmap": [
           {
            "colorbar": {
             "outlinewidth": 0,
             "ticks": ""
            },
            "colorscale": [
             [
              0,
              "#0d0887"
             ],
             [
              0.1111111111111111,
              "#46039f"
             ],
             [
              0.2222222222222222,
              "#7201a8"
             ],
             [
              0.3333333333333333,
              "#9c179e"
             ],
             [
              0.4444444444444444,
              "#bd3786"
             ],
             [
              0.5555555555555556,
              "#d8576b"
             ],
             [
              0.6666666666666666,
              "#ed7953"
             ],
             [
              0.7777777777777778,
              "#fb9f3a"
             ],
             [
              0.8888888888888888,
              "#fdca26"
             ],
             [
              1,
              "#f0f921"
             ]
            ],
            "type": "heatmap"
           }
          ],
          "heatmapgl": [
           {
            "colorbar": {
             "outlinewidth": 0,
             "ticks": ""
            },
            "colorscale": [
             [
              0,
              "#0d0887"
             ],
             [
              0.1111111111111111,
              "#46039f"
             ],
             [
              0.2222222222222222,
              "#7201a8"
             ],
             [
              0.3333333333333333,
              "#9c179e"
             ],
             [
              0.4444444444444444,
              "#bd3786"
             ],
             [
              0.5555555555555556,
              "#d8576b"
             ],
             [
              0.6666666666666666,
              "#ed7953"
             ],
             [
              0.7777777777777778,
              "#fb9f3a"
             ],
             [
              0.8888888888888888,
              "#fdca26"
             ],
             [
              1,
              "#f0f921"
             ]
            ],
            "type": "heatmapgl"
           }
          ],
          "histogram": [
           {
            "marker": {
             "colorbar": {
              "outlinewidth": 0,
              "ticks": ""
             }
            },
            "type": "histogram"
           }
          ],
          "histogram2d": [
           {
            "colorbar": {
             "outlinewidth": 0,
             "ticks": ""
            },
            "colorscale": [
             [
              0,
              "#0d0887"
             ],
             [
              0.1111111111111111,
              "#46039f"
             ],
             [
              0.2222222222222222,
              "#7201a8"
             ],
             [
              0.3333333333333333,
              "#9c179e"
             ],
             [
              0.4444444444444444,
              "#bd3786"
             ],
             [
              0.5555555555555556,
              "#d8576b"
             ],
             [
              0.6666666666666666,
              "#ed7953"
             ],
             [
              0.7777777777777778,
              "#fb9f3a"
             ],
             [
              0.8888888888888888,
              "#fdca26"
             ],
             [
              1,
              "#f0f921"
             ]
            ],
            "type": "histogram2d"
           }
          ],
          "histogram2dcontour": [
           {
            "colorbar": {
             "outlinewidth": 0,
             "ticks": ""
            },
            "colorscale": [
             [
              0,
              "#0d0887"
             ],
             [
              0.1111111111111111,
              "#46039f"
             ],
             [
              0.2222222222222222,
              "#7201a8"
             ],
             [
              0.3333333333333333,
              "#9c179e"
             ],
             [
              0.4444444444444444,
              "#bd3786"
             ],
             [
              0.5555555555555556,
              "#d8576b"
             ],
             [
              0.6666666666666666,
              "#ed7953"
             ],
             [
              0.7777777777777778,
              "#fb9f3a"
             ],
             [
              0.8888888888888888,
              "#fdca26"
             ],
             [
              1,
              "#f0f921"
             ]
            ],
            "type": "histogram2dcontour"
           }
          ],
          "mesh3d": [
           {
            "colorbar": {
             "outlinewidth": 0,
             "ticks": ""
            },
            "type": "mesh3d"
           }
          ],
          "parcoords": [
           {
            "line": {
             "colorbar": {
              "outlinewidth": 0,
              "ticks": ""
             }
            },
            "type": "parcoords"
           }
          ],
          "pie": [
           {
            "automargin": true,
            "type": "pie"
           }
          ],
          "scatter": [
           {
            "marker": {
             "colorbar": {
              "outlinewidth": 0,
              "ticks": ""
             }
            },
            "type": "scatter"
           }
          ],
          "scatter3d": [
           {
            "line": {
             "colorbar": {
              "outlinewidth": 0,
              "ticks": ""
             }
            },
            "marker": {
             "colorbar": {
              "outlinewidth": 0,
              "ticks": ""
             }
            },
            "type": "scatter3d"
           }
          ],
          "scattercarpet": [
           {
            "marker": {
             "colorbar": {
              "outlinewidth": 0,
              "ticks": ""
             }
            },
            "type": "scattercarpet"
           }
          ],
          "scattergeo": [
           {
            "marker": {
             "colorbar": {
              "outlinewidth": 0,
              "ticks": ""
             }
            },
            "type": "scattergeo"
           }
          ],
          "scattergl": [
           {
            "marker": {
             "colorbar": {
              "outlinewidth": 0,
              "ticks": ""
             }
            },
            "type": "scattergl"
           }
          ],
          "scattermapbox": [
           {
            "marker": {
             "colorbar": {
              "outlinewidth": 0,
              "ticks": ""
             }
            },
            "type": "scattermapbox"
           }
          ],
          "scatterpolar": [
           {
            "marker": {
             "colorbar": {
              "outlinewidth": 0,
              "ticks": ""
             }
            },
            "type": "scatterpolar"
           }
          ],
          "scatterpolargl": [
           {
            "marker": {
             "colorbar": {
              "outlinewidth": 0,
              "ticks": ""
             }
            },
            "type": "scatterpolargl"
           }
          ],
          "scatterternary": [
           {
            "marker": {
             "colorbar": {
              "outlinewidth": 0,
              "ticks": ""
             }
            },
            "type": "scatterternary"
           }
          ],
          "surface": [
           {
            "colorbar": {
             "outlinewidth": 0,
             "ticks": ""
            },
            "colorscale": [
             [
              0,
              "#0d0887"
             ],
             [
              0.1111111111111111,
              "#46039f"
             ],
             [
              0.2222222222222222,
              "#7201a8"
             ],
             [
              0.3333333333333333,
              "#9c179e"
             ],
             [
              0.4444444444444444,
              "#bd3786"
             ],
             [
              0.5555555555555556,
              "#d8576b"
             ],
             [
              0.6666666666666666,
              "#ed7953"
             ],
             [
              0.7777777777777778,
              "#fb9f3a"
             ],
             [
              0.8888888888888888,
              "#fdca26"
             ],
             [
              1,
              "#f0f921"
             ]
            ],
            "type": "surface"
           }
          ],
          "table": [
           {
            "cells": {
             "fill": {
              "color": "#EBF0F8"
             },
             "line": {
              "color": "white"
             }
            },
            "header": {
             "fill": {
              "color": "#C8D4E3"
             },
             "line": {
              "color": "white"
             }
            },
            "type": "table"
           }
          ]
         },
         "layout": {
          "annotationdefaults": {
           "arrowcolor": "#2a3f5f",
           "arrowhead": 0,
           "arrowwidth": 1
          },
          "autotypenumbers": "strict",
          "coloraxis": {
           "colorbar": {
            "outlinewidth": 0,
            "ticks": ""
           }
          },
          "colorscale": {
           "diverging": [
            [
             0,
             "#8e0152"
            ],
            [
             0.1,
             "#c51b7d"
            ],
            [
             0.2,
             "#de77ae"
            ],
            [
             0.3,
             "#f1b6da"
            ],
            [
             0.4,
             "#fde0ef"
            ],
            [
             0.5,
             "#f7f7f7"
            ],
            [
             0.6,
             "#e6f5d0"
            ],
            [
             0.7,
             "#b8e186"
            ],
            [
             0.8,
             "#7fbc41"
            ],
            [
             0.9,
             "#4d9221"
            ],
            [
             1,
             "#276419"
            ]
           ],
           "sequential": [
            [
             0,
             "#0d0887"
            ],
            [
             0.1111111111111111,
             "#46039f"
            ],
            [
             0.2222222222222222,
             "#7201a8"
            ],
            [
             0.3333333333333333,
             "#9c179e"
            ],
            [
             0.4444444444444444,
             "#bd3786"
            ],
            [
             0.5555555555555556,
             "#d8576b"
            ],
            [
             0.6666666666666666,
             "#ed7953"
            ],
            [
             0.7777777777777778,
             "#fb9f3a"
            ],
            [
             0.8888888888888888,
             "#fdca26"
            ],
            [
             1,
             "#f0f921"
            ]
           ],
           "sequentialminus": [
            [
             0,
             "#0d0887"
            ],
            [
             0.1111111111111111,
             "#46039f"
            ],
            [
             0.2222222222222222,
             "#7201a8"
            ],
            [
             0.3333333333333333,
             "#9c179e"
            ],
            [
             0.4444444444444444,
             "#bd3786"
            ],
            [
             0.5555555555555556,
             "#d8576b"
            ],
            [
             0.6666666666666666,
             "#ed7953"
            ],
            [
             0.7777777777777778,
             "#fb9f3a"
            ],
            [
             0.8888888888888888,
             "#fdca26"
            ],
            [
             1,
             "#f0f921"
            ]
           ]
          },
          "colorway": [
           "#636efa",
           "#EF553B",
           "#00cc96",
           "#ab63fa",
           "#FFA15A",
           "#19d3f3",
           "#FF6692",
           "#B6E880",
           "#FF97FF",
           "#FECB52"
          ],
          "font": {
           "color": "#2a3f5f"
          },
          "geo": {
           "bgcolor": "white",
           "lakecolor": "white",
           "landcolor": "#E5ECF6",
           "showlakes": true,
           "showland": true,
           "subunitcolor": "white"
          },
          "hoverlabel": {
           "align": "left"
          },
          "hovermode": "closest",
          "mapbox": {
           "style": "light"
          },
          "paper_bgcolor": "white",
          "plot_bgcolor": "#E5ECF6",
          "polar": {
           "angularaxis": {
            "gridcolor": "white",
            "linecolor": "white",
            "ticks": ""
           },
           "bgcolor": "#E5ECF6",
           "radialaxis": {
            "gridcolor": "white",
            "linecolor": "white",
            "ticks": ""
           }
          },
          "scene": {
           "xaxis": {
            "backgroundcolor": "#E5ECF6",
            "gridcolor": "white",
            "gridwidth": 2,
            "linecolor": "white",
            "showbackground": true,
            "ticks": "",
            "zerolinecolor": "white"
           },
           "yaxis": {
            "backgroundcolor": "#E5ECF6",
            "gridcolor": "white",
            "gridwidth": 2,
            "linecolor": "white",
            "showbackground": true,
            "ticks": "",
            "zerolinecolor": "white"
           },
           "zaxis": {
            "backgroundcolor": "#E5ECF6",
            "gridcolor": "white",
            "gridwidth": 2,
            "linecolor": "white",
            "showbackground": true,
            "ticks": "",
            "zerolinecolor": "white"
           }
          },
          "shapedefaults": {
           "line": {
            "color": "#2a3f5f"
           }
          },
          "ternary": {
           "aaxis": {
            "gridcolor": "white",
            "linecolor": "white",
            "ticks": ""
           },
           "baxis": {
            "gridcolor": "white",
            "linecolor": "white",
            "ticks": ""
           },
           "bgcolor": "#E5ECF6",
           "caxis": {
            "gridcolor": "white",
            "linecolor": "white",
            "ticks": ""
           }
          },
          "title": {
           "x": 0.05
          },
          "xaxis": {
           "automargin": true,
           "gridcolor": "white",
           "linecolor": "white",
           "ticks": "",
           "title": {
            "standoff": 15
           },
           "zerolinecolor": "white",
           "zerolinewidth": 2
          },
          "yaxis": {
           "automargin": true,
           "gridcolor": "white",
           "linecolor": "white",
           "ticks": "",
           "title": {
            "standoff": 15
           },
           "zerolinecolor": "white",
           "zerolinewidth": 2
          }
         }
        }
       }
      },
      "text/html": [
       "<div>                            <div id=\"1a94bee8-7ad9-458d-9a60-f9c3b0b7309b\" class=\"plotly-graph-div\" style=\"height:525px; width:100%;\"></div>            <script type=\"text/javascript\">                require([\"plotly\"], function(Plotly) {                    window.PLOTLYENV=window.PLOTLYENV || {};                                    if (document.getElementById(\"1a94bee8-7ad9-458d-9a60-f9c3b0b7309b\")) {                    Plotly.newPlot(                        \"1a94bee8-7ad9-458d-9a60-f9c3b0b7309b\",                        [{\"geo\": \"geo\", \"hovertemplate\": \"<b>%{hovertext}</b><br><br>nbr_suicide=%{marker.size}<br>alpha-3=%{location}<extra></extra>\", \"hovertext\": [\"Albania\", \"Antigua and Barbuda\", \"Argentina\", \"Armenia\", \"Aruba\", \"Australia\", \"Austria\", \"Azerbaijan\", \"Bahamas\", \"Bahrain\", \"Barbados\", \"Belarus\", \"Belgium\", \"Belize\", \"Bosnia and Herzegovina\", \"Brazil\", \"Bulgaria\", \"Cabo Verde\", \"Canada\", \"Chile\", \"Colombia\", \"Costa Rica\", \"Croatia\", \"Cuba\", \"Cyprus\", \"Denmark\", \"Dominica\", \"Ecuador\", \"El Salvador\", \"Estonia\", \"Fiji\", \"Finland\", \"France\", \"Georgia\", \"Germany\", \"Greece\", \"Grenada\", \"Guatemala\", \"Guyana\", \"Hungary\", \"Iceland\", \"Ireland\", \"Israel\", \"Italy\", \"Jamaica\", \"Japan\", \"Kazakhstan\", \"Kiribati\", \"Kuwait\", \"Kyrgyzstan\", \"Latvia\", \"Lithuania\", \"Luxembourg\", \"Maldives\", \"Malta\", \"Mauritius\", \"Mexico\", \"Mongolia\", \"Montenegro\", \"Netherlands\", \"New Zealand\", \"Nicaragua\", \"Norway\", \"Oman\", \"Panama\", \"Paraguay\", \"Philippines\", \"Poland\", \"Portugal\", \"Puerto Rico\", \"Qatar\", \"Romania\", \"Russian Federation\", \"Saint Kitts and Nevis\", \"Saint Lucia\", \"San Marino\", \"Serbia\", \"Seychelles\", \"Singapore\", \"Slovakia\", \"Slovenia\", \"South Africa\", \"Spain\", \"Sri Lanka\", \"Suriname\", \"Sweden\", \"Switzerland\", \"Thailand\", \"Trinidad and Tobago\", \"Turkey\", \"Turkmenistan\", \"Ukraine\", \"United Arab Emirates\", \"Uruguay\", \"Uzbekistan\"], \"legendgroup\": \"\", \"locations\": [\"ALB\", \"ATG\", \"ARG\", \"ARM\", \"ABW\", \"AUS\", \"AUT\", \"AZE\", \"BHS\", \"BHR\", \"BRB\", \"BLR\", \"BEL\", \"BLZ\", \"BIH\", \"BRA\", \"BGR\", \"CPV\", \"CAN\", \"CHL\", \"COL\", \"CRI\", \"HRV\", \"CUB\", \"CYP\", \"DNK\", \"DMA\", \"ECU\", \"SLV\", \"EST\", \"FJI\", \"FIN\", \"FRA\", \"GEO\", \"DEU\", \"GRC\", \"GRD\", \"GTM\", \"GUY\", \"HUN\", \"ISL\", \"IRL\", \"ISR\", \"ITA\", \"JAM\", \"JPN\", \"KAZ\", \"KIR\", \"KWT\", \"KGZ\", \"LVA\", \"LTU\", \"LUX\", \"MDV\", \"MLT\", \"MUS\", \"MEX\", \"MNG\", \"MNE\", \"NLD\", \"NZL\", \"NIC\", \"NOR\", \"OMN\", \"PAN\", \"PRY\", \"PHL\", \"POL\", \"PRT\", \"PRI\", \"QAT\", \"ROU\", \"RUS\", \"KNA\", \"LCA\", \"SMR\", \"SRB\", \"SYC\", \"SGP\", \"SVK\", \"SVN\", \"ZAF\", \"ESP\", \"LKA\", \"SUR\", \"SWE\", \"CHE\", \"THA\", \"TTO\", \"TUR\", \"TKM\", \"UKR\", \"ARE\", \"URY\", \"UZB\"], \"marker\": {\"color\": \"#636efa\", \"size\": [1970, 11, 82219, 1905, 101, 70111, 50073, 1656, 93, 463, 177, 59892, 62761, 348, 318, 226613, 36388, 42, 107561, 40895, 53080, 6792, 18429, 41418, 412, 15297, 0, 20660, 11683, 7034, 304, 33677, 329127, 3224, 291262, 12368, 38, 8149, 3426, 73891, 1108, 12574, 11294, 132060, 184, 806902, 101546, 53, 966, 13090, 12770, 28039, 1958, 20, 585, 3894, 111139, 423, 472, 50833, 14383, 2013, 16992, 33, 3483, 4783, 21330, 139098, 24061, 9043, 574, 72777, 1209742, 0, 230, 4, 24179, 98, 10089, 13437, 10615, 7321, 100202, 55641, 2166, 37795, 26217, 110643, 4039, 10131, 8624, 319950, 622, 13138, 34803], \"sizemode\": \"area\", \"sizeref\": 3024.355, \"symbol\": \"circle\"}, \"mode\": \"markers\", \"name\": \"\", \"showlegend\": false, \"type\": \"scattergeo\"}],                        {\"geo\": {\"center\": {}, \"domain\": {\"x\": [0.0, 1.0], \"y\": [0.0, 1.0]}, \"projection\": {\"type\": \"natural earth\"}}, \"legend\": {\"itemsizing\": \"constant\", \"tracegroupgap\": 0}, \"margin\": {\"t\": 60}, \"template\": {\"data\": {\"bar\": [{\"error_x\": {\"color\": \"#2a3f5f\"}, \"error_y\": {\"color\": \"#2a3f5f\"}, \"marker\": {\"line\": {\"color\": \"#E5ECF6\", \"width\": 0.5}}, \"type\": \"bar\"}], \"barpolar\": [{\"marker\": {\"line\": {\"color\": \"#E5ECF6\", \"width\": 0.5}}, \"type\": \"barpolar\"}], \"carpet\": [{\"aaxis\": {\"endlinecolor\": \"#2a3f5f\", \"gridcolor\": \"white\", \"linecolor\": \"white\", \"minorgridcolor\": \"white\", \"startlinecolor\": \"#2a3f5f\"}, \"baxis\": {\"endlinecolor\": \"#2a3f5f\", \"gridcolor\": \"white\", \"linecolor\": \"white\", \"minorgridcolor\": \"white\", \"startlinecolor\": \"#2a3f5f\"}, \"type\": \"carpet\"}], \"choropleth\": [{\"colorbar\": {\"outlinewidth\": 0, \"ticks\": \"\"}, \"type\": \"choropleth\"}], \"contour\": [{\"colorbar\": {\"outlinewidth\": 0, \"ticks\": \"\"}, \"colorscale\": [[0.0, \"#0d0887\"], [0.1111111111111111, \"#46039f\"], [0.2222222222222222, \"#7201a8\"], [0.3333333333333333, \"#9c179e\"], [0.4444444444444444, \"#bd3786\"], [0.5555555555555556, \"#d8576b\"], [0.6666666666666666, \"#ed7953\"], [0.7777777777777778, \"#fb9f3a\"], [0.8888888888888888, \"#fdca26\"], [1.0, \"#f0f921\"]], \"type\": \"contour\"}], \"contourcarpet\": [{\"colorbar\": {\"outlinewidth\": 0, \"ticks\": \"\"}, \"type\": \"contourcarpet\"}], \"heatmap\": [{\"colorbar\": {\"outlinewidth\": 0, \"ticks\": \"\"}, \"colorscale\": [[0.0, \"#0d0887\"], [0.1111111111111111, \"#46039f\"], [0.2222222222222222, \"#7201a8\"], [0.3333333333333333, \"#9c179e\"], [0.4444444444444444, \"#bd3786\"], [0.5555555555555556, \"#d8576b\"], [0.6666666666666666, \"#ed7953\"], [0.7777777777777778, \"#fb9f3a\"], [0.8888888888888888, \"#fdca26\"], [1.0, \"#f0f921\"]], \"type\": \"heatmap\"}], \"heatmapgl\": [{\"colorbar\": {\"outlinewidth\": 0, \"ticks\": \"\"}, \"colorscale\": [[0.0, \"#0d0887\"], [0.1111111111111111, \"#46039f\"], [0.2222222222222222, \"#7201a8\"], [0.3333333333333333, \"#9c179e\"], [0.4444444444444444, \"#bd3786\"], [0.5555555555555556, \"#d8576b\"], [0.6666666666666666, \"#ed7953\"], [0.7777777777777778, \"#fb9f3a\"], [0.8888888888888888, \"#fdca26\"], [1.0, \"#f0f921\"]], \"type\": \"heatmapgl\"}], \"histogram\": [{\"marker\": {\"colorbar\": {\"outlinewidth\": 0, \"ticks\": \"\"}}, \"type\": \"histogram\"}], \"histogram2d\": [{\"colorbar\": {\"outlinewidth\": 0, \"ticks\": \"\"}, \"colorscale\": [[0.0, \"#0d0887\"], [0.1111111111111111, \"#46039f\"], [0.2222222222222222, \"#7201a8\"], [0.3333333333333333, \"#9c179e\"], [0.4444444444444444, \"#bd3786\"], [0.5555555555555556, \"#d8576b\"], [0.6666666666666666, \"#ed7953\"], [0.7777777777777778, \"#fb9f3a\"], [0.8888888888888888, \"#fdca26\"], [1.0, \"#f0f921\"]], \"type\": \"histogram2d\"}], \"histogram2dcontour\": [{\"colorbar\": {\"outlinewidth\": 0, \"ticks\": \"\"}, \"colorscale\": [[0.0, \"#0d0887\"], [0.1111111111111111, \"#46039f\"], [0.2222222222222222, \"#7201a8\"], [0.3333333333333333, \"#9c179e\"], [0.4444444444444444, \"#bd3786\"], [0.5555555555555556, \"#d8576b\"], [0.6666666666666666, \"#ed7953\"], [0.7777777777777778, \"#fb9f3a\"], [0.8888888888888888, \"#fdca26\"], [1.0, \"#f0f921\"]], \"type\": \"histogram2dcontour\"}], \"mesh3d\": [{\"colorbar\": {\"outlinewidth\": 0, \"ticks\": \"\"}, \"type\": \"mesh3d\"}], \"parcoords\": [{\"line\": {\"colorbar\": {\"outlinewidth\": 0, \"ticks\": \"\"}}, \"type\": \"parcoords\"}], \"pie\": [{\"automargin\": true, \"type\": \"pie\"}], \"scatter\": [{\"marker\": {\"colorbar\": {\"outlinewidth\": 0, \"ticks\": \"\"}}, \"type\": \"scatter\"}], \"scatter3d\": [{\"line\": {\"colorbar\": {\"outlinewidth\": 0, \"ticks\": \"\"}}, \"marker\": {\"colorbar\": {\"outlinewidth\": 0, \"ticks\": \"\"}}, \"type\": \"scatter3d\"}], \"scattercarpet\": [{\"marker\": {\"colorbar\": {\"outlinewidth\": 0, \"ticks\": \"\"}}, \"type\": \"scattercarpet\"}], \"scattergeo\": [{\"marker\": {\"colorbar\": {\"outlinewidth\": 0, \"ticks\": \"\"}}, \"type\": \"scattergeo\"}], \"scattergl\": [{\"marker\": {\"colorbar\": {\"outlinewidth\": 0, \"ticks\": \"\"}}, \"type\": \"scattergl\"}], \"scattermapbox\": [{\"marker\": {\"colorbar\": {\"outlinewidth\": 0, \"ticks\": \"\"}}, \"type\": \"scattermapbox\"}], \"scatterpolar\": [{\"marker\": {\"colorbar\": {\"outlinewidth\": 0, \"ticks\": \"\"}}, \"type\": \"scatterpolar\"}], \"scatterpolargl\": [{\"marker\": {\"colorbar\": {\"outlinewidth\": 0, \"ticks\": \"\"}}, \"type\": \"scatterpolargl\"}], \"scatterternary\": [{\"marker\": {\"colorbar\": {\"outlinewidth\": 0, \"ticks\": \"\"}}, \"type\": \"scatterternary\"}], \"surface\": [{\"colorbar\": {\"outlinewidth\": 0, \"ticks\": \"\"}, \"colorscale\": [[0.0, \"#0d0887\"], [0.1111111111111111, \"#46039f\"], [0.2222222222222222, \"#7201a8\"], [0.3333333333333333, \"#9c179e\"], [0.4444444444444444, \"#bd3786\"], [0.5555555555555556, \"#d8576b\"], [0.6666666666666666, \"#ed7953\"], [0.7777777777777778, \"#fb9f3a\"], [0.8888888888888888, \"#fdca26\"], [1.0, \"#f0f921\"]], \"type\": \"surface\"}], \"table\": [{\"cells\": {\"fill\": {\"color\": \"#EBF0F8\"}, \"line\": {\"color\": \"white\"}}, \"header\": {\"fill\": {\"color\": \"#C8D4E3\"}, \"line\": {\"color\": \"white\"}}, \"type\": \"table\"}]}, \"layout\": {\"annotationdefaults\": {\"arrowcolor\": \"#2a3f5f\", \"arrowhead\": 0, \"arrowwidth\": 1}, \"autotypenumbers\": \"strict\", \"coloraxis\": {\"colorbar\": {\"outlinewidth\": 0, \"ticks\": \"\"}}, \"colorscale\": {\"diverging\": [[0, \"#8e0152\"], [0.1, \"#c51b7d\"], [0.2, \"#de77ae\"], [0.3, \"#f1b6da\"], [0.4, \"#fde0ef\"], [0.5, \"#f7f7f7\"], [0.6, \"#e6f5d0\"], [0.7, \"#b8e186\"], [0.8, \"#7fbc41\"], [0.9, \"#4d9221\"], [1, \"#276419\"]], \"sequential\": [[0.0, \"#0d0887\"], [0.1111111111111111, \"#46039f\"], [0.2222222222222222, \"#7201a8\"], [0.3333333333333333, \"#9c179e\"], [0.4444444444444444, \"#bd3786\"], [0.5555555555555556, \"#d8576b\"], [0.6666666666666666, \"#ed7953\"], [0.7777777777777778, \"#fb9f3a\"], [0.8888888888888888, \"#fdca26\"], [1.0, \"#f0f921\"]], \"sequentialminus\": [[0.0, \"#0d0887\"], [0.1111111111111111, \"#46039f\"], [0.2222222222222222, \"#7201a8\"], [0.3333333333333333, \"#9c179e\"], [0.4444444444444444, \"#bd3786\"], [0.5555555555555556, \"#d8576b\"], [0.6666666666666666, \"#ed7953\"], [0.7777777777777778, \"#fb9f3a\"], [0.8888888888888888, \"#fdca26\"], [1.0, \"#f0f921\"]]}, \"colorway\": [\"#636efa\", \"#EF553B\", \"#00cc96\", \"#ab63fa\", \"#FFA15A\", \"#19d3f3\", \"#FF6692\", \"#B6E880\", \"#FF97FF\", \"#FECB52\"], \"font\": {\"color\": \"#2a3f5f\"}, \"geo\": {\"bgcolor\": \"white\", \"lakecolor\": \"white\", \"landcolor\": \"#E5ECF6\", \"showlakes\": true, \"showland\": true, \"subunitcolor\": \"white\"}, \"hoverlabel\": {\"align\": \"left\"}, \"hovermode\": \"closest\", \"mapbox\": {\"style\": \"light\"}, \"paper_bgcolor\": \"white\", \"plot_bgcolor\": \"#E5ECF6\", \"polar\": {\"angularaxis\": {\"gridcolor\": \"white\", \"linecolor\": \"white\", \"ticks\": \"\"}, \"bgcolor\": \"#E5ECF6\", \"radialaxis\": {\"gridcolor\": \"white\", \"linecolor\": \"white\", \"ticks\": \"\"}}, \"scene\": {\"xaxis\": {\"backgroundcolor\": \"#E5ECF6\", \"gridcolor\": \"white\", \"gridwidth\": 2, \"linecolor\": \"white\", \"showbackground\": true, \"ticks\": \"\", \"zerolinecolor\": \"white\"}, \"yaxis\": {\"backgroundcolor\": \"#E5ECF6\", \"gridcolor\": \"white\", \"gridwidth\": 2, \"linecolor\": \"white\", \"showbackground\": true, \"ticks\": \"\", \"zerolinecolor\": \"white\"}, \"zaxis\": {\"backgroundcolor\": \"#E5ECF6\", \"gridcolor\": \"white\", \"gridwidth\": 2, \"linecolor\": \"white\", \"showbackground\": true, \"ticks\": \"\", \"zerolinecolor\": \"white\"}}, \"shapedefaults\": {\"line\": {\"color\": \"#2a3f5f\"}}, \"ternary\": {\"aaxis\": {\"gridcolor\": \"white\", \"linecolor\": \"white\", \"ticks\": \"\"}, \"baxis\": {\"gridcolor\": \"white\", \"linecolor\": \"white\", \"ticks\": \"\"}, \"bgcolor\": \"#E5ECF6\", \"caxis\": {\"gridcolor\": \"white\", \"linecolor\": \"white\", \"ticks\": \"\"}}, \"title\": {\"x\": 0.05}, \"xaxis\": {\"automargin\": true, \"gridcolor\": \"white\", \"linecolor\": \"white\", \"ticks\": \"\", \"title\": {\"standoff\": 15}, \"zerolinecolor\": \"white\", \"zerolinewidth\": 2}, \"yaxis\": {\"automargin\": true, \"gridcolor\": \"white\", \"linecolor\": \"white\", \"ticks\": \"\", \"title\": {\"standoff\": 15}, \"zerolinecolor\": \"white\", \"zerolinewidth\": 2}}}},                        {\"responsive\": true}                    ).then(function(){\n",
       "                            \n",
       "var gd = document.getElementById('1a94bee8-7ad9-458d-9a60-f9c3b0b7309b');\n",
       "var x = new MutationObserver(function (mutations, observer) {{\n",
       "        var display = window.getComputedStyle(gd).display;\n",
       "        if (!display || display === 'none') {{\n",
       "            console.log([gd, 'removed!']);\n",
       "            Plotly.purge(gd);\n",
       "            observer.disconnect();\n",
       "        }}\n",
       "}});\n",
       "\n",
       "// Listen for the removal of the full notebook cells\n",
       "var notebookContainer = gd.closest('#notebook-container');\n",
       "if (notebookContainer) {{\n",
       "    x.observe(notebookContainer, {childList: true});\n",
       "}}\n",
       "\n",
       "// Listen for the clearing of the current output cell\n",
       "var outputEl = gd.closest('.output');\n",
       "if (outputEl) {{\n",
       "    x.observe(outputEl, {childList: true});\n",
       "}}\n",
       "\n",
       "                        })                };                });            </script>        </div>"
      ]
     },
     "metadata": {},
     "output_type": "display_data"
    }
   ],
   "source": [
    "df_15_24=df_country.toPandas()\n",
    "df_join=pd.merge(df_15_24,df_pays,on=\"country\")\n",
    "\n",
    "# Maps mondial avec le nombre de suicide dans chaque pays \n",
    "import plotly.express as px\n",
    "\n",
    "fig = px.scatter_geo(df_join, locations=\"alpha-3\",\n",
    "                     hover_name=\"country\", size=\"nbr_suicide\",\n",
    "                     projection=\"natural earth\")\n",
    "fig.show()"
   ]
  },
  {
   "cell_type": "code",
   "execution_count": 189,
   "metadata": {},
   "outputs": [
    {
     "data": {
      "text/plain": [
       "101"
      ]
     },
     "execution_count": 189,
     "metadata": {},
     "output_type": "execute_result"
    }
   ],
   "source": [
    "# Création d'un dataframe df_country_gdph qui affiche le nombre de suicides et la moyenne du PIB par habitant \n",
    "# pour chaque pays\n",
    "df_country_gdph = df.groupBy(\"country\").agg({\"suicides_no\":\"sum\" ,\"gdp_per_capita ($)\" : \"avg\"})\n",
    "# On renomme la colonne de sum(suicide_no) par nbr_suicide\n",
    "df_country_gdph = df_country_gdph.withColumnRenamed(\"sum(suicides_no)\",\"nbr_suicide\")\n",
    "df_country_gdph = df_country_gdph.withColumnRenamed(\"avg(gdp_per_capita ($))\",\"PIB / HAB $\")\n",
    "df_country_gdph.count()"
   ]
  },
  {
   "cell_type": "code",
   "execution_count": 190,
   "metadata": {},
   "outputs": [
    {
     "name": "stdout",
     "output_type": "stream",
     "text": [
      "+--------------------+-----------+------------------+\n",
      "|             country|nbr_suicide|       PIB / HAB $|\n",
      "+--------------------+-----------+------------------+\n",
      "|             Albania|       1970|1859.0454545454545|\n",
      "| Antigua and Barbuda|         11|10448.185185185184|\n",
      "|           Argentina|      82219| 7914.096774193548|\n",
      "|             Armenia|       1905|1873.9194630872482|\n",
      "|               Aruba|        101| 24221.64285714286|\n",
      "|           Australia|      70111|           32776.4|\n",
      "|             Austria|      50073|34261.780104712045|\n",
      "|          Azerbaijan|       1656|          1005.125|\n",
      "|             Bahamas|         93|25836.391304347828|\n",
      "|             Bahrain|        463| 18039.52380952381|\n",
      "|            Barbados|        177|           12251.0|\n",
      "|             Belarus|      59892| 3333.904761904762|\n",
      "|             Belgium|      62761| 32066.74193548387|\n",
      "|              Belize|        348| 4006.464285714286|\n",
      "|Bosnia and Herzeg...|        318|            5077.5|\n",
      "|              Brazil|     226613|6091.4838709677415|\n",
      "|            Bulgaria|      36388|3640.4333333333334|\n",
      "|          Cabo Verde|         42|            4124.0|\n",
      "|              Canada|     107561| 30887.48275862069|\n",
      "|               Chile|      40895| 7493.064516129032|\n",
      "|            Colombia|      53080| 3708.967741935484|\n",
      "|          Costa Rica|       6792|            5149.7|\n",
      "|             Croatia|      18429|10355.870229007634|\n",
      "|                Cuba|      41418| 4351.166666666667|\n",
      "|              Cyprus|        412|27668.224719101123|\n",
      "|      Czech Republic|      43687|12369.546583850932|\n",
      "|             Denmark|      15297| 49299.90909090909|\n",
      "|            Dominica|          0|            1485.0|\n",
      "|             Ecuador|      20660|3286.2580645161293|\n",
      "|         El Salvador|      11683|2550.6666666666665|\n",
      "|             Estonia|       7034|11376.095238095239|\n",
      "|                Fiji|        304|3913.2727272727275|\n",
      "|             Finland|      33677|35468.275862068964|\n",
      "|              France|     329127|31481.466666666667|\n",
      "|             Georgia|       3224|1893.1363636363637|\n",
      "|             Germany|     291262|35164.230769230766|\n",
      "|              Greece|      12368|17019.387096774193|\n",
      "|             Grenada|         38| 6209.406451612903|\n",
      "|           Guatemala|       8149|2263.5333333333333|\n",
      "|              Guyana|       3426|           1674.92|\n",
      "|             Hungary|      73891| 9370.051612903226|\n",
      "|             Iceland|       1108| 39274.75392670157|\n",
      "|             Ireland|      12574| 34230.86666666667|\n",
      "|              Israel|      11294|23125.451612903227|\n",
      "|               Italy|     132060| 26602.58064516129|\n",
      "|             Jamaica|        184| 3301.235294117647|\n",
      "|               Japan|     806902| 36397.54838709677|\n",
      "|          Kazakhstan|     101546| 5329.115384615385|\n",
      "|            Kiribati|         53| 875.9090909090909|\n",
      "|              Kuwait|        966|           27819.0|\n",
      "|          Kyrgyzstan|      13090| 720.7307692307693|\n",
      "|              Latvia|      12770| 8961.095238095239|\n",
      "|           Lithuania|      28039|  9280.54961832061|\n",
      "|          Luxembourg|       1958|  68798.3870967742|\n",
      "|               Macau|         27|           18081.0|\n",
      "|            Maldives|         20|            5088.9|\n",
      "|               Malta|        585| 14044.41935483871|\n",
      "|           Mauritius|       3894| 5506.659685863874|\n",
      "|              Mexico|     111139| 7138.451612903225|\n",
      "|            Mongolia|        423|            4145.0|\n",
      "|          Montenegro|        472|            4195.6|\n",
      "|         Netherlands|      50833| 35714.67015706806|\n",
      "|         New Zealand|      14383| 22279.48275862069|\n",
      "|           Nicaragua|       2013|2028.8333333333333|\n",
      "|              Norway|      16992|           57319.6|\n",
      "|                Oman|         33|20740.666666666668|\n",
      "|              Panama|       3483|           6626.52|\n",
      "|            Paraguay|       4783| 2365.777777777778|\n",
      "|         Philippines|      21330|            1540.2|\n",
      "|              Poland|     139098| 8146.458333333333|\n",
      "|            Portugal|      24061|14176.296296296296|\n",
      "|         Puerto Rico|       9043|18352.645161290322|\n",
      "|               Qatar|        574| 67756.44943820225|\n",
      "|   Republic of Korea|     261730|14801.258064516129|\n",
      "|             Romania|      72777| 4791.449101796407|\n",
      "|  Russian Federation|    1209742| 6518.814814814815|\n",
      "|Saint Kitts and N...|          0|            5525.0|\n",
      "|         Saint Lucia|        230| 5789.035714285715|\n",
      "|Saint Vincent and...|        124|           4954.64|\n",
      "|          San Marino|          4|53663.666666666664|\n",
      "|              Serbia|      24179| 4471.277777777777|\n",
      "|          Seychelles|         98|10655.722222222223|\n",
      "|           Singapore|      10089| 38050.25806451613|\n",
      "|            Slovakia|      13437|           10526.0|\n",
      "|            Slovenia|      10615|18642.238095238095|\n",
      "|        South Africa|       7321|            5589.5|\n",
      "|               Spain|     100202| 20982.16129032258|\n",
      "|           Sri Lanka|      55641| 904.2727272727273|\n",
      "|            Suriname|       2166| 4351.964285714285|\n",
      "|              Sweden|      37795| 41357.57541899441|\n",
      "|         Switzerland|      26217| 62981.76190476191|\n",
      "|            Thailand|     110643|3572.1616766467064|\n",
      "| Trinidad and Tobago|       4039| 8829.037037037036|\n",
      "|              Turkey|      10131|12134.285714285714|\n",
      "|        Turkmenistan|       8624| 2618.103448275862|\n",
      "|             Ukraine|     319950|1867.5357142857142|\n",
      "|United Arab Emirates|        622|           42162.0|\n",
      "|      United Kingdom|     136805|31908.354838709678|\n",
      "|       United States|    1034013|  39269.6129032258|\n",
      "|             Uruguay|      13138| 7622.071428571428|\n",
      "|          Uzbekistan|      34803| 976.1818181818181|\n",
      "+--------------------+-----------+------------------+\n",
      "\n"
     ]
    }
   ],
   "source": [
    "# Affichage du dateframe df_country_gdph par ordre croissant des pays\n",
    "df_country_gdph = df_country_gdph.orderBy(\"country\")\n",
    "df_country_gdph.show(101)"
   ]
  },
  {
   "cell_type": "code",
   "execution_count": 191,
   "metadata": {},
   "outputs": [
    {
     "data": {
      "text/plain": [
       "2321"
      ]
     },
     "execution_count": 191,
     "metadata": {},
     "output_type": "execute_result"
    }
   ],
   "source": [
    "# Création d'un dataframe df_country_pop qui affiche le nombre de suicide et la population dans chaque pays \n",
    "# et par chaque année entre 1985 et 2016\n",
    "df_country_pop = df.groupBy(\"country\",\"year\").agg({\"population\": \"sum\",\"suicides_no\":\"sum\"})\n",
    "# On renomme la colonne de sum(suicide_no) par nbr_suicide\n",
    "df_country_pop = df_country_pop.withColumnRenamed(\"sum(suicides_no)\",\"nbr_suicide\")\n",
    "df_country_pop = df_country_pop.withColumnRenamed(\"sum(population)\",\"population\")\n",
    "df_country_pop.count()"
   ]
  },
  {
   "cell_type": "code",
   "execution_count": 192,
   "metadata": {},
   "outputs": [
    {
     "name": "stdout",
     "output_type": "stream",
     "text": [
      "+-------------------+----+-----------+----------+\n",
      "|            country|year|nbr_suicide|population|\n",
      "+-------------------+----+-----------+----------+\n",
      "|            Albania|1987|         73|   2709600|\n",
      "|            Albania|1988|         63|   2764300|\n",
      "|            Albania|1989|         68|   2803100|\n",
      "|            Albania|1992|         47|   2822500|\n",
      "|            Albania|1993|         73|   2807300|\n",
      "|            Albania|1994|         50|   2849300|\n",
      "|            Albania|1995|         88|   2903400|\n",
      "|            Albania|1996|         89|   2940200|\n",
      "|            Albania|1997|        170|   2977300|\n",
      "|            Albania|1998|        154|   3012700|\n",
      "|            Albania|1999|        139|   3029700|\n",
      "|            Albania|2000|         54|   2796300|\n",
      "|            Albania|2001|        119|   2799349|\n",
      "|            Albania|2002|        133|   2818839|\n",
      "|            Albania|2003|        124|   2843929|\n",
      "|            Albania|2004|        146|   2874991|\n",
      "|            Albania|2005|          0|   2783320|\n",
      "|            Albania|2006|          0|   2780176|\n",
      "|            Albania|2007|        124|   2770344|\n",
      "|            Albania|2008|        160|   2757059|\n",
      "|            Albania|2009|          0|   2745735|\n",
      "|            Albania|2010|         96|   2736025|\n",
      "|Antigua and Barbuda|1985|          0|     62574|\n",
      "|Antigua and Barbuda|1986|          0|     61270|\n",
      "|Antigua and Barbuda|1987|          0|     60261|\n",
      "|Antigua and Barbuda|1988|          0|     59564|\n",
      "|Antigua and Barbuda|1989|          0|     59238|\n",
      "|Antigua and Barbuda|1990|          1|     59334|\n",
      "|Antigua and Barbuda|1991|          0|     60394|\n",
      "|Antigua and Barbuda|1992|          0|     61741|\n",
      "|Antigua and Barbuda|1993|          1|     63315|\n",
      "|Antigua and Barbuda|1994|          0|     65044|\n",
      "|Antigua and Barbuda|1995|          0|     66846|\n",
      "|Antigua and Barbuda|1998|          0|     72225|\n",
      "|Antigua and Barbuda|1999|          0|     73832|\n",
      "|Antigua and Barbuda|2000|          2|     75326|\n",
      "|Antigua and Barbuda|2001|          2|     76497|\n",
      "|Antigua and Barbuda|2002|          0|     77588|\n",
      "|Antigua and Barbuda|2003|          1|     78658|\n",
      "|Antigua and Barbuda|2004|          2|     79722|\n",
      "|Antigua and Barbuda|2005|          0|     80809|\n",
      "|Antigua and Barbuda|2006|          0|     81973|\n",
      "|Antigua and Barbuda|2007|          1|     83131|\n",
      "|Antigua and Barbuda|2008|          0|     84273|\n",
      "|Antigua and Barbuda|2009|          0|     85405|\n",
      "|Antigua and Barbuda|2012|          0|     88703|\n",
      "|Antigua and Barbuda|2013|          0|     89779|\n",
      "|Antigua and Barbuda|2014|          0|     90837|\n",
      "|Antigua and Barbuda|2015|          1|     91889|\n",
      "|          Argentina|1985|       1988|  27090800|\n",
      "|          Argentina|1986|       2284|  27244400|\n",
      "|          Argentina|1987|       2286|  27599400|\n",
      "|          Argentina|1988|       2354|  28308000|\n",
      "|          Argentina|1989|       2247|  28702000|\n",
      "|          Argentina|1990|       2140|  29091100|\n",
      "|          Argentina|1991|       1951|  29623000|\n",
      "|          Argentina|1992|       2184|  30045400|\n",
      "|          Argentina|1993|       2230|  30477500|\n",
      "|          Argentina|1994|       2241|  30911200|\n",
      "|          Argentina|1995|       2204|  31345400|\n",
      "|          Argentina|1996|       2229|  31780700|\n",
      "|          Argentina|1997|       2184|  32333781|\n",
      "|          Argentina|1998|       2347|  32757259|\n",
      "|          Argentina|1999|       2423|  33174862|\n",
      "|          Argentina|2000|       2774|  33585533|\n",
      "|          Argentina|2001|       3132|  34010946|\n",
      "|          Argentina|2002|       3162|  34407507|\n",
      "|          Argentina|2003|       3289|  34785907|\n",
      "|          Argentina|2004|       3121|  35162945|\n",
      "|          Argentina|2005|       3058|  35550617|\n",
      "|          Argentina|2006|       3108|  35918886|\n",
      "|          Argentina|2007|       2946|  36315492|\n",
      "|          Argentina|2008|       3059|  36733520|\n",
      "|          Argentina|2009|       2884|  37158001|\n",
      "|          Argentina|2010|       2943|  37578454|\n",
      "|          Argentina|2011|       2912|  38015739|\n",
      "|          Argentina|2012|       3248|  38441778|\n",
      "|          Argentina|2013|       2987|  38859125|\n",
      "|          Argentina|2014|       3231|  39276555|\n",
      "|          Argentina|2015|       3073|  39699624|\n",
      "|            Armenia|1990|         93|   2983700|\n",
      "|            Armenia|1991|         80|   3230800|\n",
      "|            Armenia|1992|         83|   3308700|\n",
      "|            Armenia|1993|        106|   3366600|\n",
      "|            Armenia|1994|        112|   3402500|\n",
      "|            Armenia|1995|        130|   3443200|\n",
      "|            Armenia|1996|         87|   3486300|\n",
      "|            Armenia|1997|         77|   3526700|\n",
      "|            Armenia|1998|         66|   3558000|\n",
      "|            Armenia|1999|         67|   3580700|\n",
      "|            Armenia|2000|         61|   3606500|\n",
      "|            Armenia|2001|         60|   3610516|\n",
      "|            Armenia|2002|         74|   3014844|\n",
      "|            Armenia|2003|         59|   3024366|\n",
      "|            Armenia|2006|         78|   2764396|\n",
      "|            Armenia|2007|         71|   2735313|\n",
      "|            Armenia|2008|         63|   3045391|\n",
      "|            Armenia|2009|         53|   2689695|\n",
      "|            Armenia|2010|         73|   2676225|\n",
      "|            Armenia|2011|         67|   2670366|\n",
      "+-------------------+----+-----------+----------+\n",
      "only showing top 100 rows\n",
      "\n"
     ]
    }
   ],
   "source": [
    "# Affichage du dataframe df_country_pop\n",
    "df_country_pop = df_country_pop.orderBy(\"country\",\"year\").show(100)"
   ]
  },
  {
   "cell_type": "code",
   "execution_count": 193,
   "metadata": {},
   "outputs": [
    {
     "name": "stdout",
     "output_type": "stream",
     "text": [
      "+-------+-----------------+\n",
      "|summary|      nbr_suicide|\n",
      "+-------+-----------------+\n",
      "|  count|              101|\n",
      "|   mean| 66816.0396039604|\n",
      "| stddev|182160.9262202474|\n",
      "|    min|                0|\n",
      "|    max|          1209742|\n",
      "+-------+-----------------+\n",
      "\n"
     ]
    }
   ],
   "source": [
    "# Afficher les statistiques de la colonne nombre de suicide du dataframe df_country\n",
    "df_country.describe(\"nbr_suicide\").show()"
   ]
  },
  {
   "cell_type": "code",
   "execution_count": 194,
   "metadata": {},
   "outputs": [
    {
     "name": "stdout",
     "output_type": "stream",
     "text": [
      "+-------+------------------+\n",
      "|summary|       nbr_suicide|\n",
      "+-------+------------------+\n",
      "|  count|                32|\n",
      "|   mean|        210888.125|\n",
      "| stddev|55287.550728864575|\n",
      "|    min|             15603|\n",
      "|    max|            256119|\n",
      "+-------+------------------+\n",
      "\n"
     ]
    }
   ],
   "source": [
    "# Afficher les statistiques de la colonne nombre de suicide du dataframe df_year entre 1985 et 2016\n",
    "df_year.describe(\"nbr_suicide\").show()"
   ]
  },
  {
   "cell_type": "code",
   "execution_count": 195,
   "metadata": {},
   "outputs": [],
   "source": [
    "# Création d'un dataframe contient le nombre de suicides en colonne\n",
    "df_country_max = df_country.select(\"nbr_suicide\")"
   ]
  },
  {
   "cell_type": "code",
   "execution_count": 196,
   "metadata": {},
   "outputs": [
    {
     "name": "stdout",
     "output_type": "stream",
     "text": [
      "+-------+-----------+\n",
      "|summary|nbr_suicide|\n",
      "+-------+-----------+\n",
      "|    max|    1209742|\n",
      "+-------+-----------+\n",
      "\n"
     ]
    }
   ],
   "source": [
    "# Affichage d'un nombre de suicide le plus élevé par pays\n",
    "df_country_max.summary(\"max\").show()"
   ]
  },
  {
   "cell_type": "markdown",
   "metadata": {},
   "source": [
    "# 5) Lecture des fichiers par pays"
   ]
  },
  {
   "cell_type": "code",
   "execution_count": 197,
   "metadata": {},
   "outputs": [
    {
     "name": "stdout",
     "output_type": "stream",
     "text": [
      "root\n",
      " |-- _c0: integer (nullable = true)\n",
      " |-- country: string (nullable = true)\n",
      " |-- year: integer (nullable = true)\n",
      " |-- sex: string (nullable = true)\n",
      " |-- age: string (nullable = true)\n",
      " |-- suicides_no: integer (nullable = true)\n",
      " |-- population: integer (nullable = true)\n",
      " |-- suicides/100k pop: double (nullable = true)\n",
      " |-- country-year: string (nullable = true)\n",
      " |-- HDI for year: double (nullable = true)\n",
      " |--  gdp_for_year ($) : string (nullable = true)\n",
      " |-- gdp_per_capita ($): integer (nullable = true)\n",
      " |-- generation: string (nullable = true)\n",
      "\n"
     ]
    }
   ],
   "source": [
    "# Lecture du fichier csv avec la librairie pyspark \n",
    "path = \"../content/France.csv\" # le chemin du fichier du pays France\n",
    "df_france = spark.read.format('csv').options(header=True,inferSchema=True).load(path)\n",
    "df_france.printSchema()"
   ]
  },
  {
   "cell_type": "code",
   "execution_count": 198,
   "metadata": {},
   "outputs": [],
   "source": [
    "# Création d'un nouveau dataframe uniquement pour la France\n",
    "df_france_nbr = df_france.select(\"suicides_no\")"
   ]
  },
  {
   "cell_type": "code",
   "execution_count": 199,
   "metadata": {},
   "outputs": [
    {
     "name": "stdout",
     "output_type": "stream",
     "text": [
      "+-------+-----------+\n",
      "|summary|suicides_no|\n",
      "+-------+-----------+\n",
      "|    min|          2|\n",
      "|    max|       3379|\n",
      "+-------+-----------+\n",
      "\n"
     ]
    }
   ],
   "source": [
    "# Affichage du nombre minimal et maximal des suicides\n",
    "df_france_nbr.summary(\"min\",\"max\").show()"
   ]
  },
  {
   "cell_type": "code",
   "execution_count": null,
   "metadata": {},
   "outputs": [],
   "source": []
  },
  {
   "cell_type": "markdown",
   "metadata": {},
   "source": [
    "\n",
    " # 6) Data visualisation"
   ]
  },
  {
   "cell_type": "code",
   "execution_count": 200,
   "metadata": {},
   "outputs": [],
   "source": [
    "# Création d'un dataframe en convertissant df de spark à pandas\n",
    "df_pandas = df.toPandas()\n",
    "df_pandas_country = df_country.toPandas()"
   ]
  },
  {
   "cell_type": "code",
   "execution_count": 201,
   "metadata": {},
   "outputs": [
    {
     "data": {
      "text/plain": [
       "<matplotlib.axes._subplots.AxesSubplot at 0x7fcdf8d7de20>"
      ]
     },
     "execution_count": 201,
     "metadata": {},
     "output_type": "execute_result"
    },
    {
     "data": {
      "image/png": "[encoded data removed]",
      "text/plain": [
       "<Figure size 1440x504 with 1 Axes>"
      ]
     },
     "metadata": {},
     "output_type": "display_data"
    }
   ],
   "source": [
    "plt.figure(figsize=(20,7))\n",
    "sb.barplot(x=\"country\",y=\"nbr_suicide\",data=df_pandas_country)"
   ]
  },
  {
   "cell_type": "code",
   "execution_count": 202,
   "metadata": {},
   "outputs": [
    {
     "data": {
      "image/png": "[encoded data removed]",
      "text/plain": [
       "<Figure size 720x720 with 1 Axes>"
      ]
     },
     "metadata": {},
     "output_type": "display_data"
    }
   ],
   "source": [
    "# Le diagramme le nuage à points représente le nombre de sucides au fils des années\n",
    "df_pandas.plot(kind='scatter',x='year',y='suicides_no',alpha=0.5,color='red',\n",
    "        figsize=(10,10),\n",
    "        grid=True,label='Nombre de suicides - années')\n",
    "plt.xlabel('Année')\n",
    "plt.ylabel('Nombre de suicides')\n",
    "plt.legend()\n",
    "plt.title('les suicides entre 1985 et 2016')\n",
    "plt.show()"
   ]
  },
  {
   "cell_type": "code",
   "execution_count": 203,
   "metadata": {},
   "outputs": [
    {
     "data": {
      "image/png": "[encoded data removed]",
      "text/plain": [
       "<Figure size 720x720 with 1 Axes>"
      ]
     },
     "metadata": {},
     "output_type": "display_data"
    }
   ],
   "source": [
    "# Le diagramme le nuage à points représente le nombre de suicides par sexe (homme&femme) dans le monde\n",
    "df_pandas.plot(kind='scatter',x='sex',y='suicides_no',alpha=0.8,color='red',\n",
    "        figsize=(10,10),\n",
    "        grid=True,label='Nombre de suicides par sexe')\n",
    "plt.xlabel('sexe')\n",
    "plt.ylabel('nombre de suicides')\n",
    "plt.legend()\n",
    "plt.title('Le nombre de suicides par sexe ')\n",
    "plt.show()"
   ]
  },
  {
   "cell_type": "code",
   "execution_count": 204,
   "metadata": {},
   "outputs": [
    {
     "data": {
      "image/png": "[encoded data removed]",
      "text/plain": [
       "<Figure size 720x504 with 1 Axes>"
      ]
     },
     "metadata": {},
     "output_type": "display_data"
    }
   ],
   "source": [
    "# Le diagramme à barres représente le nombre de suicides par sexe\n",
    "plt.figure(figsize=(10,7))\n",
    "bar_show = sb.barplot(x = 'sex', y = 'suicides_no',data = df_pandas)"
   ]
  },
  {
   "cell_type": "code",
   "execution_count": 205,
   "metadata": {},
   "outputs": [
    {
     "data": {
      "image/png": "[encoded data removed]",
      "text/plain": [
       "<Figure size 1152x576 with 1 Axes>"
      ]
     },
     "metadata": {},
     "output_type": "display_data"
    }
   ],
   "source": [
    "# Le diagramme à barres représente le nombre de suicide par sexe et age\n",
    "plt.figure(figsize=(16,8))\n",
    "bar_show = sb.barplot(x = 'sex', y = 'suicides_no', hue = 'age',data = df_pandas)\n"
   ]
  },
  {
   "cell_type": "code",
   "execution_count": 206,
   "metadata": {},
   "outputs": [
    {
     "data": {
      "image/png": "[encoded data removed]",
      "text/plain": [
       "<Figure size 1152x504 with 1 Axes>"
      ]
     },
     "metadata": {},
     "output_type": "display_data"
    }
   ],
   "source": [
    "# Graphique linéaire qui représente le nombre de suicides par sexe (homme et femme) et durant des années\n",
    "Ml=df_pandas.loc[df_pandas['sex']=='male']\n",
    "Fe=df_pandas.loc[df_pandas['sex']=='female']\n",
    "plt.figure(figsize=(16,7))\n",
    "pl_male = sb.lineplot(x='year' , y = 'suicides_no' , data = Ml)\n",
    "pl_female = sb.lineplot(x='year' , y = 'suicides_no' , data = Fe)\n",
    "show = plt.legend(['Males','Females'])"
   ]
  },
  {
   "cell_type": "code",
   "execution_count": 207,
   "metadata": {},
   "outputs": [
    {
     "data": {
      "application/vnd.plotly.v1+json": {
       "config": {
        "linkText": "Export to plot.ly",
        "plotlyServerURL": "https://plot.ly",
        "showLink": false
       },
       "data": [
        {
         "domain": {
          "x": [
           0,
           0.48
          ],
          "y": [
           0,
           0.49
          ]
         },
         "labels": [
          "15-24 years",
          "25-34 years",
          "35-54 years",
          "5-14 years",
          "55-74 years",
          "75+ years"
         ],
         "name": "Female suicides no",
         "type": "pie",
         "values": [
          175437,
          208823,
          506233,
          16997,
          430036,
          221984
         ]
        },
        {
         "domain": {
          "x": [
           0.52,
           1
          ],
          "y": [
           0,
           0.49
          ]
         },
         "labels": [
          "15-24 years",
          "25-34 years",
          "35-54 years",
          "5-14 years",
          "55-74 years",
          "75+ years"
         ],
         "name": "Male suicides no",
         "type": "pie",
         "values": [
          633105,
          915089,
          1945908,
          35267,
          1228407,
          431134
         ]
        }
       ],
       "layout": {
        "template": {
         "data": {
          "bar": [
           {
            "error_x": {
             "color": "#2a3f5f"
            },
            "error_y": {
             "color": "#2a3f5f"
            },
            "marker": {
             "line": {
              "color": "#E5ECF6",
              "width": 0.5
             }
            },
            "type": "bar"
           }
          ],
          "barpolar": [
           {
            "marker": {
             "line": {
              "color": "#E5ECF6",
              "width": 0.5
             }
            },
            "type": "barpolar"
           }
          ],
          "carpet": [
           {
            "aaxis": {
             "endlinecolor": "#2a3f5f",
             "gridcolor": "white",
             "linecolor": "white",
             "minorgridcolor": "white",
             "startlinecolor": "#2a3f5f"
            },
            "baxis": {
             "endlinecolor": "#2a3f5f",
             "gridcolor": "white",
             "linecolor": "white",
             "minorgridcolor": "white",
             "startlinecolor": "#2a3f5f"
            },
            "type": "carpet"
           }
          ],
          "choropleth": [
           {
            "colorbar": {
             "outlinewidth": 0,
             "ticks": ""
            },
            "type": "choropleth"
           }
          ],
          "contour": [
           {
            "colorbar": {
             "outlinewidth": 0,
             "ticks": ""
            },
            "colorscale": [
             [
              0,
              "#0d0887"
             ],
             [
              0.1111111111111111,
              "#46039f"
             ],
             [
              0.2222222222222222,
              "#7201a8"
             ],
             [
              0.3333333333333333,
              "#9c179e"
             ],
             [
              0.4444444444444444,
              "#bd3786"
             ],
             [
              0.5555555555555556,
              "#d8576b"
             ],
             [
              0.6666666666666666,
              "#ed7953"
             ],
             [
              0.7777777777777778,
              "#fb9f3a"
             ],
             [
              0.8888888888888888,
              "#fdca26"
             ],
             [
              1,
              "#f0f921"
             ]
            ],
            "type": "contour"
           }
          ],
          "contourcarpet": [
           {
            "colorbar": {
             "outlinewidth": 0,
             "ticks": ""
            },
            "type": "contourcarpet"
           }
          ],
          "heatmap": [
           {
            "colorbar": {
             "outlinewidth": 0,
             "ticks": ""
            },
            "colorscale": [
             [
              0,
              "#0d0887"
             ],
             [
              0.1111111111111111,
              "#46039f"
             ],
             [
              0.2222222222222222,
              "#7201a8"
             ],
             [
              0.3333333333333333,
              "#9c179e"
             ],
             [
              0.4444444444444444,
              "#bd3786"
             ],
             [
              0.5555555555555556,
              "#d8576b"
             ],
             [
              0.6666666666666666,
              "#ed7953"
             ],
             [
              0.7777777777777778,
              "#fb9f3a"
             ],
             [
              0.8888888888888888,
              "#fdca26"
             ],
             [
              1,
              "#f0f921"
             ]
            ],
            "type": "heatmap"
           }
          ],
          "heatmapgl": [
           {
            "colorbar": {
             "outlinewidth": 0,
             "ticks": ""
            },
            "colorscale": [
             [
              0,
              "#0d0887"
             ],
             [
              0.1111111111111111,
              "#46039f"
             ],
             [
              0.2222222222222222,
              "#7201a8"
             ],
             [
              0.3333333333333333,
              "#9c179e"
             ],
             [
              0.4444444444444444,
              "#bd3786"
             ],
             [
              0.5555555555555556,
              "#d8576b"
             ],
             [
              0.6666666666666666,
              "#ed7953"
             ],
             [
              0.7777777777777778,
              "#fb9f3a"
             ],
             [
              0.8888888888888888,
              "#fdca26"
             ],
             [
              1,
              "#f0f921"
             ]
            ],
            "type": "heatmapgl"
           }
          ],
          "histogram": [
           {
            "marker": {
             "colorbar": {
              "outlinewidth": 0,
              "ticks": ""
             }
            },
            "type": "histogram"
           }
          ],
          "histogram2d": [
           {
            "colorbar": {
             "outlinewidth": 0,
             "ticks": ""
            },
            "colorscale": [
             [
              0,
              "#0d0887"
             ],
             [
              0.1111111111111111,
              "#46039f"
             ],
             [
              0.2222222222222222,
              "#7201a8"
             ],
             [
              0.3333333333333333,
              "#9c179e"
             ],
             [
              0.4444444444444444,
              "#bd3786"
             ],
             [
              0.5555555555555556,
              "#d8576b"
             ],
             [
              0.6666666666666666,
              "#ed7953"
             ],
             [
              0.7777777777777778,
              "#fb9f3a"
             ],
             [
              0.8888888888888888,
              "#fdca26"
             ],
             [
              1,
              "#f0f921"
             ]
            ],
            "type": "histogram2d"
           }
          ],
          "histogram2dcontour": [
           {
            "colorbar": {
             "outlinewidth": 0,
             "ticks": ""
            },
            "colorscale": [
             [
              0,
              "#0d0887"
             ],
             [
              0.1111111111111111,
              "#46039f"
             ],
             [
              0.2222222222222222,
              "#7201a8"
             ],
             [
              0.3333333333333333,
              "#9c179e"
             ],
             [
              0.4444444444444444,
              "#bd3786"
             ],
             [
              0.5555555555555556,
              "#d8576b"
             ],
             [
              0.6666666666666666,
              "#ed7953"
             ],
             [
              0.7777777777777778,
              "#fb9f3a"
             ],
             [
              0.8888888888888888,
              "#fdca26"
             ],
             [
              1,
              "#f0f921"
             ]
            ],
            "type": "histogram2dcontour"
           }
          ],
          "mesh3d": [
           {
            "colorbar": {
             "outlinewidth": 0,
             "ticks": ""
            },
            "type": "mesh3d"
           }
          ],
          "parcoords": [
           {
            "line": {
             "colorbar": {
              "outlinewidth": 0,
              "ticks": ""
             }
            },
            "type": "parcoords"
           }
          ],
          "pie": [
           {
            "automargin": true,
            "type": "pie"
           }
          ],
          "scatter": [
           {
            "marker": {
             "colorbar": {
              "outlinewidth": 0,
              "ticks": ""
             }
            },
            "type": "scatter"
           }
          ],
          "scatter3d": [
           {
            "line": {
             "colorbar": {
              "outlinewidth": 0,
              "ticks": ""
             }
            },
            "marker": {
             "colorbar": {
              "outlinewidth": 0,
              "ticks": ""
             }
            },
            "type": "scatter3d"
           }
          ],
          "scattercarpet": [
           {
            "marker": {
             "colorbar": {
              "outlinewidth": 0,
              "ticks": ""
             }
            },
            "type": "scattercarpet"
           }
          ],
          "scattergeo": [
           {
            "marker": {
             "colorbar": {
              "outlinewidth": 0,
              "ticks": ""
             }
            },
            "type": "scattergeo"
           }
          ],
          "scattergl": [
           {
            "marker": {
             "colorbar": {
              "outlinewidth": 0,
              "ticks": ""
             }
            },
            "type": "scattergl"
           }
          ],
          "scattermapbox": [
           {
            "marker": {
             "colorbar": {
              "outlinewidth": 0,
              "ticks": ""
             }
            },
            "type": "scattermapbox"
           }
          ],
          "scatterpolar": [
           {
            "marker": {
             "colorbar": {
              "outlinewidth": 0,
              "ticks": ""
             }
            },
            "type": "scatterpolar"
           }
          ],
          "scatterpolargl": [
           {
            "marker": {
             "colorbar": {
              "outlinewidth": 0,
              "ticks": ""
             }
            },
            "type": "scatterpolargl"
           }
          ],
          "scatterternary": [
           {
            "marker": {
             "colorbar": {
              "outlinewidth": 0,
              "ticks": ""
             }
            },
            "type": "scatterternary"
           }
          ],
          "surface": [
           {
            "colorbar": {
             "outlinewidth": 0,
             "ticks": ""
            },
            "colorscale": [
             [
              0,
              "#0d0887"
             ],
             [
              0.1111111111111111,
              "#46039f"
             ],
             [
              0.2222222222222222,
              "#7201a8"
             ],
             [
              0.3333333333333333,
              "#9c179e"
             ],
             [
              0.4444444444444444,
              "#bd3786"
             ],
             [
              0.5555555555555556,
              "#d8576b"
             ],
             [
              0.6666666666666666,
              "#ed7953"
             ],
             [
              0.7777777777777778,
              "#fb9f3a"
             ],
             [
              0.8888888888888888,
              "#fdca26"
             ],
             [
              1,
              "#f0f921"
             ]
            ],
            "type": "surface"
           }
          ],
          "table": [
           {
            "cells": {
             "fill": {
              "color": "#EBF0F8"
             },
             "line": {
              "color": "white"
             }
            },
            "header": {
             "fill": {
              "color": "#C8D4E3"
             },
             "line": {
              "color": "white"
             }
            },
            "type": "table"
           }
          ]
         },
         "layout": {
          "annotationdefaults": {
           "arrowcolor": "#2a3f5f",
           "arrowhead": 0,
           "arrowwidth": 1
          },
          "autotypenumbers": "strict",
          "coloraxis": {
           "colorbar": {
            "outlinewidth": 0,
            "ticks": ""
           }
          },
          "colorscale": {
           "diverging": [
            [
             0,
             "#8e0152"
            ],
            [
             0.1,
             "#c51b7d"
            ],
            [
             0.2,
             "#de77ae"
            ],
            [
             0.3,
             "#f1b6da"
            ],
            [
             0.4,
             "#fde0ef"
            ],
            [
             0.5,
             "#f7f7f7"
            ],
            [
             0.6,
             "#e6f5d0"
            ],
            [
             0.7,
             "#b8e186"
            ],
            [
             0.8,
             "#7fbc41"
            ],
            [
             0.9,
             "#4d9221"
            ],
            [
             1,
             "#276419"
            ]
           ],
           "sequential": [
            [
             0,
             "#0d0887"
            ],
            [
             0.1111111111111111,
             "#46039f"
            ],
            [
             0.2222222222222222,
             "#7201a8"
            ],
            [
             0.3333333333333333,
             "#9c179e"
            ],
            [
             0.4444444444444444,
             "#bd3786"
            ],
            [
             0.5555555555555556,
             "#d8576b"
            ],
            [
             0.6666666666666666,
             "#ed7953"
            ],
            [
             0.7777777777777778,
             "#fb9f3a"
            ],
            [
             0.8888888888888888,
             "#fdca26"
            ],
            [
             1,
             "#f0f921"
            ]
           ],
           "sequentialminus": [
            [
             0,
             "#0d0887"
            ],
            [
             0.1111111111111111,
             "#46039f"
            ],
            [
             0.2222222222222222,
             "#7201a8"
            ],
            [
             0.3333333333333333,
             "#9c179e"
            ],
            [
             0.4444444444444444,
             "#bd3786"
            ],
            [
             0.5555555555555556,
             "#d8576b"
            ],
            [
             0.6666666666666666,
             "#ed7953"
            ],
            [
             0.7777777777777778,
             "#fb9f3a"
            ],
            [
             0.8888888888888888,
             "#fdca26"
            ],
            [
             1,
             "#f0f921"
            ]
           ]
          },
          "colorway": [
           "#636efa",
           "#EF553B",
           "#00cc96",
           "#ab63fa",
           "#FFA15A",
           "#19d3f3",
           "#FF6692",
           "#B6E880",
           "#FF97FF",
           "#FECB52"
          ],
          "font": {
           "color": "#2a3f5f"
          },
          "geo": {
           "bgcolor": "white",
           "lakecolor": "white",
           "landcolor": "#E5ECF6",
           "showlakes": true,
           "showland": true,
           "subunitcolor": "white"
          },
          "hoverlabel": {
           "align": "left"
          },
          "hovermode": "closest",
          "mapbox": {
           "style": "light"
          },
          "paper_bgcolor": "white",
          "plot_bgcolor": "#E5ECF6",
          "polar": {
           "angularaxis": {
            "gridcolor": "white",
            "linecolor": "white",
            "ticks": ""
           },
           "bgcolor": "#E5ECF6",
           "radialaxis": {
            "gridcolor": "white",
            "linecolor": "white",
            "ticks": ""
           }
          },
          "scene": {
           "xaxis": {
            "backgroundcolor": "#E5ECF6",
            "gridcolor": "white",
            "gridwidth": 2,
            "linecolor": "white",
            "showbackground": true,
            "ticks": "",
            "zerolinecolor": "white"
           },
           "yaxis": {
            "backgroundcolor": "#E5ECF6",
            "gridcolor": "white",
            "gridwidth": 2,
            "linecolor": "white",
            "showbackground": true,
            "ticks": "",
            "zerolinecolor": "white"
           },
           "zaxis": {
            "backgroundcolor": "#E5ECF6",
            "gridcolor": "white",
            "gridwidth": 2,
            "linecolor": "white",
            "showbackground": true,
            "ticks": "",
            "zerolinecolor": "white"
           }
          },
          "shapedefaults": {
           "line": {
            "color": "#2a3f5f"
           }
          },
          "ternary": {
           "aaxis": {
            "gridcolor": "white",
            "linecolor": "white",
            "ticks": ""
           },
           "baxis": {
            "gridcolor": "white",
            "linecolor": "white",
            "ticks": ""
           },
           "bgcolor": "#E5ECF6",
           "caxis": {
            "gridcolor": "white",
            "linecolor": "white",
            "ticks": ""
           }
          },
          "title": {
           "x": 0.05
          },
          "xaxis": {
           "automargin": true,
           "gridcolor": "white",
           "linecolor": "white",
           "ticks": "",
           "title": {
            "standoff": 15
           },
           "zerolinecolor": "white",
           "zerolinewidth": 2
          },
          "yaxis": {
           "automargin": true,
           "gridcolor": "white",
           "linecolor": "white",
           "ticks": "",
           "title": {
            "standoff": 15
           },
           "zerolinecolor": "white",
           "zerolinewidth": 2
          }
         }
        },
        "title": {
         "text": " Le nombre de suicide par tranches d’âge chez les hommes et les femmes"
        }
       }
      },
      "text/html": [
       "<div>                            <div id=\"98a8db4f-9f0c-47b6-9a49-766feb7cbe43\" class=\"plotly-graph-div\" style=\"height:525px; width:100%;\"></div>            <script type=\"text/javascript\">                require([\"plotly\"], function(Plotly) {                    window.PLOTLYENV=window.PLOTLYENV || {};                                    if (document.getElementById(\"98a8db4f-9f0c-47b6-9a49-766feb7cbe43\")) {                    Plotly.newPlot(                        \"98a8db4f-9f0c-47b6-9a49-766feb7cbe43\",                        [{\"domain\": {\"x\": [0, 0.48], \"y\": [0, 0.49]}, \"labels\": [\"15-24 years\", \"25-34 years\", \"35-54 years\", \"5-14 years\", \"55-74 years\", \"75+ years\"], \"name\": \"Female suicides no\", \"type\": \"pie\", \"values\": [175437, 208823, 506233, 16997, 430036, 221984]}, {\"domain\": {\"x\": [0.52, 1], \"y\": [0, 0.49]}, \"labels\": [\"15-24 years\", \"25-34 years\", \"35-54 years\", \"5-14 years\", \"55-74 years\", \"75+ years\"], \"name\": \"Male suicides no\", \"type\": \"pie\", \"values\": [633105, 915089, 1945908, 35267, 1228407, 431134]}],                        {\"template\": {\"data\": {\"bar\": [{\"error_x\": {\"color\": \"#2a3f5f\"}, \"error_y\": {\"color\": \"#2a3f5f\"}, \"marker\": {\"line\": {\"color\": \"#E5ECF6\", \"width\": 0.5}}, \"type\": \"bar\"}], \"barpolar\": [{\"marker\": {\"line\": {\"color\": \"#E5ECF6\", \"width\": 0.5}}, \"type\": \"barpolar\"}], \"carpet\": [{\"aaxis\": {\"endlinecolor\": \"#2a3f5f\", \"gridcolor\": \"white\", \"linecolor\": \"white\", \"minorgridcolor\": \"white\", \"startlinecolor\": \"#2a3f5f\"}, \"baxis\": {\"endlinecolor\": \"#2a3f5f\", \"gridcolor\": \"white\", \"linecolor\": \"white\", \"minorgridcolor\": \"white\", \"startlinecolor\": \"#2a3f5f\"}, \"type\": \"carpet\"}], \"choropleth\": [{\"colorbar\": {\"outlinewidth\": 0, \"ticks\": \"\"}, \"type\": \"choropleth\"}], \"contour\": [{\"colorbar\": {\"outlinewidth\": 0, \"ticks\": \"\"}, \"colorscale\": [[0.0, \"#0d0887\"], [0.1111111111111111, \"#46039f\"], [0.2222222222222222, \"#7201a8\"], [0.3333333333333333, \"#9c179e\"], [0.4444444444444444, \"#bd3786\"], [0.5555555555555556, \"#d8576b\"], [0.6666666666666666, \"#ed7953\"], [0.7777777777777778, \"#fb9f3a\"], [0.8888888888888888, \"#fdca26\"], [1.0, \"#f0f921\"]], \"type\": \"contour\"}], \"contourcarpet\": [{\"colorbar\": {\"outlinewidth\": 0, \"ticks\": \"\"}, \"type\": \"contourcarpet\"}], \"heatmap\": [{\"colorbar\": {\"outlinewidth\": 0, \"ticks\": \"\"}, \"colorscale\": [[0.0, \"#0d0887\"], [0.1111111111111111, \"#46039f\"], [0.2222222222222222, \"#7201a8\"], [0.3333333333333333, \"#9c179e\"], [0.4444444444444444, \"#bd3786\"], [0.5555555555555556, \"#d8576b\"], [0.6666666666666666, \"#ed7953\"], [0.7777777777777778, \"#fb9f3a\"], [0.8888888888888888, \"#fdca26\"], [1.0, \"#f0f921\"]], \"type\": \"heatmap\"}], \"heatmapgl\": [{\"colorbar\": {\"outlinewidth\": 0, \"ticks\": \"\"}, \"colorscale\": [[0.0, \"#0d0887\"], [0.1111111111111111, \"#46039f\"], [0.2222222222222222, \"#7201a8\"], [0.3333333333333333, \"#9c179e\"], [0.4444444444444444, \"#bd3786\"], [0.5555555555555556, \"#d8576b\"], [0.6666666666666666, \"#ed7953\"], [0.7777777777777778, \"#fb9f3a\"], [0.8888888888888888, \"#fdca26\"], [1.0, \"#f0f921\"]], \"type\": \"heatmapgl\"}], \"histogram\": [{\"marker\": {\"colorbar\": {\"outlinewidth\": 0, \"ticks\": \"\"}}, \"type\": \"histogram\"}], \"histogram2d\": [{\"colorbar\": {\"outlinewidth\": 0, \"ticks\": \"\"}, \"colorscale\": [[0.0, \"#0d0887\"], [0.1111111111111111, \"#46039f\"], [0.2222222222222222, \"#7201a8\"], [0.3333333333333333, \"#9c179e\"], [0.4444444444444444, \"#bd3786\"], [0.5555555555555556, \"#d8576b\"], [0.6666666666666666, \"#ed7953\"], [0.7777777777777778, \"#fb9f3a\"], [0.8888888888888888, \"#fdca26\"], [1.0, \"#f0f921\"]], \"type\": \"histogram2d\"}], \"histogram2dcontour\": [{\"colorbar\": {\"outlinewidth\": 0, \"ticks\": \"\"}, \"colorscale\": [[0.0, \"#0d0887\"], [0.1111111111111111, \"#46039f\"], [0.2222222222222222, \"#7201a8\"], [0.3333333333333333, \"#9c179e\"], [0.4444444444444444, \"#bd3786\"], [0.5555555555555556, \"#d8576b\"], [0.6666666666666666, \"#ed7953\"], [0.7777777777777778, \"#fb9f3a\"], [0.8888888888888888, \"#fdca26\"], [1.0, \"#f0f921\"]], \"type\": \"histogram2dcontour\"}], \"mesh3d\": [{\"colorbar\": {\"outlinewidth\": 0, \"ticks\": \"\"}, \"type\": \"mesh3d\"}], \"parcoords\": [{\"line\": {\"colorbar\": {\"outlinewidth\": 0, \"ticks\": \"\"}}, \"type\": \"parcoords\"}], \"pie\": [{\"automargin\": true, \"type\": \"pie\"}], \"scatter\": [{\"marker\": {\"colorbar\": {\"outlinewidth\": 0, \"ticks\": \"\"}}, \"type\": \"scatter\"}], \"scatter3d\": [{\"line\": {\"colorbar\": {\"outlinewidth\": 0, \"ticks\": \"\"}}, \"marker\": {\"colorbar\": {\"outlinewidth\": 0, \"ticks\": \"\"}}, \"type\": \"scatter3d\"}], \"scattercarpet\": [{\"marker\": {\"colorbar\": {\"outlinewidth\": 0, \"ticks\": \"\"}}, \"type\": \"scattercarpet\"}], \"scattergeo\": [{\"marker\": {\"colorbar\": {\"outlinewidth\": 0, \"ticks\": \"\"}}, \"type\": \"scattergeo\"}], \"scattergl\": [{\"marker\": {\"colorbar\": {\"outlinewidth\": 0, \"ticks\": \"\"}}, \"type\": \"scattergl\"}], \"scattermapbox\": [{\"marker\": {\"colorbar\": {\"outlinewidth\": 0, \"ticks\": \"\"}}, \"type\": \"scattermapbox\"}], \"scatterpolar\": [{\"marker\": {\"colorbar\": {\"outlinewidth\": 0, \"ticks\": \"\"}}, \"type\": \"scatterpolar\"}], \"scatterpolargl\": [{\"marker\": {\"colorbar\": {\"outlinewidth\": 0, \"ticks\": \"\"}}, \"type\": \"scatterpolargl\"}], \"scatterternary\": [{\"marker\": {\"colorbar\": {\"outlinewidth\": 0, \"ticks\": \"\"}}, \"type\": \"scatterternary\"}], \"surface\": [{\"colorbar\": {\"outlinewidth\": 0, \"ticks\": \"\"}, \"colorscale\": [[0.0, \"#0d0887\"], [0.1111111111111111, \"#46039f\"], [0.2222222222222222, \"#7201a8\"], [0.3333333333333333, \"#9c179e\"], [0.4444444444444444, \"#bd3786\"], [0.5555555555555556, \"#d8576b\"], [0.6666666666666666, \"#ed7953\"], [0.7777777777777778, \"#fb9f3a\"], [0.8888888888888888, \"#fdca26\"], [1.0, \"#f0f921\"]], \"type\": \"surface\"}], \"table\": [{\"cells\": {\"fill\": {\"color\": \"#EBF0F8\"}, \"line\": {\"color\": \"white\"}}, \"header\": {\"fill\": {\"color\": \"#C8D4E3\"}, \"line\": {\"color\": \"white\"}}, \"type\": \"table\"}]}, \"layout\": {\"annotationdefaults\": {\"arrowcolor\": \"#2a3f5f\", \"arrowhead\": 0, \"arrowwidth\": 1}, \"autotypenumbers\": \"strict\", \"coloraxis\": {\"colorbar\": {\"outlinewidth\": 0, \"ticks\": \"\"}}, \"colorscale\": {\"diverging\": [[0, \"#8e0152\"], [0.1, \"#c51b7d\"], [0.2, \"#de77ae\"], [0.3, \"#f1b6da\"], [0.4, \"#fde0ef\"], [0.5, \"#f7f7f7\"], [0.6, \"#e6f5d0\"], [0.7, \"#b8e186\"], [0.8, \"#7fbc41\"], [0.9, \"#4d9221\"], [1, \"#276419\"]], \"sequential\": [[0.0, \"#0d0887\"], [0.1111111111111111, \"#46039f\"], [0.2222222222222222, \"#7201a8\"], [0.3333333333333333, \"#9c179e\"], [0.4444444444444444, \"#bd3786\"], [0.5555555555555556, \"#d8576b\"], [0.6666666666666666, \"#ed7953\"], [0.7777777777777778, \"#fb9f3a\"], [0.8888888888888888, \"#fdca26\"], [1.0, \"#f0f921\"]], \"sequentialminus\": [[0.0, \"#0d0887\"], [0.1111111111111111, \"#46039f\"], [0.2222222222222222, \"#7201a8\"], [0.3333333333333333, \"#9c179e\"], [0.4444444444444444, \"#bd3786\"], [0.5555555555555556, \"#d8576b\"], [0.6666666666666666, \"#ed7953\"], [0.7777777777777778, \"#fb9f3a\"], [0.8888888888888888, \"#fdca26\"], [1.0, \"#f0f921\"]]}, \"colorway\": [\"#636efa\", \"#EF553B\", \"#00cc96\", \"#ab63fa\", \"#FFA15A\", \"#19d3f3\", \"#FF6692\", \"#B6E880\", \"#FF97FF\", \"#FECB52\"], \"font\": {\"color\": \"#2a3f5f\"}, \"geo\": {\"bgcolor\": \"white\", \"lakecolor\": \"white\", \"landcolor\": \"#E5ECF6\", \"showlakes\": true, \"showland\": true, \"subunitcolor\": \"white\"}, \"hoverlabel\": {\"align\": \"left\"}, \"hovermode\": \"closest\", \"mapbox\": {\"style\": \"light\"}, \"paper_bgcolor\": \"white\", \"plot_bgcolor\": \"#E5ECF6\", \"polar\": {\"angularaxis\": {\"gridcolor\": \"white\", \"linecolor\": \"white\", \"ticks\": \"\"}, \"bgcolor\": \"#E5ECF6\", \"radialaxis\": {\"gridcolor\": \"white\", \"linecolor\": \"white\", \"ticks\": \"\"}}, \"scene\": {\"xaxis\": {\"backgroundcolor\": \"#E5ECF6\", \"gridcolor\": \"white\", \"gridwidth\": 2, \"linecolor\": \"white\", \"showbackground\": true, \"ticks\": \"\", \"zerolinecolor\": \"white\"}, \"yaxis\": {\"backgroundcolor\": \"#E5ECF6\", \"gridcolor\": \"white\", \"gridwidth\": 2, \"linecolor\": \"white\", \"showbackground\": true, \"ticks\": \"\", \"zerolinecolor\": \"white\"}, \"zaxis\": {\"backgroundcolor\": \"#E5ECF6\", \"gridcolor\": \"white\", \"gridwidth\": 2, \"linecolor\": \"white\", \"showbackground\": true, \"ticks\": \"\", \"zerolinecolor\": \"white\"}}, \"shapedefaults\": {\"line\": {\"color\": \"#2a3f5f\"}}, \"ternary\": {\"aaxis\": {\"gridcolor\": \"white\", \"linecolor\": \"white\", \"ticks\": \"\"}, \"baxis\": {\"gridcolor\": \"white\", \"linecolor\": \"white\", \"ticks\": \"\"}, \"bgcolor\": \"#E5ECF6\", \"caxis\": {\"gridcolor\": \"white\", \"linecolor\": \"white\", \"ticks\": \"\"}}, \"title\": {\"x\": 0.05}, \"xaxis\": {\"automargin\": true, \"gridcolor\": \"white\", \"linecolor\": \"white\", \"ticks\": \"\", \"title\": {\"standoff\": 15}, \"zerolinecolor\": \"white\", \"zerolinewidth\": 2}, \"yaxis\": {\"automargin\": true, \"gridcolor\": \"white\", \"linecolor\": \"white\", \"ticks\": \"\", \"title\": {\"standoff\": 15}, \"zerolinecolor\": \"white\", \"zerolinewidth\": 2}}}, \"title\": {\"text\": \" Le nombre de suicide par tranches d\\u2019\\u00e2ge chez les hommes et les femmes\"}},                        {\"responsive\": true}                    ).then(function(){\n",
       "                            \n",
       "var gd = document.getElementById('98a8db4f-9f0c-47b6-9a49-766feb7cbe43');\n",
       "var x = new MutationObserver(function (mutations, observer) {{\n",
       "        var display = window.getComputedStyle(gd).display;\n",
       "        if (!display || display === 'none') {{\n",
       "            console.log([gd, 'removed!']);\n",
       "            Plotly.purge(gd);\n",
       "            observer.disconnect();\n",
       "        }}\n",
       "}});\n",
       "\n",
       "// Listen for the removal of the full notebook cells\n",
       "var notebookContainer = gd.closest('#notebook-container');\n",
       "if (notebookContainer) {{\n",
       "    x.observe(notebookContainer, {childList: true});\n",
       "}}\n",
       "\n",
       "// Listen for the clearing of the current output cell\n",
       "var outputEl = gd.closest('.output');\n",
       "if (outputEl) {{\n",
       "    x.observe(outputEl, {childList: true});\n",
       "}}\n",
       "\n",
       "                        })                };                });            </script>        </div>"
      ]
     },
     "metadata": {},
     "output_type": "display_data"
    }
   ],
   "source": [
    "# Le nombres de suicides par tranches d’âge chez les hommes et les femmes\n",
    "gender_agewise_suicide_df = pd.DataFrame({\n",
    "    'sex' :df_pandas.sex,\n",
    "    'age' : df_pandas.age,\n",
    "    'suicide_no' : df_pandas.suicides_no\n",
    "})\n",
    "gender_agewise_suicide = gender_agewise_suicide_df.pivot_table(index='age' , columns='sex' , aggfunc='sum')\n",
    "gender_agewise_suicide.columns = gender_agewise_suicide.columns.droplevel()\n",
    "\n",
    "fig = {\n",
    "    'data' : [\n",
    "        {\n",
    "           'labels' : gender_agewise_suicide.index,\n",
    "           'values' : gender_agewise_suicide.female,\n",
    "            'type': 'pie',\n",
    "            'name': 'Female suicides no',\n",
    "            'domain': {'x': [0, .48],\n",
    "                       'y': [0, .49]}\n",
    "        },\n",
    "        {\n",
    "           'labels' : gender_agewise_suicide.index,\n",
    "           'values' : gender_agewise_suicide.male,\n",
    "            'type': 'pie',\n",
    "            'name': 'Male suicides no',\n",
    "            'domain': {'x': [.52, 1],\n",
    "                       'y': [0, .49]}\n",
    "        }  \n",
    "    ],\n",
    "    'layout': {'title': ' Le nombre de suicide par tranches d’âge chez les hommes et les femmes'}\n",
    "}\n",
    "\n",
    "py.offline.iplot(fig)"
   ]
  },
  {
   "cell_type": "code",
   "execution_count": 208,
   "metadata": {},
   "outputs": [
    {
     "data": {
      "application/vnd.plotly.v1+json": {
       "config": {
        "linkText": "Export to plot.ly",
        "plotlyServerURL": "https://plot.ly",
        "showLink": false
       },
       "data": [
        {
         "mode": "lines+markers",
         "type": "scatter",
         "x": [
          1985,
          1986,
          1987,
          1988,
          1989,
          1990,
          1991,
          1992,
          1993,
          1994,
          1995,
          1996,
          1997,
          1998,
          1999,
          2000,
          2001,
          2002,
          2003,
          2004,
          2005,
          2006,
          2007,
          2008,
          2009,
          2010,
          2011,
          2012,
          2013,
          2014,
          2015,
          2016
         ],
         "y": [
          1751041.8159722222,
          1788037.5225694445,
          1689860.688271605,
          1792677.5918367347,
          1963965.2996794872,
          1909661.5885416667,
          1940089.0416666667,
          2012230.0602564102,
          1962072.6333333333,
          1897977.1715686275,
          1700383.657051282,
          1798990.9761904762,
          1843064.4145021646,
          1819811.5516877638,
          1783497.1435742972,
          1743437.8953488371,
          1662467.3191287878,
          1765651.9525193798,
          1781451.5697674418,
          1731395.449404762,
          1721140.5208333333,
          1804812.5852941177,
          1801903.4428294573,
          1824138.0892156863,
          1850401.0917602996,
          1891380.0464015151,
          1931552.6472868216,
          1967913.670781893,
          1968918.4479166667,
          2042796.2702991453,
          2385292.919354839,
          825636.85
         ]
        }
       ],
       "layout": {
        "template": {
         "data": {
          "bar": [
           {
            "error_x": {
             "color": "#2a3f5f"
            },
            "error_y": {
             "color": "#2a3f5f"
            },
            "marker": {
             "line": {
              "color": "#E5ECF6",
              "width": 0.5
             }
            },
            "type": "bar"
           }
          ],
          "barpolar": [
           {
            "marker": {
             "line": {
              "color": "#E5ECF6",
              "width": 0.5
             }
            },
            "type": "barpolar"
           }
          ],
          "carpet": [
           {
            "aaxis": {
             "endlinecolor": "#2a3f5f",
             "gridcolor": "white",
             "linecolor": "white",
             "minorgridcolor": "white",
             "startlinecolor": "#2a3f5f"
            },
            "baxis": {
             "endlinecolor": "#2a3f5f",
             "gridcolor": "white",
             "linecolor": "white",
             "minorgridcolor": "white",
             "startlinecolor": "#2a3f5f"
            },
            "type": "carpet"
           }
          ],
          "choropleth": [
           {
            "colorbar": {
             "outlinewidth": 0,
             "ticks": ""
            },
            "type": "choropleth"
           }
          ],
          "contour": [
           {
            "colorbar": {
             "outlinewidth": 0,
             "ticks": ""
            },
            "colorscale": [
             [
              0,
              "#0d0887"
             ],
             [
              0.1111111111111111,
              "#46039f"
             ],
             [
              0.2222222222222222,
              "#7201a8"
             ],
             [
              0.3333333333333333,
              "#9c179e"
             ],
             [
              0.4444444444444444,
              "#bd3786"
             ],
             [
              0.5555555555555556,
              "#d8576b"
             ],
             [
              0.6666666666666666,
              "#ed7953"
             ],
             [
              0.7777777777777778,
              "#fb9f3a"
             ],
             [
              0.8888888888888888,
              "#fdca26"
             ],
             [
              1,
              "#f0f921"
             ]
            ],
            "type": "contour"
           }
          ],
          "contourcarpet": [
           {
            "colorbar": {
             "outlinewidth": 0,
             "ticks": ""
            },
            "type": "contourcarpet"
           }
          ],
          "heatmap": [
           {
            "colorbar": {
             "outlinewidth": 0,
             "ticks": ""
            },
            "colorscale": [
             [
              0,
              "#0d0887"
             ],
             [
              0.1111111111111111,
              "#46039f"
             ],
             [
              0.2222222222222222,
              "#7201a8"
             ],
             [
              0.3333333333333333,
              "#9c179e"
             ],
             [
              0.4444444444444444,
              "#bd3786"
             ],
             [
              0.5555555555555556,
              "#d8576b"
             ],
             [
              0.6666666666666666,
              "#ed7953"
             ],
             [
              0.7777777777777778,
              "#fb9f3a"
             ],
             [
              0.8888888888888888,
              "#fdca26"
             ],
             [
              1,
              "#f0f921"
             ]
            ],
            "type": "heatmap"
           }
          ],
          "heatmapgl": [
           {
            "colorbar": {
             "outlinewidth": 0,
             "ticks": ""
            },
            "colorscale": [
             [
              0,
              "#0d0887"
             ],
             [
              0.1111111111111111,
              "#46039f"
             ],
             [
              0.2222222222222222,
              "#7201a8"
             ],
             [
              0.3333333333333333,
              "#9c179e"
             ],
             [
              0.4444444444444444,
              "#bd3786"
             ],
             [
              0.5555555555555556,
              "#d8576b"
             ],
             [
              0.6666666666666666,
              "#ed7953"
             ],
             [
              0.7777777777777778,
              "#fb9f3a"
             ],
             [
              0.8888888888888888,
              "#fdca26"
             ],
             [
              1,
              "#f0f921"
             ]
            ],
            "type": "heatmapgl"
           }
          ],
          "histogram": [
           {
            "marker": {
             "colorbar": {
              "outlinewidth": 0,
              "ticks": ""
             }
            },
            "type": "histogram"
           }
          ],
          "histogram2d": [
           {
            "colorbar": {
             "outlinewidth": 0,
             "ticks": ""
            },
            "colorscale": [
             [
              0,
              "#0d0887"
             ],
             [
              0.1111111111111111,
              "#46039f"
             ],
             [
              0.2222222222222222,
              "#7201a8"
             ],
             [
              0.3333333333333333,
              "#9c179e"
             ],
             [
              0.4444444444444444,
              "#bd3786"
             ],
             [
              0.5555555555555556,
              "#d8576b"
             ],
             [
              0.6666666666666666,
              "#ed7953"
             ],
             [
              0.7777777777777778,
              "#fb9f3a"
             ],
             [
              0.8888888888888888,
              "#fdca26"
             ],
             [
              1,
              "#f0f921"
             ]
            ],
            "type": "histogram2d"
           }
          ],
          "histogram2dcontour": [
           {
            "colorbar": {
             "outlinewidth": 0,
             "ticks": ""
            },
            "colorscale": [
             [
              0,
              "#0d0887"
             ],
             [
              0.1111111111111111,
              "#46039f"
             ],
             [
              0.2222222222222222,
              "#7201a8"
             ],
             [
              0.3333333333333333,
              "#9c179e"
             ],
             [
              0.4444444444444444,
              "#bd3786"
             ],
             [
              0.5555555555555556,
              "#d8576b"
             ],
             [
              0.6666666666666666,
              "#ed7953"
             ],
             [
              0.7777777777777778,
              "#fb9f3a"
             ],
             [
              0.8888888888888888,
              "#fdca26"
             ],
             [
              1,
              "#f0f921"
             ]
            ],
            "type": "histogram2dcontour"
           }
          ],
          "mesh3d": [
           {
            "colorbar": {
             "outlinewidth": 0,
             "ticks": ""
            },
            "type": "mesh3d"
           }
          ],
          "parcoords": [
           {
            "line": {
             "colorbar": {
              "outlinewidth": 0,
              "ticks": ""
             }
            },
            "type": "parcoords"
           }
          ],
          "pie": [
           {
            "automargin": true,
            "type": "pie"
           }
          ],
          "scatter": [
           {
            "marker": {
             "colorbar": {
              "outlinewidth": 0,
              "ticks": ""
             }
            },
            "type": "scatter"
           }
          ],
          "scatter3d": [
           {
            "line": {
             "colorbar": {
              "outlinewidth": 0,
              "ticks": ""
             }
            },
            "marker": {
             "colorbar": {
              "outlinewidth": 0,
              "ticks": ""
             }
            },
            "type": "scatter3d"
           }
          ],
          "scattercarpet": [
           {
            "marker": {
             "colorbar": {
              "outlinewidth": 0,
              "ticks": ""
             }
            },
            "type": "scattercarpet"
           }
          ],
          "scattergeo": [
           {
            "marker": {
             "colorbar": {
              "outlinewidth": 0,
              "ticks": ""
             }
            },
            "type": "scattergeo"
           }
          ],
          "scattergl": [
           {
            "marker": {
             "colorbar": {
              "outlinewidth": 0,
              "ticks": ""
             }
            },
            "type": "scattergl"
           }
          ],
          "scattermapbox": [
           {
            "marker": {
             "colorbar": {
              "outlinewidth": 0,
              "ticks": ""
             }
            },
            "type": "scattermapbox"
           }
          ],
          "scatterpolar": [
           {
            "marker": {
             "colorbar": {
              "outlinewidth": 0,
              "ticks": ""
             }
            },
            "type": "scatterpolar"
           }
          ],
          "scatterpolargl": [
           {
            "marker": {
             "colorbar": {
              "outlinewidth": 0,
              "ticks": ""
             }
            },
            "type": "scatterpolargl"
           }
          ],
          "scatterternary": [
           {
            "marker": {
             "colorbar": {
              "outlinewidth": 0,
              "ticks": ""
             }
            },
            "type": "scatterternary"
           }
          ],
          "surface": [
           {
            "colorbar": {
             "outlinewidth": 0,
             "ticks": ""
            },
            "colorscale": [
             [
              0,
              "#0d0887"
             ],
             [
              0.1111111111111111,
              "#46039f"
             ],
             [
              0.2222222222222222,
              "#7201a8"
             ],
             [
              0.3333333333333333,
              "#9c179e"
             ],
             [
              0.4444444444444444,
              "#bd3786"
             ],
             [
              0.5555555555555556,
              "#d8576b"
             ],
             [
              0.6666666666666666,
              "#ed7953"
             ],
             [
              0.7777777777777778,
              "#fb9f3a"
             ],
             [
              0.8888888888888888,
              "#fdca26"
             ],
             [
              1,
              "#f0f921"
             ]
            ],
            "type": "surface"
           }
          ],
          "table": [
           {
            "cells": {
             "fill": {
              "color": "#EBF0F8"
             },
             "line": {
              "color": "white"
             }
            },
            "header": {
             "fill": {
              "color": "#C8D4E3"
             },
             "line": {
              "color": "white"
             }
            },
            "type": "table"
           }
          ]
         },
         "layout": {
          "annotationdefaults": {
           "arrowcolor": "#2a3f5f",
           "arrowhead": 0,
           "arrowwidth": 1
          },
          "autotypenumbers": "strict",
          "coloraxis": {
           "colorbar": {
            "outlinewidth": 0,
            "ticks": ""
           }
          },
          "colorscale": {
           "diverging": [
            [
             0,
             "#8e0152"
            ],
            [
             0.1,
             "#c51b7d"
            ],
            [
             0.2,
             "#de77ae"
            ],
            [
             0.3,
             "#f1b6da"
            ],
            [
             0.4,
             "#fde0ef"
            ],
            [
             0.5,
             "#f7f7f7"
            ],
            [
             0.6,
             "#e6f5d0"
            ],
            [
             0.7,
             "#b8e186"
            ],
            [
             0.8,
             "#7fbc41"
            ],
            [
             0.9,
             "#4d9221"
            ],
            [
             1,
             "#276419"
            ]
           ],
           "sequential": [
            [
             0,
             "#0d0887"
            ],
            [
             0.1111111111111111,
             "#46039f"
            ],
            [
             0.2222222222222222,
             "#7201a8"
            ],
            [
             0.3333333333333333,
             "#9c179e"
            ],
            [
             0.4444444444444444,
             "#bd3786"
            ],
            [
             0.5555555555555556,
             "#d8576b"
            ],
            [
             0.6666666666666666,
             "#ed7953"
            ],
            [
             0.7777777777777778,
             "#fb9f3a"
            ],
            [
             0.8888888888888888,
             "#fdca26"
            ],
            [
             1,
             "#f0f921"
            ]
           ],
           "sequentialminus": [
            [
             0,
             "#0d0887"
            ],
            [
             0.1111111111111111,
             "#46039f"
            ],
            [
             0.2222222222222222,
             "#7201a8"
            ],
            [
             0.3333333333333333,
             "#9c179e"
            ],
            [
             0.4444444444444444,
             "#bd3786"
            ],
            [
             0.5555555555555556,
             "#d8576b"
            ],
            [
             0.6666666666666666,
             "#ed7953"
            ],
            [
             0.7777777777777778,
             "#fb9f3a"
            ],
            [
             0.8888888888888888,
             "#fdca26"
            ],
            [
             1,
             "#f0f921"
            ]
           ]
          },
          "colorway": [
           "#636efa",
           "#EF553B",
           "#00cc96",
           "#ab63fa",
           "#FFA15A",
           "#19d3f3",
           "#FF6692",
           "#B6E880",
           "#FF97FF",
           "#FECB52"
          ],
          "font": {
           "color": "#2a3f5f"
          },
          "geo": {
           "bgcolor": "white",
           "lakecolor": "white",
           "landcolor": "#E5ECF6",
           "showlakes": true,
           "showland": true,
           "subunitcolor": "white"
          },
          "hoverlabel": {
           "align": "left"
          },
          "hovermode": "closest",
          "mapbox": {
           "style": "light"
          },
          "paper_bgcolor": "white",
          "plot_bgcolor": "#E5ECF6",
          "polar": {
           "angularaxis": {
            "gridcolor": "white",
            "linecolor": "white",
            "ticks": ""
           },
           "bgcolor": "#E5ECF6",
           "radialaxis": {
            "gridcolor": "white",
            "linecolor": "white",
            "ticks": ""
           }
          },
          "scene": {
           "xaxis": {
            "backgroundcolor": "#E5ECF6",
            "gridcolor": "white",
            "gridwidth": 2,
            "linecolor": "white",
            "showbackground": true,
            "ticks": "",
            "zerolinecolor": "white"
           },
           "yaxis": {
            "backgroundcolor": "#E5ECF6",
            "gridcolor": "white",
            "gridwidth": 2,
            "linecolor": "white",
            "showbackground": true,
            "ticks": "",
            "zerolinecolor": "white"
           },
           "zaxis": {
            "backgroundcolor": "#E5ECF6",
            "gridcolor": "white",
            "gridwidth": 2,
            "linecolor": "white",
            "showbackground": true,
            "ticks": "",
            "zerolinecolor": "white"
           }
          },
          "shapedefaults": {
           "line": {
            "color": "#2a3f5f"
           }
          },
          "ternary": {
           "aaxis": {
            "gridcolor": "white",
            "linecolor": "white",
            "ticks": ""
           },
           "baxis": {
            "gridcolor": "white",
            "linecolor": "white",
            "ticks": ""
           },
           "bgcolor": "#E5ECF6",
           "caxis": {
            "gridcolor": "white",
            "linecolor": "white",
            "ticks": ""
           }
          },
          "title": {
           "x": 0.05
          },
          "xaxis": {
           "automargin": true,
           "gridcolor": "white",
           "linecolor": "white",
           "ticks": "",
           "title": {
            "standoff": 15
           },
           "zerolinecolor": "white",
           "zerolinewidth": 2
          },
          "yaxis": {
           "automargin": true,
           "gridcolor": "white",
           "linecolor": "white",
           "ticks": "",
           "title": {
            "standoff": 15
           },
           "zerolinecolor": "white",
           "zerolinewidth": 2
          }
         }
        },
        "title": {
         "text": "Taux de population  annuel"
        },
        "xaxis": {
         "title": {
          "text": "Years"
         }
        },
        "yaxis": {
         "title": {
          "text": "Nombre de population"
         }
        }
       }
      },
      "text/html": [
       "<div>                            <div id=\"266f7959-d7c8-4739-9235-028ccfcc6053\" class=\"plotly-graph-div\" style=\"height:525px; width:100%;\"></div>            <script type=\"text/javascript\">                require([\"plotly\"], function(Plotly) {                    window.PLOTLYENV=window.PLOTLYENV || {};                                    if (document.getElementById(\"266f7959-d7c8-4739-9235-028ccfcc6053\")) {                    Plotly.newPlot(                        \"266f7959-d7c8-4739-9235-028ccfcc6053\",                        [{\"mode\": \"lines+markers\", \"type\": \"scatter\", \"x\": [1985, 1986, 1987, 1988, 1989, 1990, 1991, 1992, 1993, 1994, 1995, 1996, 1997, 1998, 1999, 2000, 2001, 2002, 2003, 2004, 2005, 2006, 2007, 2008, 2009, 2010, 2011, 2012, 2013, 2014, 2015, 2016], \"y\": [1751041.8159722222, 1788037.5225694445, 1689860.688271605, 1792677.5918367347, 1963965.2996794872, 1909661.5885416667, 1940089.0416666667, 2012230.0602564102, 1962072.6333333333, 1897977.1715686275, 1700383.657051282, 1798990.9761904762, 1843064.4145021646, 1819811.5516877638, 1783497.1435742972, 1743437.8953488371, 1662467.3191287878, 1765651.9525193798, 1781451.5697674418, 1731395.449404762, 1721140.5208333333, 1804812.5852941177, 1801903.4428294573, 1824138.0892156863, 1850401.0917602996, 1891380.0464015151, 1931552.6472868216, 1967913.670781893, 1968918.4479166667, 2042796.2702991453, 2385292.919354839, 825636.85]}],                        {\"template\": {\"data\": {\"bar\": [{\"error_x\": {\"color\": \"#2a3f5f\"}, \"error_y\": {\"color\": \"#2a3f5f\"}, \"marker\": {\"line\": {\"color\": \"#E5ECF6\", \"width\": 0.5}}, \"type\": \"bar\"}], \"barpolar\": [{\"marker\": {\"line\": {\"color\": \"#E5ECF6\", \"width\": 0.5}}, \"type\": \"barpolar\"}], \"carpet\": [{\"aaxis\": {\"endlinecolor\": \"#2a3f5f\", \"gridcolor\": \"white\", \"linecolor\": \"white\", \"minorgridcolor\": \"white\", \"startlinecolor\": \"#2a3f5f\"}, \"baxis\": {\"endlinecolor\": \"#2a3f5f\", \"gridcolor\": \"white\", \"linecolor\": \"white\", \"minorgridcolor\": \"white\", \"startlinecolor\": \"#2a3f5f\"}, \"type\": \"carpet\"}], \"choropleth\": [{\"colorbar\": {\"outlinewidth\": 0, \"ticks\": \"\"}, \"type\": \"choropleth\"}], \"contour\": [{\"colorbar\": {\"outlinewidth\": 0, \"ticks\": \"\"}, \"colorscale\": [[0.0, \"#0d0887\"], [0.1111111111111111, \"#46039f\"], [0.2222222222222222, \"#7201a8\"], [0.3333333333333333, \"#9c179e\"], [0.4444444444444444, \"#bd3786\"], [0.5555555555555556, \"#d8576b\"], [0.6666666666666666, \"#ed7953\"], [0.7777777777777778, \"#fb9f3a\"], [0.8888888888888888, \"#fdca26\"], [1.0, \"#f0f921\"]], \"type\": \"contour\"}], \"contourcarpet\": [{\"colorbar\": {\"outlinewidth\": 0, \"ticks\": \"\"}, \"type\": \"contourcarpet\"}], \"heatmap\": [{\"colorbar\": {\"outlinewidth\": 0, \"ticks\": \"\"}, \"colorscale\": [[0.0, \"#0d0887\"], [0.1111111111111111, \"#46039f\"], [0.2222222222222222, \"#7201a8\"], [0.3333333333333333, \"#9c179e\"], [0.4444444444444444, \"#bd3786\"], [0.5555555555555556, \"#d8576b\"], [0.6666666666666666, \"#ed7953\"], [0.7777777777777778, \"#fb9f3a\"], [0.8888888888888888, \"#fdca26\"], [1.0, \"#f0f921\"]], \"type\": \"heatmap\"}], \"heatmapgl\": [{\"colorbar\": {\"outlinewidth\": 0, \"ticks\": \"\"}, \"colorscale\": [[0.0, \"#0d0887\"], [0.1111111111111111, \"#46039f\"], [0.2222222222222222, \"#7201a8\"], [0.3333333333333333, \"#9c179e\"], [0.4444444444444444, \"#bd3786\"], [0.5555555555555556, \"#d8576b\"], [0.6666666666666666, \"#ed7953\"], [0.7777777777777778, \"#fb9f3a\"], [0.8888888888888888, \"#fdca26\"], [1.0, \"#f0f921\"]], \"type\": \"heatmapgl\"}], \"histogram\": [{\"marker\": {\"colorbar\": {\"outlinewidth\": 0, \"ticks\": \"\"}}, \"type\": \"histogram\"}], \"histogram2d\": [{\"colorbar\": {\"outlinewidth\": 0, \"ticks\": \"\"}, \"colorscale\": [[0.0, \"#0d0887\"], [0.1111111111111111, \"#46039f\"], [0.2222222222222222, \"#7201a8\"], [0.3333333333333333, \"#9c179e\"], [0.4444444444444444, \"#bd3786\"], [0.5555555555555556, \"#d8576b\"], [0.6666666666666666, \"#ed7953\"], [0.7777777777777778, \"#fb9f3a\"], [0.8888888888888888, \"#fdca26\"], [1.0, \"#f0f921\"]], \"type\": \"histogram2d\"}], \"histogram2dcontour\": [{\"colorbar\": {\"outlinewidth\": 0, \"ticks\": \"\"}, \"colorscale\": [[0.0, \"#0d0887\"], [0.1111111111111111, \"#46039f\"], [0.2222222222222222, \"#7201a8\"], [0.3333333333333333, \"#9c179e\"], [0.4444444444444444, \"#bd3786\"], [0.5555555555555556, \"#d8576b\"], [0.6666666666666666, \"#ed7953\"], [0.7777777777777778, \"#fb9f3a\"], [0.8888888888888888, \"#fdca26\"], [1.0, \"#f0f921\"]], \"type\": \"histogram2dcontour\"}], \"mesh3d\": [{\"colorbar\": {\"outlinewidth\": 0, \"ticks\": \"\"}, \"type\": \"mesh3d\"}], \"parcoords\": [{\"line\": {\"colorbar\": {\"outlinewidth\": 0, \"ticks\": \"\"}}, \"type\": \"parcoords\"}], \"pie\": [{\"automargin\": true, \"type\": \"pie\"}], \"scatter\": [{\"marker\": {\"colorbar\": {\"outlinewidth\": 0, \"ticks\": \"\"}}, \"type\": \"scatter\"}], \"scatter3d\": [{\"line\": {\"colorbar\": {\"outlinewidth\": 0, \"ticks\": \"\"}}, \"marker\": {\"colorbar\": {\"outlinewidth\": 0, \"ticks\": \"\"}}, \"type\": \"scatter3d\"}], \"scattercarpet\": [{\"marker\": {\"colorbar\": {\"outlinewidth\": 0, \"ticks\": \"\"}}, \"type\": \"scattercarpet\"}], \"scattergeo\": [{\"marker\": {\"colorbar\": {\"outlinewidth\": 0, \"ticks\": \"\"}}, \"type\": \"scattergeo\"}], \"scattergl\": [{\"marker\": {\"colorbar\": {\"outlinewidth\": 0, \"ticks\": \"\"}}, \"type\": \"scattergl\"}], \"scattermapbox\": [{\"marker\": {\"colorbar\": {\"outlinewidth\": 0, \"ticks\": \"\"}}, \"type\": \"scattermapbox\"}], \"scatterpolar\": [{\"marker\": {\"colorbar\": {\"outlinewidth\": 0, \"ticks\": \"\"}}, \"type\": \"scatterpolar\"}], \"scatterpolargl\": [{\"marker\": {\"colorbar\": {\"outlinewidth\": 0, \"ticks\": \"\"}}, \"type\": \"scatterpolargl\"}], \"scatterternary\": [{\"marker\": {\"colorbar\": {\"outlinewidth\": 0, \"ticks\": \"\"}}, \"type\": \"scatterternary\"}], \"surface\": [{\"colorbar\": {\"outlinewidth\": 0, \"ticks\": \"\"}, \"colorscale\": [[0.0, \"#0d0887\"], [0.1111111111111111, \"#46039f\"], [0.2222222222222222, \"#7201a8\"], [0.3333333333333333, \"#9c179e\"], [0.4444444444444444, \"#bd3786\"], [0.5555555555555556, \"#d8576b\"], [0.6666666666666666, \"#ed7953\"], [0.7777777777777778, \"#fb9f3a\"], [0.8888888888888888, \"#fdca26\"], [1.0, \"#f0f921\"]], \"type\": \"surface\"}], \"table\": [{\"cells\": {\"fill\": {\"color\": \"#EBF0F8\"}, \"line\": {\"color\": \"white\"}}, \"header\": {\"fill\": {\"color\": \"#C8D4E3\"}, \"line\": {\"color\": \"white\"}}, \"type\": \"table\"}]}, \"layout\": {\"annotationdefaults\": {\"arrowcolor\": \"#2a3f5f\", \"arrowhead\": 0, \"arrowwidth\": 1}, \"autotypenumbers\": \"strict\", \"coloraxis\": {\"colorbar\": {\"outlinewidth\": 0, \"ticks\": \"\"}}, \"colorscale\": {\"diverging\": [[0, \"#8e0152\"], [0.1, \"#c51b7d\"], [0.2, \"#de77ae\"], [0.3, \"#f1b6da\"], [0.4, \"#fde0ef\"], [0.5, \"#f7f7f7\"], [0.6, \"#e6f5d0\"], [0.7, \"#b8e186\"], [0.8, \"#7fbc41\"], [0.9, \"#4d9221\"], [1, \"#276419\"]], \"sequential\": [[0.0, \"#0d0887\"], [0.1111111111111111, \"#46039f\"], [0.2222222222222222, \"#7201a8\"], [0.3333333333333333, \"#9c179e\"], [0.4444444444444444, \"#bd3786\"], [0.5555555555555556, \"#d8576b\"], [0.6666666666666666, \"#ed7953\"], [0.7777777777777778, \"#fb9f3a\"], [0.8888888888888888, \"#fdca26\"], [1.0, \"#f0f921\"]], \"sequentialminus\": [[0.0, \"#0d0887\"], [0.1111111111111111, \"#46039f\"], [0.2222222222222222, \"#7201a8\"], [0.3333333333333333, \"#9c179e\"], [0.4444444444444444, \"#bd3786\"], [0.5555555555555556, \"#d8576b\"], [0.6666666666666666, \"#ed7953\"], [0.7777777777777778, \"#fb9f3a\"], [0.8888888888888888, \"#fdca26\"], [1.0, \"#f0f921\"]]}, \"colorway\": [\"#636efa\", \"#EF553B\", \"#00cc96\", \"#ab63fa\", \"#FFA15A\", \"#19d3f3\", \"#FF6692\", \"#B6E880\", \"#FF97FF\", \"#FECB52\"], \"font\": {\"color\": \"#2a3f5f\"}, \"geo\": {\"bgcolor\": \"white\", \"lakecolor\": \"white\", \"landcolor\": \"#E5ECF6\", \"showlakes\": true, \"showland\": true, \"subunitcolor\": \"white\"}, \"hoverlabel\": {\"align\": \"left\"}, \"hovermode\": \"closest\", \"mapbox\": {\"style\": \"light\"}, \"paper_bgcolor\": \"white\", \"plot_bgcolor\": \"#E5ECF6\", \"polar\": {\"angularaxis\": {\"gridcolor\": \"white\", \"linecolor\": \"white\", \"ticks\": \"\"}, \"bgcolor\": \"#E5ECF6\", \"radialaxis\": {\"gridcolor\": \"white\", \"linecolor\": \"white\", \"ticks\": \"\"}}, \"scene\": {\"xaxis\": {\"backgroundcolor\": \"#E5ECF6\", \"gridcolor\": \"white\", \"gridwidth\": 2, \"linecolor\": \"white\", \"showbackground\": true, \"ticks\": \"\", \"zerolinecolor\": \"white\"}, \"yaxis\": {\"backgroundcolor\": \"#E5ECF6\", \"gridcolor\": \"white\", \"gridwidth\": 2, \"linecolor\": \"white\", \"showbackground\": true, \"ticks\": \"\", \"zerolinecolor\": \"white\"}, \"zaxis\": {\"backgroundcolor\": \"#E5ECF6\", \"gridcolor\": \"white\", \"gridwidth\": 2, \"linecolor\": \"white\", \"showbackground\": true, \"ticks\": \"\", \"zerolinecolor\": \"white\"}}, \"shapedefaults\": {\"line\": {\"color\": \"#2a3f5f\"}}, \"ternary\": {\"aaxis\": {\"gridcolor\": \"white\", \"linecolor\": \"white\", \"ticks\": \"\"}, \"baxis\": {\"gridcolor\": \"white\", \"linecolor\": \"white\", \"ticks\": \"\"}, \"bgcolor\": \"#E5ECF6\", \"caxis\": {\"gridcolor\": \"white\", \"linecolor\": \"white\", \"ticks\": \"\"}}, \"title\": {\"x\": 0.05}, \"xaxis\": {\"automargin\": true, \"gridcolor\": \"white\", \"linecolor\": \"white\", \"ticks\": \"\", \"title\": {\"standoff\": 15}, \"zerolinecolor\": \"white\", \"zerolinewidth\": 2}, \"yaxis\": {\"automargin\": true, \"gridcolor\": \"white\", \"linecolor\": \"white\", \"ticks\": \"\", \"title\": {\"standoff\": 15}, \"zerolinecolor\": \"white\", \"zerolinewidth\": 2}}}, \"title\": {\"text\": \"Taux de population  annuel\"}, \"xaxis\": {\"title\": {\"text\": \"Years\"}}, \"yaxis\": {\"title\": {\"text\": \"Nombre de population\"}}},                        {\"responsive\": true}                    ).then(function(){\n",
       "                            \n",
       "var gd = document.getElementById('266f7959-d7c8-4739-9235-028ccfcc6053');\n",
       "var x = new MutationObserver(function (mutations, observer) {{\n",
       "        var display = window.getComputedStyle(gd).display;\n",
       "        if (!display || display === 'none') {{\n",
       "            console.log([gd, 'removed!']);\n",
       "            Plotly.purge(gd);\n",
       "            observer.disconnect();\n",
       "        }}\n",
       "}});\n",
       "\n",
       "// Listen for the removal of the full notebook cells\n",
       "var notebookContainer = gd.closest('#notebook-container');\n",
       "if (notebookContainer) {{\n",
       "    x.observe(notebookContainer, {childList: true});\n",
       "}}\n",
       "\n",
       "// Listen for the clearing of the current output cell\n",
       "var outputEl = gd.closest('.output');\n",
       "if (outputEl) {{\n",
       "    x.observe(outputEl, {childList: true});\n",
       "}}\n",
       "\n",
       "                        })                };                });            </script>        </div>"
      ]
     },
     "metadata": {},
     "output_type": "display_data"
    },
    {
     "data": {
      "application/vnd.plotly.v1+json": {
       "config": {
        "linkText": "Export to plot.ly",
        "plotlyServerURL": "https://plot.ly",
        "showLink": false
       },
       "data": [
        {
         "mode": "lines+markers",
         "type": "scatter",
         "x": [
          1985,
          1986,
          1987,
          1988,
          1989,
          1990,
          1991,
          1992,
          1993,
          1994,
          1995,
          1996,
          1997,
          1998,
          1999,
          2000,
          2001,
          2002,
          2003,
          2004,
          2005,
          2006,
          2007,
          2008,
          2009,
          2010,
          2011,
          2012,
          2013,
          2014,
          2015,
          2016
         ],
         "y": [
          201.49826388888889,
          209.49652777777777,
          195.74382716049382,
          205.8265306122449,
          256.80128205128204,
          251.77213541666666,
          257.8385416666667,
          271.1192307692308,
          284.0576923076923,
          284.390931372549,
          260.1965811965812,
          267.01839826839824,
          260.54653679653677,
          263.28164556962025,
          257.1475903614458,
          247.89922480620154,
          237.3598484848485,
          248.15406976744185,
          248.13856589147287,
          238.94940476190476,
          232.51488095238096,
          228.78529411764706,
          226.1705426356589,
          230.83039215686276,
          227.98408239700373,
          226.0435606060606,
          229.15116279069767,
          236.79012345679013,
          232.49895833333332,
          238.23076923076923,
          273.7096774193548,
          97.51875
         ]
        }
       ],
       "layout": {
        "template": {
         "data": {
          "bar": [
           {
            "error_x": {
             "color": "#2a3f5f"
            },
            "error_y": {
             "color": "#2a3f5f"
            },
            "marker": {
             "line": {
              "color": "#E5ECF6",
              "width": 0.5
             }
            },
            "type": "bar"
           }
          ],
          "barpolar": [
           {
            "marker": {
             "line": {
              "color": "#E5ECF6",
              "width": 0.5
             }
            },
            "type": "barpolar"
           }
          ],
          "carpet": [
           {
            "aaxis": {
             "endlinecolor": "#2a3f5f",
             "gridcolor": "white",
             "linecolor": "white",
             "minorgridcolor": "white",
             "startlinecolor": "#2a3f5f"
            },
            "baxis": {
             "endlinecolor": "#2a3f5f",
             "gridcolor": "white",
             "linecolor": "white",
             "minorgridcolor": "white",
             "startlinecolor": "#2a3f5f"
            },
            "type": "carpet"
           }
          ],
          "choropleth": [
           {
            "colorbar": {
             "outlinewidth": 0,
             "ticks": ""
            },
            "type": "choropleth"
           }
          ],
          "contour": [
           {
            "colorbar": {
             "outlinewidth": 0,
             "ticks": ""
            },
            "colorscale": [
             [
              0,
              "#0d0887"
             ],
             [
              0.1111111111111111,
              "#46039f"
             ],
             [
              0.2222222222222222,
              "#7201a8"
             ],
             [
              0.3333333333333333,
              "#9c179e"
             ],
             [
              0.4444444444444444,
              "#bd3786"
             ],
             [
              0.5555555555555556,
              "#d8576b"
             ],
             [
              0.6666666666666666,
              "#ed7953"
             ],
             [
              0.7777777777777778,
              "#fb9f3a"
             ],
             [
              0.8888888888888888,
              "#fdca26"
             ],
             [
              1,
              "#f0f921"
             ]
            ],
            "type": "contour"
           }
          ],
          "contourcarpet": [
           {
            "colorbar": {
             "outlinewidth": 0,
             "ticks": ""
            },
            "type": "contourcarpet"
           }
          ],
          "heatmap": [
           {
            "colorbar": {
             "outlinewidth": 0,
             "ticks": ""
            },
            "colorscale": [
             [
              0,
              "#0d0887"
             ],
             [
              0.1111111111111111,
              "#46039f"
             ],
             [
              0.2222222222222222,
              "#7201a8"
             ],
             [
              0.3333333333333333,
              "#9c179e"
             ],
             [
              0.4444444444444444,
              "#bd3786"
             ],
             [
              0.5555555555555556,
              "#d8576b"
             ],
             [
              0.6666666666666666,
              "#ed7953"
             ],
             [
              0.7777777777777778,
              "#fb9f3a"
             ],
             [
              0.8888888888888888,
              "#fdca26"
             ],
             [
              1,
              "#f0f921"
             ]
            ],
            "type": "heatmap"
           }
          ],
          "heatmapgl": [
           {
            "colorbar": {
             "outlinewidth": 0,
             "ticks": ""
            },
            "colorscale": [
             [
              0,
              "#0d0887"
             ],
             [
              0.1111111111111111,
              "#46039f"
             ],
             [
              0.2222222222222222,
              "#7201a8"
             ],
             [
              0.3333333333333333,
              "#9c179e"
             ],
             [
              0.4444444444444444,
              "#bd3786"
             ],
             [
              0.5555555555555556,
              "#d8576b"
             ],
             [
              0.6666666666666666,
              "#ed7953"
             ],
             [
              0.7777777777777778,
              "#fb9f3a"
             ],
             [
              0.8888888888888888,
              "#fdca26"
             ],
             [
              1,
              "#f0f921"
             ]
            ],
            "type": "heatmapgl"
           }
          ],
          "histogram": [
           {
            "marker": {
             "colorbar": {
              "outlinewidth": 0,
              "ticks": ""
             }
            },
            "type": "histogram"
           }
          ],
          "histogram2d": [
           {
            "colorbar": {
             "outlinewidth": 0,
             "ticks": ""
            },
            "colorscale": [
             [
              0,
              "#0d0887"
             ],
             [
              0.1111111111111111,
              "#46039f"
             ],
             [
              0.2222222222222222,
              "#7201a8"
             ],
             [
              0.3333333333333333,
              "#9c179e"
             ],
             [
              0.4444444444444444,
              "#bd3786"
             ],
             [
              0.5555555555555556,
              "#d8576b"
             ],
             [
              0.6666666666666666,
              "#ed7953"
             ],
             [
              0.7777777777777778,
              "#fb9f3a"
             ],
             [
              0.8888888888888888,
              "#fdca26"
             ],
             [
              1,
              "#f0f921"
             ]
            ],
            "type": "histogram2d"
           }
          ],
          "histogram2dcontour": [
           {
            "colorbar": {
             "outlinewidth": 0,
             "ticks": ""
            },
            "colorscale": [
             [
              0,
              "#0d0887"
             ],
             [
              0.1111111111111111,
              "#46039f"
             ],
             [
              0.2222222222222222,
              "#7201a8"
             ],
             [
              0.3333333333333333,
              "#9c179e"
             ],
             [
              0.4444444444444444,
              "#bd3786"
             ],
             [
              0.5555555555555556,
              "#d8576b"
             ],
             [
              0.6666666666666666,
              "#ed7953"
             ],
             [
              0.7777777777777778,
              "#fb9f3a"
             ],
             [
              0.8888888888888888,
              "#fdca26"
             ],
             [
              1,
              "#f0f921"
             ]
            ],
            "type": "histogram2dcontour"
           }
          ],
          "mesh3d": [
           {
            "colorbar": {
             "outlinewidth": 0,
             "ticks": ""
            },
            "type": "mesh3d"
           }
          ],
          "parcoords": [
           {
            "line": {
             "colorbar": {
              "outlinewidth": 0,
              "ticks": ""
             }
            },
            "type": "parcoords"
           }
          ],
          "pie": [
           {
            "automargin": true,
            "type": "pie"
           }
          ],
          "scatter": [
           {
            "marker": {
             "colorbar": {
              "outlinewidth": 0,
              "ticks": ""
             }
            },
            "type": "scatter"
           }
          ],
          "scatter3d": [
           {
            "line": {
             "colorbar": {
              "outlinewidth": 0,
              "ticks": ""
             }
            },
            "marker": {
             "colorbar": {
              "outlinewidth": 0,
              "ticks": ""
             }
            },
            "type": "scatter3d"
           }
          ],
          "scattercarpet": [
           {
            "marker": {
             "colorbar": {
              "outlinewidth": 0,
              "ticks": ""
             }
            },
            "type": "scattercarpet"
           }
          ],
          "scattergeo": [
           {
            "marker": {
             "colorbar": {
              "outlinewidth": 0,
              "ticks": ""
             }
            },
            "type": "scattergeo"
           }
          ],
          "scattergl": [
           {
            "marker": {
             "colorbar": {
              "outlinewidth": 0,
              "ticks": ""
             }
            },
            "type": "scattergl"
           }
          ],
          "scattermapbox": [
           {
            "marker": {
             "colorbar": {
              "outlinewidth": 0,
              "ticks": ""
             }
            },
            "type": "scattermapbox"
           }
          ],
          "scatterpolar": [
           {
            "marker": {
             "colorbar": {
              "outlinewidth": 0,
              "ticks": ""
             }
            },
            "type": "scatterpolar"
           }
          ],
          "scatterpolargl": [
           {
            "marker": {
             "colorbar": {
              "outlinewidth": 0,
              "ticks": ""
             }
            },
            "type": "scatterpolargl"
           }
          ],
          "scatterternary": [
           {
            "marker": {
             "colorbar": {
              "outlinewidth": 0,
              "ticks": ""
             }
            },
            "type": "scatterternary"
           }
          ],
          "surface": [
           {
            "colorbar": {
             "outlinewidth": 0,
             "ticks": ""
            },
            "colorscale": [
             [
              0,
              "#0d0887"
             ],
             [
              0.1111111111111111,
              "#46039f"
             ],
             [
              0.2222222222222222,
              "#7201a8"
             ],
             [
              0.3333333333333333,
              "#9c179e"
             ],
             [
              0.4444444444444444,
              "#bd3786"
             ],
             [
              0.5555555555555556,
              "#d8576b"
             ],
             [
              0.6666666666666666,
              "#ed7953"
             ],
             [
              0.7777777777777778,
              "#fb9f3a"
             ],
             [
              0.8888888888888888,
              "#fdca26"
             ],
             [
              1,
              "#f0f921"
             ]
            ],
            "type": "surface"
           }
          ],
          "table": [
           {
            "cells": {
             "fill": {
              "color": "#EBF0F8"
             },
             "line": {
              "color": "white"
             }
            },
            "header": {
             "fill": {
              "color": "#C8D4E3"
             },
             "line": {
              "color": "white"
             }
            },
            "type": "table"
           }
          ]
         },
         "layout": {
          "annotationdefaults": {
           "arrowcolor": "#2a3f5f",
           "arrowhead": 0,
           "arrowwidth": 1
          },
          "autotypenumbers": "strict",
          "coloraxis": {
           "colorbar": {
            "outlinewidth": 0,
            "ticks": ""
           }
          },
          "colorscale": {
           "diverging": [
            [
             0,
             "#8e0152"
            ],
            [
             0.1,
             "#c51b7d"
            ],
            [
             0.2,
             "#de77ae"
            ],
            [
             0.3,
             "#f1b6da"
            ],
            [
             0.4,
             "#fde0ef"
            ],
            [
             0.5,
             "#f7f7f7"
            ],
            [
             0.6,
             "#e6f5d0"
            ],
            [
             0.7,
             "#b8e186"
            ],
            [
             0.8,
             "#7fbc41"
            ],
            [
             0.9,
             "#4d9221"
            ],
            [
             1,
             "#276419"
            ]
           ],
           "sequential": [
            [
             0,
             "#0d0887"
            ],
            [
             0.1111111111111111,
             "#46039f"
            ],
            [
             0.2222222222222222,
             "#7201a8"
            ],
            [
             0.3333333333333333,
             "#9c179e"
            ],
            [
             0.4444444444444444,
             "#bd3786"
            ],
            [
             0.5555555555555556,
             "#d8576b"
            ],
            [
             0.6666666666666666,
             "#ed7953"
            ],
            [
             0.7777777777777778,
             "#fb9f3a"
            ],
            [
             0.8888888888888888,
             "#fdca26"
            ],
            [
             1,
             "#f0f921"
            ]
           ],
           "sequentialminus": [
            [
             0,
             "#0d0887"
            ],
            [
             0.1111111111111111,
             "#46039f"
            ],
            [
             0.2222222222222222,
             "#7201a8"
            ],
            [
             0.3333333333333333,
             "#9c179e"
            ],
            [
             0.4444444444444444,
             "#bd3786"
            ],
            [
             0.5555555555555556,
             "#d8576b"
            ],
            [
             0.6666666666666666,
             "#ed7953"
            ],
            [
             0.7777777777777778,
             "#fb9f3a"
            ],
            [
             0.8888888888888888,
             "#fdca26"
            ],
            [
             1,
             "#f0f921"
            ]
           ]
          },
          "colorway": [
           "#636efa",
           "#EF553B",
           "#00cc96",
           "#ab63fa",
           "#FFA15A",
           "#19d3f3",
           "#FF6692",
           "#B6E880",
           "#FF97FF",
           "#FECB52"
          ],
          "font": {
           "color": "#2a3f5f"
          },
          "geo": {
           "bgcolor": "white",
           "lakecolor": "white",
           "landcolor": "#E5ECF6",
           "showlakes": true,
           "showland": true,
           "subunitcolor": "white"
          },
          "hoverlabel": {
           "align": "left"
          },
          "hovermode": "closest",
          "mapbox": {
           "style": "light"
          },
          "paper_bgcolor": "white",
          "plot_bgcolor": "#E5ECF6",
          "polar": {
           "angularaxis": {
            "gridcolor": "white",
            "linecolor": "white",
            "ticks": ""
           },
           "bgcolor": "#E5ECF6",
           "radialaxis": {
            "gridcolor": "white",
            "linecolor": "white",
            "ticks": ""
           }
          },
          "scene": {
           "xaxis": {
            "backgroundcolor": "#E5ECF6",
            "gridcolor": "white",
            "gridwidth": 2,
            "linecolor": "white",
            "showbackground": true,
            "ticks": "",
            "zerolinecolor": "white"
           },
           "yaxis": {
            "backgroundcolor": "#E5ECF6",
            "gridcolor": "white",
            "gridwidth": 2,
            "linecolor": "white",
            "showbackground": true,
            "ticks": "",
            "zerolinecolor": "white"
           },
           "zaxis": {
            "backgroundcolor": "#E5ECF6",
            "gridcolor": "white",
            "gridwidth": 2,
            "linecolor": "white",
            "showbackground": true,
            "ticks": "",
            "zerolinecolor": "white"
           }
          },
          "shapedefaults": {
           "line": {
            "color": "#2a3f5f"
           }
          },
          "ternary": {
           "aaxis": {
            "gridcolor": "white",
            "linecolor": "white",
            "ticks": ""
           },
           "baxis": {
            "gridcolor": "white",
            "linecolor": "white",
            "ticks": ""
           },
           "bgcolor": "#E5ECF6",
           "caxis": {
            "gridcolor": "white",
            "linecolor": "white",
            "ticks": ""
           }
          },
          "title": {
           "x": 0.05
          },
          "xaxis": {
           "automargin": true,
           "gridcolor": "white",
           "linecolor": "white",
           "ticks": "",
           "title": {
            "standoff": 15
           },
           "zerolinecolor": "white",
           "zerolinewidth": 2
          },
          "yaxis": {
           "automargin": true,
           "gridcolor": "white",
           "linecolor": "white",
           "ticks": "",
           "title": {
            "standoff": 15
           },
           "zerolinecolor": "white",
           "zerolinewidth": 2
          }
         }
        },
        "title": {
         "text": "Taux de suicide annuel "
        },
        "xaxis": {
         "title": {
          "text": "Years"
         }
        },
        "yaxis": {
         "title": {
          "text": "Taux de suicide"
         }
        }
       }
      },
      "text/html": [
       "<div>                            <div id=\"eedcdbc2-22d5-46f3-9fa9-aca472e37c06\" class=\"plotly-graph-div\" style=\"height:525px; width:100%;\"></div>            <script type=\"text/javascript\">                require([\"plotly\"], function(Plotly) {                    window.PLOTLYENV=window.PLOTLYENV || {};                                    if (document.getElementById(\"eedcdbc2-22d5-46f3-9fa9-aca472e37c06\")) {                    Plotly.newPlot(                        \"eedcdbc2-22d5-46f3-9fa9-aca472e37c06\",                        [{\"mode\": \"lines+markers\", \"type\": \"scatter\", \"x\": [1985, 1986, 1987, 1988, 1989, 1990, 1991, 1992, 1993, 1994, 1995, 1996, 1997, 1998, 1999, 2000, 2001, 2002, 2003, 2004, 2005, 2006, 2007, 2008, 2009, 2010, 2011, 2012, 2013, 2014, 2015, 2016], \"y\": [201.49826388888889, 209.49652777777777, 195.74382716049382, 205.8265306122449, 256.80128205128204, 251.77213541666666, 257.8385416666667, 271.1192307692308, 284.0576923076923, 284.390931372549, 260.1965811965812, 267.01839826839824, 260.54653679653677, 263.28164556962025, 257.1475903614458, 247.89922480620154, 237.3598484848485, 248.15406976744185, 248.13856589147287, 238.94940476190476, 232.51488095238096, 228.78529411764706, 226.1705426356589, 230.83039215686276, 227.98408239700373, 226.0435606060606, 229.15116279069767, 236.79012345679013, 232.49895833333332, 238.23076923076923, 273.7096774193548, 97.51875]}],                        {\"template\": {\"data\": {\"bar\": [{\"error_x\": {\"color\": \"#2a3f5f\"}, \"error_y\": {\"color\": \"#2a3f5f\"}, \"marker\": {\"line\": {\"color\": \"#E5ECF6\", \"width\": 0.5}}, \"type\": \"bar\"}], \"barpolar\": [{\"marker\": {\"line\": {\"color\": \"#E5ECF6\", \"width\": 0.5}}, \"type\": \"barpolar\"}], \"carpet\": [{\"aaxis\": {\"endlinecolor\": \"#2a3f5f\", \"gridcolor\": \"white\", \"linecolor\": \"white\", \"minorgridcolor\": \"white\", \"startlinecolor\": \"#2a3f5f\"}, \"baxis\": {\"endlinecolor\": \"#2a3f5f\", \"gridcolor\": \"white\", \"linecolor\": \"white\", \"minorgridcolor\": \"white\", \"startlinecolor\": \"#2a3f5f\"}, \"type\": \"carpet\"}], \"choropleth\": [{\"colorbar\": {\"outlinewidth\": 0, \"ticks\": \"\"}, \"type\": \"choropleth\"}], \"contour\": [{\"colorbar\": {\"outlinewidth\": 0, \"ticks\": \"\"}, \"colorscale\": [[0.0, \"#0d0887\"], [0.1111111111111111, \"#46039f\"], [0.2222222222222222, \"#7201a8\"], [0.3333333333333333, \"#9c179e\"], [0.4444444444444444, \"#bd3786\"], [0.5555555555555556, \"#d8576b\"], [0.6666666666666666, \"#ed7953\"], [0.7777777777777778, \"#fb9f3a\"], [0.8888888888888888, \"#fdca26\"], [1.0, \"#f0f921\"]], \"type\": \"contour\"}], \"contourcarpet\": [{\"colorbar\": {\"outlinewidth\": 0, \"ticks\": \"\"}, \"type\": \"contourcarpet\"}], \"heatmap\": [{\"colorbar\": {\"outlinewidth\": 0, \"ticks\": \"\"}, \"colorscale\": [[0.0, \"#0d0887\"], [0.1111111111111111, \"#46039f\"], [0.2222222222222222, \"#7201a8\"], [0.3333333333333333, \"#9c179e\"], [0.4444444444444444, \"#bd3786\"], [0.5555555555555556, \"#d8576b\"], [0.6666666666666666, \"#ed7953\"], [0.7777777777777778, \"#fb9f3a\"], [0.8888888888888888, \"#fdca26\"], [1.0, \"#f0f921\"]], \"type\": \"heatmap\"}], \"heatmapgl\": [{\"colorbar\": {\"outlinewidth\": 0, \"ticks\": \"\"}, \"colorscale\": [[0.0, \"#0d0887\"], [0.1111111111111111, \"#46039f\"], [0.2222222222222222, \"#7201a8\"], [0.3333333333333333, \"#9c179e\"], [0.4444444444444444, \"#bd3786\"], [0.5555555555555556, \"#d8576b\"], [0.6666666666666666, \"#ed7953\"], [0.7777777777777778, \"#fb9f3a\"], [0.8888888888888888, \"#fdca26\"], [1.0, \"#f0f921\"]], \"type\": \"heatmapgl\"}], \"histogram\": [{\"marker\": {\"colorbar\": {\"outlinewidth\": 0, \"ticks\": \"\"}}, \"type\": \"histogram\"}], \"histogram2d\": [{\"colorbar\": {\"outlinewidth\": 0, \"ticks\": \"\"}, \"colorscale\": [[0.0, \"#0d0887\"], [0.1111111111111111, \"#46039f\"], [0.2222222222222222, \"#7201a8\"], [0.3333333333333333, \"#9c179e\"], [0.4444444444444444, \"#bd3786\"], [0.5555555555555556, \"#d8576b\"], [0.6666666666666666, \"#ed7953\"], [0.7777777777777778, \"#fb9f3a\"], [0.8888888888888888, \"#fdca26\"], [1.0, \"#f0f921\"]], \"type\": \"histogram2d\"}], \"histogram2dcontour\": [{\"colorbar\": {\"outlinewidth\": 0, \"ticks\": \"\"}, \"colorscale\": [[0.0, \"#0d0887\"], [0.1111111111111111, \"#46039f\"], [0.2222222222222222, \"#7201a8\"], [0.3333333333333333, \"#9c179e\"], [0.4444444444444444, \"#bd3786\"], [0.5555555555555556, \"#d8576b\"], [0.6666666666666666, \"#ed7953\"], [0.7777777777777778, \"#fb9f3a\"], [0.8888888888888888, \"#fdca26\"], [1.0, \"#f0f921\"]], \"type\": \"histogram2dcontour\"}], \"mesh3d\": [{\"colorbar\": {\"outlinewidth\": 0, \"ticks\": \"\"}, \"type\": \"mesh3d\"}], \"parcoords\": [{\"line\": {\"colorbar\": {\"outlinewidth\": 0, \"ticks\": \"\"}}, \"type\": \"parcoords\"}], \"pie\": [{\"automargin\": true, \"type\": \"pie\"}], \"scatter\": [{\"marker\": {\"colorbar\": {\"outlinewidth\": 0, \"ticks\": \"\"}}, \"type\": \"scatter\"}], \"scatter3d\": [{\"line\": {\"colorbar\": {\"outlinewidth\": 0, \"ticks\": \"\"}}, \"marker\": {\"colorbar\": {\"outlinewidth\": 0, \"ticks\": \"\"}}, \"type\": \"scatter3d\"}], \"scattercarpet\": [{\"marker\": {\"colorbar\": {\"outlinewidth\": 0, \"ticks\": \"\"}}, \"type\": \"scattercarpet\"}], \"scattergeo\": [{\"marker\": {\"colorbar\": {\"outlinewidth\": 0, \"ticks\": \"\"}}, \"type\": \"scattergeo\"}], \"scattergl\": [{\"marker\": {\"colorbar\": {\"outlinewidth\": 0, \"ticks\": \"\"}}, \"type\": \"scattergl\"}], \"scattermapbox\": [{\"marker\": {\"colorbar\": {\"outlinewidth\": 0, \"ticks\": \"\"}}, \"type\": \"scattermapbox\"}], \"scatterpolar\": [{\"marker\": {\"colorbar\": {\"outlinewidth\": 0, \"ticks\": \"\"}}, \"type\": \"scatterpolar\"}], \"scatterpolargl\": [{\"marker\": {\"colorbar\": {\"outlinewidth\": 0, \"ticks\": \"\"}}, \"type\": \"scatterpolargl\"}], \"scatterternary\": [{\"marker\": {\"colorbar\": {\"outlinewidth\": 0, \"ticks\": \"\"}}, \"type\": \"scatterternary\"}], \"surface\": [{\"colorbar\": {\"outlinewidth\": 0, \"ticks\": \"\"}, \"colorscale\": [[0.0, \"#0d0887\"], [0.1111111111111111, \"#46039f\"], [0.2222222222222222, \"#7201a8\"], [0.3333333333333333, \"#9c179e\"], [0.4444444444444444, \"#bd3786\"], [0.5555555555555556, \"#d8576b\"], [0.6666666666666666, \"#ed7953\"], [0.7777777777777778, \"#fb9f3a\"], [0.8888888888888888, \"#fdca26\"], [1.0, \"#f0f921\"]], \"type\": \"surface\"}], \"table\": [{\"cells\": {\"fill\": {\"color\": \"#EBF0F8\"}, \"line\": {\"color\": \"white\"}}, \"header\": {\"fill\": {\"color\": \"#C8D4E3\"}, \"line\": {\"color\": \"white\"}}, \"type\": \"table\"}]}, \"layout\": {\"annotationdefaults\": {\"arrowcolor\": \"#2a3f5f\", \"arrowhead\": 0, \"arrowwidth\": 1}, \"autotypenumbers\": \"strict\", \"coloraxis\": {\"colorbar\": {\"outlinewidth\": 0, \"ticks\": \"\"}}, \"colorscale\": {\"diverging\": [[0, \"#8e0152\"], [0.1, \"#c51b7d\"], [0.2, \"#de77ae\"], [0.3, \"#f1b6da\"], [0.4, \"#fde0ef\"], [0.5, \"#f7f7f7\"], [0.6, \"#e6f5d0\"], [0.7, \"#b8e186\"], [0.8, \"#7fbc41\"], [0.9, \"#4d9221\"], [1, \"#276419\"]], \"sequential\": [[0.0, \"#0d0887\"], [0.1111111111111111, \"#46039f\"], [0.2222222222222222, \"#7201a8\"], [0.3333333333333333, \"#9c179e\"], [0.4444444444444444, \"#bd3786\"], [0.5555555555555556, \"#d8576b\"], [0.6666666666666666, \"#ed7953\"], [0.7777777777777778, \"#fb9f3a\"], [0.8888888888888888, \"#fdca26\"], [1.0, \"#f0f921\"]], \"sequentialminus\": [[0.0, \"#0d0887\"], [0.1111111111111111, \"#46039f\"], [0.2222222222222222, \"#7201a8\"], [0.3333333333333333, \"#9c179e\"], [0.4444444444444444, \"#bd3786\"], [0.5555555555555556, \"#d8576b\"], [0.6666666666666666, \"#ed7953\"], [0.7777777777777778, \"#fb9f3a\"], [0.8888888888888888, \"#fdca26\"], [1.0, \"#f0f921\"]]}, \"colorway\": [\"#636efa\", \"#EF553B\", \"#00cc96\", \"#ab63fa\", \"#FFA15A\", \"#19d3f3\", \"#FF6692\", \"#B6E880\", \"#FF97FF\", \"#FECB52\"], \"font\": {\"color\": \"#2a3f5f\"}, \"geo\": {\"bgcolor\": \"white\", \"lakecolor\": \"white\", \"landcolor\": \"#E5ECF6\", \"showlakes\": true, \"showland\": true, \"subunitcolor\": \"white\"}, \"hoverlabel\": {\"align\": \"left\"}, \"hovermode\": \"closest\", \"mapbox\": {\"style\": \"light\"}, \"paper_bgcolor\": \"white\", \"plot_bgcolor\": \"#E5ECF6\", \"polar\": {\"angularaxis\": {\"gridcolor\": \"white\", \"linecolor\": \"white\", \"ticks\": \"\"}, \"bgcolor\": \"#E5ECF6\", \"radialaxis\": {\"gridcolor\": \"white\", \"linecolor\": \"white\", \"ticks\": \"\"}}, \"scene\": {\"xaxis\": {\"backgroundcolor\": \"#E5ECF6\", \"gridcolor\": \"white\", \"gridwidth\": 2, \"linecolor\": \"white\", \"showbackground\": true, \"ticks\": \"\", \"zerolinecolor\": \"white\"}, \"yaxis\": {\"backgroundcolor\": \"#E5ECF6\", \"gridcolor\": \"white\", \"gridwidth\": 2, \"linecolor\": \"white\", \"showbackground\": true, \"ticks\": \"\", \"zerolinecolor\": \"white\"}, \"zaxis\": {\"backgroundcolor\": \"#E5ECF6\", \"gridcolor\": \"white\", \"gridwidth\": 2, \"linecolor\": \"white\", \"showbackground\": true, \"ticks\": \"\", \"zerolinecolor\": \"white\"}}, \"shapedefaults\": {\"line\": {\"color\": \"#2a3f5f\"}}, \"ternary\": {\"aaxis\": {\"gridcolor\": \"white\", \"linecolor\": \"white\", \"ticks\": \"\"}, \"baxis\": {\"gridcolor\": \"white\", \"linecolor\": \"white\", \"ticks\": \"\"}, \"bgcolor\": \"#E5ECF6\", \"caxis\": {\"gridcolor\": \"white\", \"linecolor\": \"white\", \"ticks\": \"\"}}, \"title\": {\"x\": 0.05}, \"xaxis\": {\"automargin\": true, \"gridcolor\": \"white\", \"linecolor\": \"white\", \"ticks\": \"\", \"title\": {\"standoff\": 15}, \"zerolinecolor\": \"white\", \"zerolinewidth\": 2}, \"yaxis\": {\"automargin\": true, \"gridcolor\": \"white\", \"linecolor\": \"white\", \"ticks\": \"\", \"title\": {\"standoff\": 15}, \"zerolinecolor\": \"white\", \"zerolinewidth\": 2}}}, \"title\": {\"text\": \"Taux de suicide annuel \"}, \"xaxis\": {\"title\": {\"text\": \"Years\"}}, \"yaxis\": {\"title\": {\"text\": \"Taux de suicide\"}}},                        {\"responsive\": true}                    ).then(function(){\n",
       "                            \n",
       "var gd = document.getElementById('eedcdbc2-22d5-46f3-9fa9-aca472e37c06');\n",
       "var x = new MutationObserver(function (mutations, observer) {{\n",
       "        var display = window.getComputedStyle(gd).display;\n",
       "        if (!display || display === 'none') {{\n",
       "            console.log([gd, 'removed!']);\n",
       "            Plotly.purge(gd);\n",
       "            observer.disconnect();\n",
       "        }}\n",
       "}});\n",
       "\n",
       "// Listen for the removal of the full notebook cells\n",
       "var notebookContainer = gd.closest('#notebook-container');\n",
       "if (notebookContainer) {{\n",
       "    x.observe(notebookContainer, {childList: true});\n",
       "}}\n",
       "\n",
       "// Listen for the clearing of the current output cell\n",
       "var outputEl = gd.closest('.output');\n",
       "if (outputEl) {{\n",
       "    x.observe(outputEl, {childList: true});\n",
       "}}\n",
       "\n",
       "                        })                };                });            </script>        </div>"
      ]
     },
     "metadata": {},
     "output_type": "display_data"
    }
   ],
   "source": [
    "# Le taux de population et de suicide par année\n",
    "yearly_suicide = df_pandas.groupby('year').mean()\n",
    "yearly_population = pd.DataFrame({\n",
    "    'population' : yearly_suicide.population\n",
    "})\n",
    "    \n",
    "yearly_suicide_no = pd.DataFrame({\n",
    "    'suicide_no' : yearly_suicide.suicides_no\n",
    "})\n",
    "\n",
    "\n",
    "\n",
    "trace0 = go.Scatter(\n",
    "    x = yearly_population.index,\n",
    "    y = yearly_population.population,\n",
    "    mode = 'lines+markers',\n",
    ")\n",
    "layout1 = go.Layout(\n",
    "    title=\"Taux de population  annuel\",\n",
    "    xaxis={\n",
    "        'title':\"Years\",\n",
    "    },\n",
    "    yaxis={\n",
    "        'title':\"Nombre de population\",\n",
    "    }\n",
    ")\n",
    "\n",
    "data1 = [trace0]\n",
    "figure=go.Figure(data=data1,layout=layout1)\n",
    "py.offline.iplot(figure)\n",
    "trace1 = go.Scatter(\n",
    "    x = yearly_suicide_no.index,\n",
    "    y = yearly_suicide_no.suicide_no,\n",
    "    mode = 'lines+markers',\n",
    ")\n",
    "\n",
    "layout2 = go.Layout(\n",
    "    title=\"Taux de suicide annuel \",\n",
    "    xaxis={\n",
    "        'title':\"Years\",\n",
    "    },\n",
    "    yaxis={\n",
    "        'title':\"Taux de suicide\",\n",
    "    }\n",
    ")\n",
    "\n",
    "data2 = [trace1]\n",
    "figure1=go.Figure(data=data2,layout=layout2)\n",
    "py.offline.iplot(figure1)"
   ]
  },
  {
   "cell_type": "code",
   "execution_count": null,
   "metadata": {},
   "outputs": [],
   "source": []
  },
  {
   "cell_type": "code",
   "execution_count": null,
   "metadata": {},
   "outputs": [],
   "source": []
  },
  {
   "cell_type": "code",
   "execution_count": null,
   "metadata": {},
   "outputs": [],
   "source": []
  }
 ],
 "metadata": {
  "kernelspec": {
   "display_name": "Python 3",
   "language": "python",
   "name": "python3"
  },
  "language_info": {
   "codemirror_mode": {
    "name": "ipython",
    "version": 3
   },
   "file_extension": ".py",
   "mimetype": "text/x-python",
   "name": "python",
   "nbconvert_exporter": "python",
   "pygments_lexer": "ipython3",
   "version": "3.8.3"
  }
 },
 "nbformat": 4,
 "nbformat_minor": 4
}
